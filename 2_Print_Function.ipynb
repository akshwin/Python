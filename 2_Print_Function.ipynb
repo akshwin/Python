{
 "cells": [
  {
   "cell_type": "markdown",
   "id": "48efcb6b-fd09-4cbc-bf73-041b917576eb",
   "metadata": {},
   "source": [
    "# PRINT FUNCTION "
   ]
  },
  {
   "cell_type": "code",
   "execution_count": 1,
   "id": "b7d29c3e-dabe-4eec-9ad2-2b155927ed8c",
   "metadata": {},
   "outputs": [
    {
     "name": "stdout",
     "output_type": "stream",
     "text": [
      "Tony\n"
     ]
    }
   ],
   "source": [
    "# PRIN\n",
    "print('Tony')"
   ]
  },
  {
   "cell_type": "code",
   "execution_count": 2,
   "id": "3f589b29-0667-4e7c-8ed5-ddcc8c717c01",
   "metadata": {},
   "outputs": [
    {
     "name": "stdout",
     "output_type": "stream",
     "text": [
      "Tony Emma RDJ 21 32 50\n"
     ]
    }
   ],
   "source": [
    "# PRINT MULTIPLE VALUES \n",
    "print(\"Tony\",\"Emma\",\"RDJ\",21,32,50)"
   ]
  },
  {
   "cell_type": "code",
   "execution_count": 3,
   "id": "c3f812df-7f16-47fb-ac05-498d848df540",
   "metadata": {},
   "outputs": [
    {
     "name": "stdout",
     "output_type": "stream",
     "text": [
      "Tony\n",
      "Stark\n"
     ]
    }
   ],
   "source": [
    "print(\"Tony\")\n",
    "print(\"Stark\")"
   ]
  },
  {
   "cell_type": "code",
   "execution_count": 4,
   "id": "9897c44e-9ee5-4b22-8684-4f3ec8e83011",
   "metadata": {},
   "outputs": [
    {
     "data": {
      "text/plain": [
       "\u001b[1;31mDocstring:\u001b[0m\n",
       "print(value, ..., sep=' ', end='\\n', file=sys.stdout, flush=False)\n",
       "\n",
       "Prints the values to a stream, or to sys.stdout by default.\n",
       "Optional keyword arguments:\n",
       "file:  a file-like object (stream); defaults to the current sys.stdout.\n",
       "sep:   string inserted between values, default a space.\n",
       "end:   string appended after the last value, default a newline.\n",
       "flush: whether to forcibly flush the stream.\n",
       "\u001b[1;31mType:\u001b[0m      builtin_function_or_method"
      ]
     },
     "metadata": {},
     "output_type": "display_data"
    }
   ],
   "source": [
    "print?"
   ]
  },
  {
   "cell_type": "code",
   "execution_count": 5,
   "id": "293ba088-ba93-4733-9f50-1335491ab57a",
   "metadata": {},
   "outputs": [
    {
     "name": "stdout",
     "output_type": "stream",
     "text": [
      "Tony|Stark\n"
     ]
    }
   ],
   "source": [
    "# CHANGING THE DEFAULT SEPARATOR \n",
    "\n",
    "print(\"Tony\",\"Stark\",sep='|')"
   ]
  },
  {
   "cell_type": "code",
   "execution_count": 6,
   "id": "9c506fad-745e-4d86-8b0b-248334230fd8",
   "metadata": {},
   "outputs": [
    {
     "name": "stdout",
     "output_type": "stream",
     "text": [
      "Tony Stark\n"
     ]
    }
   ],
   "source": [
    "# CHANGING DEFAULT END \n",
    "\n",
    "print(\"Tony\",end = \" \")\n",
    "print(\"Stark\")"
   ]
  },
  {
   "cell_type": "code",
   "execution_count": 7,
   "id": "7260d80a-b449-4421-9dc9-9e6d70002a74",
   "metadata": {},
   "outputs": [
    {
     "name": "stdout",
     "output_type": "stream",
     "text": [
      "Tony\n",
      "55->Stark\n"
     ]
    }
   ],
   "source": [
    "print(\"Tony\",55 , sep = \"\\n\",end = \"->\")\n",
    "print(\"Stark\")"
   ]
  }
 ],
 "metadata": {
  "kernelspec": {
   "display_name": "Python 3 (ipykernel)",
   "language": "python",
   "name": "python3"
  },
  "language_info": {
   "codemirror_mode": {
    "name": "ipython",
    "version": 3
   },
   "file_extension": ".py",
   "mimetype": "text/x-python",
   "name": "python",
   "nbconvert_exporter": "python",
   "pygments_lexer": "ipython3",
   "version": "3.8.18"
  }
 },
 "nbformat": 4,
 "nbformat_minor": 5
}
