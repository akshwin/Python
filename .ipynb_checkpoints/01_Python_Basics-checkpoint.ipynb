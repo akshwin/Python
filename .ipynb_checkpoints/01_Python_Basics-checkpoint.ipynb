{
 "cells": [
  {
   "cell_type": "markdown",
   "id": "f18d1fbe-a9fe-4a28-a15c-0fba181517bf",
   "metadata": {},
   "source": [
    "# BASICS OF PYTHON "
   ]
  },
  {
   "cell_type": "markdown",
   "id": "1a5fd62f-44aa-4cb9-9020-d391bfeb5d2a",
   "metadata": {},
   "source": [
    "**HELLO WORLD**"
   ]
  },
  {
   "cell_type": "code",
   "execution_count": 1,
   "id": "ce0cbffc-f645-4700-bcf7-8cacdc259773",
   "metadata": {},
   "outputs": [
    {
     "name": "stdout",
     "output_type": "stream",
     "text": [
      "Hello world\n"
     ]
    }
   ],
   "source": [
    "print(\"Hello world\")"
   ]
  },
  {
   "cell_type": "markdown",
   "id": "c8d81515-e5f4-481b-a3ae-d1cef81edee2",
   "metadata": {},
   "source": [
    "**VARIABLES**"
   ]
  },
  {
   "cell_type": "markdown",
   "id": "ab43beb8-9649-4c32-a15b-2db1b5056f39",
   "metadata": {},
   "source": [
    "PLACE HOLDERS FOR STORING DATA \n",
    "\n",
    "CAN START WITH LETTER OR UNDESCORE\n",
    "\n",
    "CAN CONTAIN NUMBER,ALPHABETS AND UNDERSCORE \n",
    "\n",
    "VAIABLES CANT BE IDENTIFIERS "
   ]
  },
  {
   "cell_type": "code",
   "execution_count": 2,
   "id": "18b382f0-d2a3-40fb-bfe5-cb9e8a61eab2",
   "metadata": {},
   "outputs": [
    {
     "name": "stdout",
     "output_type": "stream",
     "text": [
      "5\n"
     ]
    }
   ],
   "source": [
    "a = 5\n",
    "print(a)"
   ]
  },
  {
   "cell_type": "code",
   "execution_count": 3,
   "id": "5609d646-edec-4f8f-b9ae-677bbe5df877",
   "metadata": {},
   "outputs": [
    {
     "name": "stdout",
     "output_type": "stream",
     "text": [
      "\n",
      "Here is a list of the Python keywords.  Enter any keyword to get more help.\n",
      "\n",
      "False               class               from                or\n",
      "None                continue            global              pass\n",
      "True                def                 if                  raise\n",
      "and                 del                 import              return\n",
      "as                  elif                in                  try\n",
      "assert              else                is                  while\n",
      "async               except              lambda              with\n",
      "await               finally             nonlocal            yield\n",
      "break               for                 not                 \n",
      "\n"
     ]
    }
   ],
   "source": [
    "help(\"keywords\")"
   ]
  },
  {
   "cell_type": "code",
   "execution_count": 4,
   "id": "59af2dff-1fbd-41d7-bda9-ab5e361d909d",
   "metadata": {},
   "outputs": [
    {
     "name": "stdout",
     "output_type": "stream",
     "text": [
      "34\n"
     ]
    }
   ],
   "source": [
    "a_12 = 34;\n",
    "print(a_12)"
   ]
  },
  {
   "cell_type": "markdown",
   "id": "82725f33-2606-44f4-8710-782501c9ce08",
   "metadata": {},
   "source": [
    "**STACK AND HEAP MEMORY**"
   ]
  },
  {
   "cell_type": "markdown",
   "id": "2eb6c660-7004-402a-9b47-7fbe9970614a",
   "metadata": {},
   "source": [
    "Stack-> variables is stores \n",
    "\n",
    "Heap-> Actual object(value) is stored in the heap . References from the stack to access the value."
   ]
  },
  {
   "cell_type": "markdown",
   "id": "2e6a541f-2d9a-4a95-baa9-0b99720f8969",
   "metadata": {},
   "source": [
    "**ID FUNCTION**"
   ]
  },
  {
   "cell_type": "code",
   "execution_count": 5,
   "id": "36240088-1e56-4a52-a8a9-27f37d87ca3c",
   "metadata": {},
   "outputs": [
    {
     "name": "stdout",
     "output_type": "stream",
     "text": [
      "140705480010800\n"
     ]
    }
   ],
   "source": [
    "x = 5 \n",
    "print(id(x))"
   ]
  },
  {
   "cell_type": "code",
   "execution_count": 6,
   "id": "617222a4-34b6-4951-a68a-2ab9ff09d300",
   "metadata": {},
   "outputs": [
    {
     "name": "stdout",
     "output_type": "stream",
     "text": [
      "140705480012080\n"
     ]
    }
   ],
   "source": [
    "x = 45 \n",
    "print(id(x))"
   ]
  },
  {
   "cell_type": "code",
   "execution_count": 7,
   "id": "b2c9d1ff-93e0-49c3-a05a-f39a3e094771",
   "metadata": {},
   "outputs": [
    {
     "name": "stdout",
     "output_type": "stream",
     "text": [
      "2675900439792\n"
     ]
    }
   ],
   "source": [
    "name = \"Rahul\"\n",
    "print(id(name))"
   ]
  },
  {
   "cell_type": "markdown",
   "id": "04fa2fe6-427b-4a11-a203-60dc13d9e2a7",
   "metadata": {},
   "source": [
    "**PYTHON COMMENTS**"
   ]
  },
  {
   "cell_type": "code",
   "execution_count": 8,
   "id": "68259b68-4dca-4fab-b13b-0e22d9ba0156",
   "metadata": {},
   "outputs": [],
   "source": [
    "# This is a variable \n",
    "a = 12"
   ]
  },
  {
   "cell_type": "markdown",
   "id": "29adc94a-4c1d-4a40-bbff-666644da52b6",
   "metadata": {},
   "source": [
    "**DATATYPES**"
   ]
  },
  {
   "cell_type": "code",
   "execution_count": 9,
   "id": "0156fcd3-86c5-4389-b7c4-f6174d726094",
   "metadata": {},
   "outputs": [
    {
     "name": "stdout",
     "output_type": "stream",
     "text": [
      "12\n",
      "<class 'int'>\n"
     ]
    }
   ],
   "source": [
    "# INTEGER \n",
    "\n",
    "number = 12\n",
    "print(number)\n",
    "print(type(number))"
   ]
  },
  {
   "cell_type": "code",
   "execution_count": 10,
   "id": "47ffb4e5-fe66-4cc4-9228-0f183b9293f2",
   "metadata": {},
   "outputs": [
    {
     "name": "stdout",
     "output_type": "stream",
     "text": [
      "3.0\n",
      "<class 'float'>\n"
     ]
    }
   ],
   "source": [
    "# FLOATS \n",
    "\n",
    "float = 3.0 \n",
    "print(float)\n",
    "print(type(float))"
   ]
  },
  {
   "cell_type": "code",
   "execution_count": 11,
   "id": "551fd65b-a96d-4fea-af62-4847f1071cad",
   "metadata": {},
   "outputs": [
    {
     "name": "stdout",
     "output_type": "stream",
     "text": [
      "True\n",
      "<class 'bool'>\n"
     ]
    }
   ],
   "source": [
    "# BOOLEAN \n",
    "\n",
    "bool = True \n",
    "print(bool)\n",
    "print(type(bool))"
   ]
  },
  {
   "cell_type": "code",
   "execution_count": 12,
   "id": "59e4176e-9145-4ccd-a49f-15f15d146165",
   "metadata": {},
   "outputs": [
    {
     "name": "stdout",
     "output_type": "stream",
     "text": [
      "Tony Stark\n",
      "<class 'str'>\n"
     ]
    }
   ],
   "source": [
    "# STRINGS \n",
    "\n",
    "s = \"Tony Stark\"\n",
    "print(s)\n",
    "print(type(s))"
   ]
  },
  {
   "cell_type": "code",
   "execution_count": 13,
   "id": "58f15726-661f-4846-81b0-57ea04f4bbe0",
   "metadata": {},
   "outputs": [
    {
     "name": "stdout",
     "output_type": "stream",
     "text": [
      " This is a multiline string\n",
      "<class 'str'>\n"
     ]
    }
   ],
   "source": [
    "m = \"\"\" This is a multiline string\"\"\"\n",
    "print(m)\n",
    "print(type(m))"
   ]
  },
  {
   "cell_type": "code",
   "execution_count": 14,
   "id": "64e92881-c83c-4601-a558-f1cfb686e716",
   "metadata": {},
   "outputs": [
    {
     "name": "stdout",
     "output_type": "stream",
     "text": [
      "None\n",
      "<class 'NoneType'>\n"
     ]
    }
   ],
   "source": [
    "# NONE \n",
    "\n",
    "n = None\n",
    "print(n)\n",
    "print(type(n))"
   ]
  },
  {
   "cell_type": "markdown",
   "id": "4d5e4bf0-99f7-402a-9c48-80aa7b8a47f9",
   "metadata": {},
   "source": [
    "**INPUT FUNCTION**"
   ]
  },
  {
   "cell_type": "code",
   "execution_count": 17,
   "id": "2e2b229c-588e-438a-9adb-f21f666e30c2",
   "metadata": {},
   "outputs": [
    {
     "name": "stdin",
     "output_type": "stream",
     "text": [
      " 23\n"
     ]
    }
   ],
   "source": [
    "name = input()"
   ]
  },
  {
   "cell_type": "code",
   "execution_count": 18,
   "id": "c08c29a0-c9ce-49d4-b08b-14e804e0f74d",
   "metadata": {},
   "outputs": [
    {
     "name": "stdout",
     "output_type": "stream",
     "text": [
      "23\n",
      "<class 'str'>\n"
     ]
    }
   ],
   "source": [
    "print(name)\n",
    "print(type(name))"
   ]
  },
  {
   "cell_type": "code",
   "execution_count": 19,
   "id": "2747af7c-9ee3-48ac-aaea-1c2e22719b75",
   "metadata": {},
   "outputs": [
    {
     "name": "stdin",
     "output_type": "stream",
     "text": [
      " 23\n"
     ]
    }
   ],
   "source": [
    "number = input()"
   ]
  },
  {
   "cell_type": "code",
   "execution_count": 20,
   "id": "68699a0c-2e86-4b98-bb3d-c53f98126078",
   "metadata": {},
   "outputs": [
    {
     "name": "stdout",
     "output_type": "stream",
     "text": [
      "23\n",
      "<class 'str'>\n"
     ]
    }
   ],
   "source": [
    "print(number)\n",
    "print(type(number))"
   ]
  }
 ],
 "metadata": {
  "kernelspec": {
   "display_name": "Python 3 (ipykernel)",
   "language": "python",
   "name": "python3"
  },
  "language_info": {
   "codemirror_mode": {
    "name": "ipython",
    "version": 3
   },
   "file_extension": ".py",
   "mimetype": "text/x-python",
   "name": "python",
   "nbconvert_exporter": "python",
   "pygments_lexer": "ipython3",
   "version": "3.8.18"
  }
 },
 "nbformat": 4,
 "nbformat_minor": 5
}
