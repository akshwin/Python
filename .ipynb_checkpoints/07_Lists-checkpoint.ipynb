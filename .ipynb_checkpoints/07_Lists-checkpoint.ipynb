{
 "cells": [
  {
   "cell_type": "markdown",
   "id": "4e6b84d6-9244-41d5-86b7-35aa37ace7f8",
   "metadata": {},
   "source": [
    "# DATA STRUCTURES "
   ]
  },
  {
   "cell_type": "markdown",
   "id": "3c3d3102-ec62-4b2d-89b1-5d6a1d83f36e",
   "metadata": {},
   "source": [
    "    Data structure -> organised form of data \n",
    "    List\n",
    "    Tuple\n",
    "    Sets\n",
    "    Dictionary"
   ]
  },
  {
   "cell_type": "markdown",
   "id": "89067add-9f8f-486d-b123-d15e56e947f2",
   "metadata": {},
   "source": [
    "# LISTS"
   ]
  },
  {
   "cell_type": "markdown",
   "id": "5c58a2c1-4b04-40fb-8821-f52ea90266ee",
   "metadata": {},
   "source": [
    "    # Ordered collection of data\n",
    "    # Mutable (Chnageable)\n",
    "    # Multiple data types are allowed \n",
    "    # Iterable"
   ]
  },
  {
   "cell_type": "code",
   "execution_count": 1,
   "id": "71fce488-9541-48cd-91cb-8ff7ae7a5ca0",
   "metadata": {},
   "outputs": [
    {
     "name": "stdout",
     "output_type": "stream",
     "text": [
      "<class 'list'>\n"
     ]
    }
   ],
   "source": [
    "l = list()\n",
    "print(type(l))"
   ]
  },
  {
   "cell_type": "code",
   "execution_count": 2,
   "id": "25b337e3-ed20-472f-97fa-ca465a209fbc",
   "metadata": {},
   "outputs": [
    {
     "data": {
      "text/plain": [
       "list"
      ]
     },
     "execution_count": 2,
     "metadata": {},
     "output_type": "execute_result"
    }
   ],
   "source": [
    "l1 = [1,2,3]\n",
    "type(l1)"
   ]
  },
  {
   "cell_type": "code",
   "execution_count": 3,
   "id": "5e3d05b7-a54b-40b3-8564-fa63b4ad70e4",
   "metadata": {},
   "outputs": [
    {
     "data": {
      "text/plain": [
       "3"
      ]
     },
     "execution_count": 3,
     "metadata": {},
     "output_type": "execute_result"
    }
   ],
   "source": [
    "len(l1)"
   ]
  },
  {
   "cell_type": "code",
   "execution_count": 4,
   "id": "28137875-e86c-43e6-98fe-1a58f1b65eb3",
   "metadata": {},
   "outputs": [],
   "source": [
    "# ACCESSING DATA "
   ]
  },
  {
   "cell_type": "code",
   "execution_count": 5,
   "id": "6f49270b-5ec3-4021-8643-e76b743ef68a",
   "metadata": {},
   "outputs": [
    {
     "data": {
      "text/plain": [
       "1"
      ]
     },
     "execution_count": 5,
     "metadata": {},
     "output_type": "execute_result"
    }
   ],
   "source": [
    "l1[0]"
   ]
  },
  {
   "cell_type": "code",
   "execution_count": 6,
   "id": "74368e1d-2115-499e-9cf5-bbfb3de899a4",
   "metadata": {},
   "outputs": [
    {
     "data": {
      "text/plain": [
       "[2, 3]"
      ]
     },
     "execution_count": 6,
     "metadata": {},
     "output_type": "execute_result"
    }
   ],
   "source": [
    "l1[1:4]"
   ]
  },
  {
   "cell_type": "code",
   "execution_count": 7,
   "id": "eeffe9bd-81b8-40e2-8612-99907ea41bbe",
   "metadata": {},
   "outputs": [
    {
     "data": {
      "text/plain": [
       "1"
      ]
     },
     "execution_count": 7,
     "metadata": {},
     "output_type": "execute_result"
    }
   ],
   "source": [
    "l1[-len(l1)]"
   ]
  },
  {
   "cell_type": "code",
   "execution_count": 8,
   "id": "cc22187e-b2f4-4ca1-8d50-6671ff430651",
   "metadata": {},
   "outputs": [
    {
     "data": {
      "text/plain": [
       "[1, 2, 3]"
      ]
     },
     "execution_count": 8,
     "metadata": {},
     "output_type": "execute_result"
    }
   ],
   "source": [
    "# MUTABLE \n",
    "l1"
   ]
  },
  {
   "cell_type": "code",
   "execution_count": 9,
   "id": "0979be99-86ab-45d2-90de-57e281af6d69",
   "metadata": {},
   "outputs": [
    {
     "data": {
      "text/plain": [
       "2362844175040"
      ]
     },
     "execution_count": 9,
     "metadata": {},
     "output_type": "execute_result"
    }
   ],
   "source": [
    "id(l1)"
   ]
  },
  {
   "cell_type": "code",
   "execution_count": 10,
   "id": "28bf5dfb-2901-4efa-913c-65f20dc13676",
   "metadata": {},
   "outputs": [],
   "source": [
    "l1[0] = 0"
   ]
  },
  {
   "cell_type": "code",
   "execution_count": 11,
   "id": "0acaa25f-fc47-452e-b390-3ebe4ac9891b",
   "metadata": {},
   "outputs": [
    {
     "data": {
      "text/plain": [
       "[0, 2, 3]"
      ]
     },
     "execution_count": 11,
     "metadata": {},
     "output_type": "execute_result"
    }
   ],
   "source": [
    "l1"
   ]
  },
  {
   "cell_type": "code",
   "execution_count": 12,
   "id": "d6345901-212f-48a2-a328-0d05598cbb38",
   "metadata": {},
   "outputs": [
    {
     "data": {
      "text/plain": [
       "2362844175040"
      ]
     },
     "execution_count": 12,
     "metadata": {},
     "output_type": "execute_result"
    }
   ],
   "source": [
    "id(l1)"
   ]
  },
  {
   "cell_type": "code",
   "execution_count": 13,
   "id": "69857753-c3c8-4d8e-a1a5-3e58b23463ff",
   "metadata": {},
   "outputs": [
    {
     "name": "stdout",
     "output_type": "stream",
     "text": [
      "0\n",
      "2\n",
      "3\n"
     ]
    }
   ],
   "source": [
    "for i in l1 : \n",
    "    print (i)"
   ]
  },
  {
   "cell_type": "markdown",
   "id": "9496260c-dded-49b3-b799-5f7bb60fc1b6",
   "metadata": {},
   "source": [
    "**LIST SLICING**"
   ]
  },
  {
   "cell_type": "code",
   "execution_count": 14,
   "id": "c199fb28-cd71-4f17-82d3-e66e4c5f2d1a",
   "metadata": {},
   "outputs": [],
   "source": [
    "l = [1,2,3,4]"
   ]
  },
  {
   "cell_type": "code",
   "execution_count": 15,
   "id": "fb92a2e7-7535-4df5-bbf6-d5477a36e8f2",
   "metadata": {},
   "outputs": [
    {
     "data": {
      "text/plain": [
       "4"
      ]
     },
     "execution_count": 15,
     "metadata": {},
     "output_type": "execute_result"
    }
   ],
   "source": [
    "len(l)"
   ]
  },
  {
   "cell_type": "code",
   "execution_count": 16,
   "id": "b7119a28-15e4-4575-8085-976518c6934d",
   "metadata": {},
   "outputs": [
    {
     "data": {
      "text/plain": [
       "[1, 2, 3, 4]"
      ]
     },
     "execution_count": 16,
     "metadata": {},
     "output_type": "execute_result"
    }
   ],
   "source": [
    "l[0:4]"
   ]
  },
  {
   "cell_type": "code",
   "execution_count": 17,
   "id": "9eae6682-062b-4a0f-bebd-92ce9ba6d885",
   "metadata": {},
   "outputs": [
    {
     "data": {
      "text/plain": [
       "[1, 2, 3]"
      ]
     },
     "execution_count": 17,
     "metadata": {},
     "output_type": "execute_result"
    }
   ],
   "source": [
    "l[0:3]"
   ]
  },
  {
   "cell_type": "code",
   "execution_count": 18,
   "id": "c520d85e-78fa-4a9f-82ac-747c4a7e9e51",
   "metadata": {},
   "outputs": [
    {
     "data": {
      "text/plain": [
       "[1, 2, 3, 4]"
      ]
     },
     "execution_count": 18,
     "metadata": {},
     "output_type": "execute_result"
    }
   ],
   "source": [
    "l[:4]"
   ]
  },
  {
   "cell_type": "code",
   "execution_count": 19,
   "id": "523fccec-2e4d-4f04-bee1-137c9cc79845",
   "metadata": {},
   "outputs": [
    {
     "data": {
      "text/plain": [
       "[1, 2, 3, 4]"
      ]
     },
     "execution_count": 19,
     "metadata": {},
     "output_type": "execute_result"
    }
   ],
   "source": [
    "l[0:]"
   ]
  },
  {
   "cell_type": "code",
   "execution_count": 20,
   "id": "0a82548b-1268-4487-a52c-b240153805f9",
   "metadata": {},
   "outputs": [
    {
     "data": {
      "text/plain": [
       "[4, 3, 2, 1]"
      ]
     },
     "execution_count": 20,
     "metadata": {},
     "output_type": "execute_result"
    }
   ],
   "source": [
    "l[::-1]"
   ]
  },
  {
   "cell_type": "code",
   "execution_count": 21,
   "id": "700cbc72-94d4-4abc-b8b2-4fc068cc2d75",
   "metadata": {},
   "outputs": [
    {
     "data": {
      "text/plain": [
       "[4, 3, 2]"
      ]
     },
     "execution_count": 21,
     "metadata": {},
     "output_type": "execute_result"
    }
   ],
   "source": [
    "l[4:0:-1]"
   ]
  },
  {
   "cell_type": "markdown",
   "id": "27747cf2-5a8f-4dcf-b37f-b6dba715359c",
   "metadata": {},
   "source": [
    "**LIST OPERATIONS**"
   ]
  },
  {
   "cell_type": "code",
   "execution_count": 22,
   "id": "dd8ba4a2-76b8-4d75-a396-9bdd82d72ae2",
   "metadata": {},
   "outputs": [
    {
     "data": {
      "text/plain": [
       "[1, 1, 2, 3, 4]"
      ]
     },
     "execution_count": 22,
     "metadata": {},
     "output_type": "execute_result"
    }
   ],
   "source": [
    "l = [1,1,2,3,4]\n",
    "l"
   ]
  },
  {
   "cell_type": "markdown",
   "id": "10872dce-e625-407e-8c80-ea19ea1ba544",
   "metadata": {},
   "source": [
    "**COUNT**"
   ]
  },
  {
   "cell_type": "code",
   "execution_count": 23,
   "id": "a1225dba-bfc0-4e19-9162-1d87b885a16c",
   "metadata": {},
   "outputs": [
    {
     "data": {
      "text/plain": [
       "2"
      ]
     },
     "execution_count": 23,
     "metadata": {},
     "output_type": "execute_result"
    }
   ],
   "source": [
    "l.count(1)"
   ]
  },
  {
   "cell_type": "code",
   "execution_count": 24,
   "id": "bab81b5d-7253-4bee-b868-fcd77a2a07fb",
   "metadata": {},
   "outputs": [
    {
     "data": {
      "text/plain": [
       "0"
      ]
     },
     "execution_count": 24,
     "metadata": {},
     "output_type": "execute_result"
    }
   ],
   "source": [
    "l.count(7)"
   ]
  },
  {
   "cell_type": "markdown",
   "id": "c474bf0f-0b0d-4382-a602-73c8928b9261",
   "metadata": {},
   "source": [
    "**INDEX**"
   ]
  },
  {
   "cell_type": "code",
   "execution_count": 25,
   "id": "f4c5785b-54cd-45a0-959f-b8d504b4efd0",
   "metadata": {},
   "outputs": [
    {
     "data": {
      "text/plain": [
       "2"
      ]
     },
     "execution_count": 25,
     "metadata": {},
     "output_type": "execute_result"
    }
   ],
   "source": [
    "l.index(2)"
   ]
  },
  {
   "cell_type": "code",
   "execution_count": 26,
   "id": "506f509c-c642-42aa-85e2-287b29f7a666",
   "metadata": {},
   "outputs": [],
   "source": [
    "name = [\"Harry\",\"Hermoine\",\"Ron\"]"
   ]
  },
  {
   "cell_type": "markdown",
   "id": "1558f909-1ded-441a-ae8e-b24b9f97ae8e",
   "metadata": {},
   "source": [
    "**POP**"
   ]
  },
  {
   "cell_type": "code",
   "execution_count": 27,
   "id": "67ba5246-e2f1-47ad-bf2a-5705afd38eb3",
   "metadata": {},
   "outputs": [],
   "source": [
    "drop = name.pop()"
   ]
  },
  {
   "cell_type": "code",
   "execution_count": 28,
   "id": "73dc0f43-7ae9-4fa4-af74-41b70881de1a",
   "metadata": {},
   "outputs": [
    {
     "data": {
      "text/plain": [
       "['Harry', 'Hermoine']"
      ]
     },
     "execution_count": 28,
     "metadata": {},
     "output_type": "execute_result"
    }
   ],
   "source": [
    "name"
   ]
  },
  {
   "cell_type": "code",
   "execution_count": 29,
   "id": "7491ebb3-20db-4974-8387-55ca1d3dd715",
   "metadata": {},
   "outputs": [
    {
     "data": {
      "text/plain": [
       "'Ron'"
      ]
     },
     "execution_count": 29,
     "metadata": {},
     "output_type": "execute_result"
    }
   ],
   "source": [
    "drop"
   ]
  },
  {
   "cell_type": "code",
   "execution_count": 30,
   "id": "2c4b3c2e-2d97-4e45-aedc-b8add6310889",
   "metadata": {},
   "outputs": [
    {
     "data": {
      "text/plain": [
       "['Harry', 'Hermoine']"
      ]
     },
     "execution_count": 30,
     "metadata": {},
     "output_type": "execute_result"
    }
   ],
   "source": [
    "name "
   ]
  },
  {
   "cell_type": "markdown",
   "id": "607a1ef8-5e65-42e6-ae6f-bfb4ca756c62",
   "metadata": {},
   "source": [
    "**REMOVE**"
   ]
  },
  {
   "cell_type": "code",
   "execution_count": 31,
   "id": "0952940a-7538-467c-8021-75bbe5fe261c",
   "metadata": {},
   "outputs": [],
   "source": [
    "name.remove('Harry')"
   ]
  },
  {
   "cell_type": "code",
   "execution_count": 32,
   "id": "c2cedf43-90be-4d5c-9fc6-d5268c2aacca",
   "metadata": {},
   "outputs": [
    {
     "data": {
      "text/plain": [
       "['Hermoine']"
      ]
     },
     "execution_count": 32,
     "metadata": {},
     "output_type": "execute_result"
    }
   ],
   "source": [
    "name"
   ]
  },
  {
   "cell_type": "code",
   "execution_count": 33,
   "id": "fb4ec769-18da-43f3-a33a-79e4a8e586a6",
   "metadata": {},
   "outputs": [],
   "source": [
    "l = [3,4,7,1]"
   ]
  },
  {
   "cell_type": "markdown",
   "id": "e59c19fe-482d-48a3-9c48-28ac33d52e62",
   "metadata": {},
   "source": [
    "**SORT**"
   ]
  },
  {
   "cell_type": "code",
   "execution_count": 34,
   "id": "2f3a89ce-31d1-4e20-916f-d3c878e8f150",
   "metadata": {},
   "outputs": [],
   "source": [
    " l.sort()"
   ]
  },
  {
   "cell_type": "code",
   "execution_count": 35,
   "id": "c89140a9-2458-474c-9532-85e061c0d74f",
   "metadata": {},
   "outputs": [
    {
     "data": {
      "text/plain": [
       "[1, 3, 4, 7]"
      ]
     },
     "execution_count": 35,
     "metadata": {},
     "output_type": "execute_result"
    }
   ],
   "source": [
    "l"
   ]
  },
  {
   "cell_type": "markdown",
   "id": "838fa8fd-5854-40c7-9a33-60c35906c00e",
   "metadata": {},
   "source": [
    "**INSERT**"
   ]
  },
  {
   "cell_type": "code",
   "execution_count": 36,
   "id": "1d6c10a6-cb6e-4909-a126-71b9c1ca2a5a",
   "metadata": {},
   "outputs": [],
   "source": [
    "l.insert(4,9)"
   ]
  },
  {
   "cell_type": "code",
   "execution_count": 37,
   "id": "b103d3eb-0c75-40e9-bb9c-6f307a2df4ae",
   "metadata": {},
   "outputs": [
    {
     "data": {
      "text/plain": [
       "[1, 3, 4, 7, 9]"
      ]
     },
     "execution_count": 37,
     "metadata": {},
     "output_type": "execute_result"
    }
   ],
   "source": [
    "l"
   ]
  },
  {
   "cell_type": "markdown",
   "id": "b8273f30-7f1a-427d-835f-34e96bb4b6d6",
   "metadata": {},
   "source": [
    "**APPEND VS EXTEND IN LIST**"
   ]
  },
  {
   "cell_type": "code",
   "execution_count": 38,
   "id": "4b1980b2-89f4-43a5-8be2-194e19d41a47",
   "metadata": {},
   "outputs": [],
   "source": [
    "l = [1,2,3,4,5]"
   ]
  },
  {
   "cell_type": "code",
   "execution_count": 39,
   "id": "44e1ed4e-38e7-4c85-94cb-81fe45a87db7",
   "metadata": {},
   "outputs": [],
   "source": [
    "l.append('tony')"
   ]
  },
  {
   "cell_type": "code",
   "execution_count": 40,
   "id": "f37ce3bf-bf24-4904-aba2-37b7a37e9e8e",
   "metadata": {},
   "outputs": [
    {
     "data": {
      "text/plain": [
       "[1, 2, 3, 4, 5, 'tony']"
      ]
     },
     "execution_count": 40,
     "metadata": {},
     "output_type": "execute_result"
    }
   ],
   "source": [
    "l"
   ]
  },
  {
   "cell_type": "code",
   "execution_count": 41,
   "id": "b80d456a-c94e-4473-b627-3accdad67647",
   "metadata": {},
   "outputs": [],
   "source": [
    "l.append(2)"
   ]
  },
  {
   "cell_type": "code",
   "execution_count": 42,
   "id": "d9f77d2e-3255-49b9-a424-f5c2eff78c7a",
   "metadata": {},
   "outputs": [
    {
     "data": {
      "text/plain": [
       "[1, 2, 3, 4, 5, 'tony', 2]"
      ]
     },
     "execution_count": 42,
     "metadata": {},
     "output_type": "execute_result"
    }
   ],
   "source": [
    "l"
   ]
  },
  {
   "cell_type": "code",
   "execution_count": 43,
   "id": "46c7ea51-efdb-4556-9ed2-ffe626d3dc07",
   "metadata": {},
   "outputs": [],
   "source": [
    "l1 = [6,7,8]"
   ]
  },
  {
   "cell_type": "code",
   "execution_count": 44,
   "id": "d4869ca1-85be-43ba-80cd-0b6134642e25",
   "metadata": {},
   "outputs": [],
   "source": [
    "l.append(l1) # list of list "
   ]
  },
  {
   "cell_type": "code",
   "execution_count": 45,
   "id": "6fcf82fc-a289-4f33-aa34-317ac97cb1cf",
   "metadata": {},
   "outputs": [
    {
     "data": {
      "text/plain": [
       "[1, 2, 3, 4, 5, 'tony', 2, [6, 7, 8]]"
      ]
     },
     "execution_count": 45,
     "metadata": {},
     "output_type": "execute_result"
    }
   ],
   "source": [
    "l"
   ]
  },
  {
   "cell_type": "code",
   "execution_count": 46,
   "id": "2375566f-04ec-46ab-8d61-c4b9d39d4745",
   "metadata": {},
   "outputs": [],
   "source": [
    "#"
   ]
  },
  {
   "cell_type": "code",
   "execution_count": 47,
   "id": "d3f2d917-c728-4870-b1d1-9d8ba302b890",
   "metadata": {},
   "outputs": [],
   "source": [
    "l = [1,2,3,4,5]"
   ]
  },
  {
   "cell_type": "code",
   "execution_count": 48,
   "id": "c7f9da14-0ed9-432f-9dda-c7c220bc12a1",
   "metadata": {},
   "outputs": [
    {
     "data": {
      "text/plain": [
       "[6, 7, 8]"
      ]
     },
     "execution_count": 48,
     "metadata": {},
     "output_type": "execute_result"
    }
   ],
   "source": [
    "l1"
   ]
  },
  {
   "cell_type": "code",
   "execution_count": 49,
   "id": "08b4a5e5-3c50-4bb7-b9d9-9a4ed40e4614",
   "metadata": {},
   "outputs": [],
   "source": [
    "l.extend(l1)"
   ]
  },
  {
   "cell_type": "code",
   "execution_count": 50,
   "id": "93abaf3e-d1f2-4b9f-b1ad-05d1a5c1dc40",
   "metadata": {},
   "outputs": [
    {
     "data": {
      "text/plain": [
       "[1, 2, 3, 4, 5, 6, 7, 8]"
      ]
     },
     "execution_count": 50,
     "metadata": {},
     "output_type": "execute_result"
    }
   ],
   "source": [
    "l"
   ]
  },
  {
   "cell_type": "code",
   "execution_count": 51,
   "id": "5ffdf8e4-a794-47cd-befe-4772014f8c38",
   "metadata": {},
   "outputs": [],
   "source": [
    "s = 'Tony'"
   ]
  },
  {
   "cell_type": "code",
   "execution_count": 52,
   "id": "ca278810-3d46-421f-8493-12875cc0c74d",
   "metadata": {},
   "outputs": [
    {
     "name": "stdout",
     "output_type": "stream",
     "text": [
      "T\n",
      "o\n",
      "n\n",
      "y\n"
     ]
    }
   ],
   "source": [
    "for i in s :\n",
    "    print(i)"
   ]
  },
  {
   "cell_type": "code",
   "execution_count": 53,
   "id": "39ee3bdf-b236-40d4-820a-4aa2a0bda456",
   "metadata": {},
   "outputs": [
    {
     "data": {
      "text/plain": [
       "[1, 2, 3, 4, 5, 6, 7, 8]"
      ]
     },
     "execution_count": 53,
     "metadata": {},
     "output_type": "execute_result"
    }
   ],
   "source": [
    "l"
   ]
  },
  {
   "cell_type": "code",
   "execution_count": 54,
   "id": "6ebd794b-929d-4d2f-8fcd-723c92f19e38",
   "metadata": {},
   "outputs": [],
   "source": [
    "l.extend(s)"
   ]
  },
  {
   "cell_type": "code",
   "execution_count": 55,
   "id": "ab7fa500-3fe3-42e6-8e10-54a07e6b1731",
   "metadata": {},
   "outputs": [
    {
     "data": {
      "text/plain": [
       "[1, 2, 3, 4, 5, 6, 7, 8, 'T', 'o', 'n', 'y']"
      ]
     },
     "execution_count": 55,
     "metadata": {},
     "output_type": "execute_result"
    }
   ],
   "source": [
    "l"
   ]
  },
  {
   "cell_type": "markdown",
   "id": "d64e7743-6986-4c5a-96a9-26f1f2e19249",
   "metadata": {},
   "source": [
    "**HETEROGENEOUS LISTS**"
   ]
  },
  {
   "cell_type": "code",
   "execution_count": 56,
   "id": "43dd22be-e986-4e73-95ac-2702d11df5a1",
   "metadata": {},
   "outputs": [
    {
     "data": {
      "text/plain": [
       "[1, 'Tony', True, 2.0]"
      ]
     },
     "execution_count": 56,
     "metadata": {},
     "output_type": "execute_result"
    }
   ],
   "source": [
    "l = [1,'Tony',True,2.0]\n",
    "l"
   ]
  },
  {
   "cell_type": "code",
   "execution_count": 57,
   "id": "b1016f67-e92b-4e35-b71e-b0c830a1e026",
   "metadata": {},
   "outputs": [
    {
     "data": {
      "text/plain": [
       "int"
      ]
     },
     "execution_count": 57,
     "metadata": {},
     "output_type": "execute_result"
    }
   ],
   "source": [
    "type(l[0])"
   ]
  },
  {
   "cell_type": "code",
   "execution_count": 58,
   "id": "52d3c422-ded1-4909-9390-a0530dda6391",
   "metadata": {},
   "outputs": [
    {
     "data": {
      "text/plain": [
       "str"
      ]
     },
     "execution_count": 58,
     "metadata": {},
     "output_type": "execute_result"
    }
   ],
   "source": [
    "type(l[1])"
   ]
  },
  {
   "cell_type": "code",
   "execution_count": 59,
   "id": "bdf81ee9-7ff9-4d4f-b802-337fb095b711",
   "metadata": {},
   "outputs": [
    {
     "data": {
      "text/plain": [
       "bool"
      ]
     },
     "execution_count": 59,
     "metadata": {},
     "output_type": "execute_result"
    }
   ],
   "source": [
    "type(l[2])"
   ]
  },
  {
   "cell_type": "code",
   "execution_count": 60,
   "id": "f9b73a36-d1b8-4396-acbc-3ceeaf1efa91",
   "metadata": {},
   "outputs": [
    {
     "data": {
      "text/plain": [
       "float"
      ]
     },
     "execution_count": 60,
     "metadata": {},
     "output_type": "execute_result"
    }
   ],
   "source": [
    "type(l[3])"
   ]
  },
  {
   "cell_type": "markdown",
   "id": "b3e185d2-2c35-42a2-abab-0981ddacfb3b",
   "metadata": {},
   "source": [
    "**2D LISTS**"
   ]
  },
  {
   "cell_type": "code",
   "execution_count": 61,
   "id": "e7820db1-cece-484f-afa8-ecc0e83a7dfa",
   "metadata": {},
   "outputs": [],
   "source": [
    "l1 = [1,2,3]\n",
    "l2 = [4,5,6]\n",
    "l3 = [7,8,9]\n",
    "\n",
    "l = [l1,l2,l3]"
   ]
  },
  {
   "cell_type": "code",
   "execution_count": 62,
   "id": "e4123091-21b7-4656-8491-5f63da89a1bb",
   "metadata": {},
   "outputs": [
    {
     "data": {
      "text/plain": [
       "[[1, 2, 3], [4, 5, 6], [7, 8, 9]]"
      ]
     },
     "execution_count": 62,
     "metadata": {},
     "output_type": "execute_result"
    }
   ],
   "source": [
    "l"
   ]
  },
  {
   "cell_type": "code",
   "execution_count": 63,
   "id": "0ed25995-8e84-4e42-af8e-c2a7477ad0cc",
   "metadata": {},
   "outputs": [
    {
     "data": {
      "text/plain": [
       "[1, 2, 3]"
      ]
     },
     "execution_count": 63,
     "metadata": {},
     "output_type": "execute_result"
    }
   ],
   "source": [
    "l[0]"
   ]
  },
  {
   "cell_type": "code",
   "execution_count": 64,
   "id": "43893a6c-7937-4720-9fff-4919fd0f5ff1",
   "metadata": {},
   "outputs": [
    {
     "data": {
      "text/plain": [
       "1"
      ]
     },
     "execution_count": 64,
     "metadata": {},
     "output_type": "execute_result"
    }
   ],
   "source": [
    "l[0][0]"
   ]
  },
  {
   "cell_type": "code",
   "execution_count": 65,
   "id": "045634b9-81a9-40c3-95d6-66f13d3cdd31",
   "metadata": {},
   "outputs": [
    {
     "data": {
      "text/plain": [
       "5"
      ]
     },
     "execution_count": 65,
     "metadata": {},
     "output_type": "execute_result"
    }
   ],
   "source": [
    "l[1][1]"
   ]
  },
  {
   "cell_type": "markdown",
   "id": "7cd74e12-9592-4f08-9574-de59e850c10f",
   "metadata": {},
   "source": [
    "**ITERATION IN 2D LIST**"
   ]
  },
  {
   "cell_type": "code",
   "execution_count": 66,
   "id": "9777d574-e0b3-4cf9-9fd9-948cbfb3d99c",
   "metadata": {},
   "outputs": [
    {
     "data": {
      "text/plain": [
       "[[1, 2, 3], [4, 5, 6], [7, 8, 9]]"
      ]
     },
     "execution_count": 66,
     "metadata": {},
     "output_type": "execute_result"
    }
   ],
   "source": [
    "l"
   ]
  },
  {
   "cell_type": "code",
   "execution_count": 67,
   "id": "87af5f9e-88e3-4f3c-8d57-d27da501ea8d",
   "metadata": {},
   "outputs": [
    {
     "name": "stdout",
     "output_type": "stream",
     "text": [
      "[1, 2, 3]\n",
      "[4, 5, 6]\n",
      "[7, 8, 9]\n"
     ]
    }
   ],
   "source": [
    "for i in l : \n",
    "    print(i)"
   ]
  },
  {
   "cell_type": "code",
   "execution_count": 68,
   "id": "5decae0a-9211-4d99-b6cc-a27e898ff1dd",
   "metadata": {},
   "outputs": [
    {
     "data": {
      "text/plain": [
       "[1, 2, 3]"
      ]
     },
     "execution_count": 68,
     "metadata": {},
     "output_type": "execute_result"
    }
   ],
   "source": [
    "l1"
   ]
  },
  {
   "cell_type": "code",
   "execution_count": 69,
   "id": "733fb244-acbd-45c3-b12e-0aed00a420c1",
   "metadata": {},
   "outputs": [
    {
     "name": "stdout",
     "output_type": "stream",
     "text": [
      "1\n",
      "2\n",
      "3\n"
     ]
    }
   ],
   "source": [
    "for i in l1 : \n",
    "    print(i)"
   ]
  },
  {
   "cell_type": "code",
   "execution_count": 70,
   "id": "68db4c31-7274-400d-9b96-f3dd156286a8",
   "metadata": {},
   "outputs": [
    {
     "name": "stdout",
     "output_type": "stream",
     "text": [
      "1\n",
      "2\n",
      "3\n",
      "4\n",
      "5\n",
      "6\n",
      "7\n",
      "8\n",
      "9\n"
     ]
    }
   ],
   "source": [
    "for i in l :\n",
    "    for j in i : \n",
    "        print(j)"
   ]
  },
  {
   "cell_type": "markdown",
   "id": "09de91e1-8391-4e7f-b500-fa446ab3da29",
   "metadata": {},
   "source": [
    "**LIST COMPREHENSION**"
   ]
  },
  {
   "cell_type": "code",
   "execution_count": 71,
   "id": "35f74931-03e9-483e-94f1-a91be544b137",
   "metadata": {},
   "outputs": [
    {
     "name": "stdout",
     "output_type": "stream",
     "text": [
      "0\n",
      "1\n",
      "2\n",
      "3\n",
      "4\n",
      "5\n",
      "6\n",
      "7\n",
      "8\n",
      "9\n"
     ]
    }
   ],
   "source": [
    "for i in range(10):\n",
    "    print(i)"
   ]
  },
  {
   "cell_type": "code",
   "execution_count": 72,
   "id": "ce2b3de9-dbcc-44bb-b241-a96441bcbd45",
   "metadata": {},
   "outputs": [
    {
     "name": "stdout",
     "output_type": "stream",
     "text": [
      "[0, 1, 2, 3, 4, 5, 6, 7, 8, 9]\n"
     ]
    }
   ],
   "source": [
    "l = []\n",
    "\n",
    "for i in range(10):\n",
    "    l.append(i)\n",
    "print(l)"
   ]
  },
  {
   "cell_type": "code",
   "execution_count": 73,
   "id": "0b2b5663-8b1a-45fb-b1bd-34d885c64bec",
   "metadata": {},
   "outputs": [
    {
     "data": {
      "text/plain": [
       "[0, 1, 4, 9, 16, 25, 36, 49, 64, 81]"
      ]
     },
     "execution_count": 73,
     "metadata": {},
     "output_type": "execute_result"
    }
   ],
   "source": [
    "# SIMPLER METHOD \n",
    "\n",
    "l = [ i**2 for i in range(10)]\n",
    "l"
   ]
  },
  {
   "cell_type": "code",
   "execution_count": 74,
   "id": "a96adb28-e518-4f9b-a88c-33e80ce60c54",
   "metadata": {},
   "outputs": [
    {
     "name": "stdout",
     "output_type": "stream",
     "text": [
      "62\n"
     ]
    }
   ],
   "source": [
    "# FIND TOTAL POPULATION \n",
    "\n",
    "l = [4,6,5,8,9,3,2,4,5,4,3,2,3,4] # number of member in family \n",
    "\n",
    "sum = 0\n",
    "for i in l : \n",
    "    sum+=i\n",
    "print(sum)"
   ]
  }
 ],
 "metadata": {
  "kernelspec": {
   "display_name": "Python 3 (ipykernel)",
   "language": "python",
   "name": "python3"
  },
  "language_info": {
   "codemirror_mode": {
    "name": "ipython",
    "version": 3
   },
   "file_extension": ".py",
   "mimetype": "text/x-python",
   "name": "python",
   "nbconvert_exporter": "python",
   "pygments_lexer": "ipython3",
   "version": "3.8.18"
  }
 },
 "nbformat": 4,
 "nbformat_minor": 5
}
