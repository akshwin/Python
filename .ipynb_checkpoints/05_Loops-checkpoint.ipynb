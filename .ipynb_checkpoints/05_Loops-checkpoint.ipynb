{
 "cells": [
  {
   "cell_type": "markdown",
   "id": "2b7035ef-0d62-4a83-8f35-c0376de9eb54",
   "metadata": {},
   "source": [
    "# LOOPS "
   ]
  },
  {
   "cell_type": "markdown",
   "id": "784cd204-266a-4560-9ba8-56f365a9be1f",
   "metadata": {},
   "source": [
    "**WHILE LOOP**"
   ]
  },
  {
   "cell_type": "code",
   "execution_count": 1,
   "id": "027a84a6-24e2-42f4-afea-e2cd2f7dacd1",
   "metadata": {},
   "outputs": [
    {
     "name": "stdout",
     "output_type": "stream",
     "text": [
      "Hello world\n",
      "Hello world\n",
      "Hello world\n",
      "Hello world\n",
      "Hello world\n"
     ]
    }
   ],
   "source": [
    "i = 1\n",
    "while i <6 :\n",
    "     print('Hello world')\n",
    "     i+=1\n"
   ]
  },
  {
   "cell_type": "code",
   "execution_count": 2,
   "id": "9492f279-f908-4a40-a9bd-e9532d387d05",
   "metadata": {},
   "outputs": [
    {
     "name": "stdout",
     "output_type": "stream",
     "text": [
      "1 2 3 4 5 6 7 8 9 10 "
     ]
    }
   ],
   "source": [
    "# Print all from i to 10  \n",
    "\n",
    "i = 1 \n",
    "while i<=10 :\n",
    "    print(i,end=\" \")\n",
    "    i+=1"
   ]
  },
  {
   "cell_type": "code",
   "execution_count": 3,
   "id": "e85e0b10-5255-417f-b2c2-bbcb617cb62d",
   "metadata": {},
   "outputs": [
    {
     "name": "stdout",
     "output_type": "stream",
     "text": [
      "0 2 4 6 8 10 "
     ]
    }
   ],
   "source": [
    "# All EVEN NUMBERS IN RANGE \n",
    "\n",
    "i = 0\n",
    "while i <=10 : \n",
    "    if i % 2 == 0:\n",
    "        print(i,end=\" \")\n",
    "    i+=1"
   ]
  },
  {
   "cell_type": "code",
   "execution_count": 4,
   "id": "e7cfca18-0de8-41b1-b3e3-f770e57ce575",
   "metadata": {},
   "outputs": [
    {
     "name": "stdout",
     "output_type": "stream",
     "text": [
      "The sum of number 55\n"
     ]
    }
   ],
   "source": [
    "# SUM OF NUMBERS IN A RANGE \n",
    "\n",
    "i = 1 \n",
    "sum = 0\n",
    "while i <=10 :\n",
    "    sum = sum+i\n",
    "    i+=1\n",
    "print(\"The sum of number\",sum)"
   ]
  },
  {
   "cell_type": "markdown",
   "id": "618cda0f-a08c-42f3-bc66-127a20f63033",
   "metadata": {},
   "source": [
    "**RANGE FUNCTION**"
   ]
  },
  {
   "cell_type": "code",
   "execution_count": 5,
   "id": "af6ab826-2002-4757-8604-406d475296c5",
   "metadata": {},
   "outputs": [
    {
     "data": {
      "text/plain": [
       "[0, 1, 2, 3, 4]"
      ]
     },
     "execution_count": 5,
     "metadata": {},
     "output_type": "execute_result"
    }
   ],
   "source": [
    "list(range(5))\n"
   ]
  },
  {
   "cell_type": "code",
   "execution_count": 6,
   "id": "88487e06-31a3-437e-96c0-5666a6cc8e51",
   "metadata": {},
   "outputs": [
    {
     "data": {
      "text/plain": [
       "[0, 2, 4, 6, 8]"
      ]
     },
     "execution_count": 6,
     "metadata": {},
     "output_type": "execute_result"
    }
   ],
   "source": [
    "list(range(0,10,2))"
   ]
  },
  {
   "cell_type": "code",
   "execution_count": 7,
   "id": "1df129be-6472-47ad-9d14-ef6ee542b19e",
   "metadata": {},
   "outputs": [
    {
     "data": {
      "text/plain": [
       "[1, 3, 5, 7, 9]"
      ]
     },
     "execution_count": 7,
     "metadata": {},
     "output_type": "execute_result"
    }
   ],
   "source": [
    "list(range(1,10,2))"
   ]
  },
  {
   "cell_type": "code",
   "execution_count": 8,
   "id": "1e48f657-a307-451b-9319-9041de21001a",
   "metadata": {},
   "outputs": [
    {
     "data": {
      "text/plain": [
       "[10, 9, 8, 7, 6, 5, 4, 3, 2]"
      ]
     },
     "execution_count": 8,
     "metadata": {},
     "output_type": "execute_result"
    }
   ],
   "source": [
    "list(range(10,1,-1))"
   ]
  },
  {
   "cell_type": "markdown",
   "id": "fb7feb87-615d-47ed-bcc9-70119dfd66cd",
   "metadata": {},
   "source": [
    "**ITERATOR ITERATION**"
   ]
  },
  {
   "cell_type": "markdown",
   "id": "2a300481-18ff-41d0-9699-26d7105b9ece",
   "metadata": {},
   "source": [
    "**FOR LOOP**"
   ]
  },
  {
   "cell_type": "code",
   "execution_count": 9,
   "id": "a874070c-d526-4c42-a05a-d5ce64a110d4",
   "metadata": {},
   "outputs": [
    {
     "name": "stdout",
     "output_type": "stream",
     "text": [
      "1\n",
      "2\n",
      "3\n",
      "4\n",
      "5\n",
      "6\n",
      "7\n",
      "8\n",
      "9\n",
      "10\n"
     ]
    }
   ],
   "source": [
    "for i in range(1,11):\n",
    "    print(i)"
   ]
  },
  {
   "cell_type": "code",
   "execution_count": 10,
   "id": "91b110ca-73bd-48cf-9173-c7c4c30007c7",
   "metadata": {},
   "outputs": [
    {
     "name": "stdin",
     "output_type": "stream",
     "text": [
      " 34\n"
     ]
    },
    {
     "name": "stdout",
     "output_type": "stream",
     "text": [
      "34\n",
      "68\n",
      "102\n",
      "136\n",
      "170\n",
      "204\n",
      "238\n",
      "272\n",
      "306\n",
      "340\n"
     ]
    }
   ],
   "source": [
    "# MULTIPLICATION TABLE \n",
    "\n",
    "n = int( input())\n",
    "\n",
    "for i in range(1,11):\n",
    "    print(i*n)"
   ]
  },
  {
   "cell_type": "code",
   "execution_count": 11,
   "id": "554a6366-9dcd-48e9-9143-0940953b5c7a",
   "metadata": {},
   "outputs": [
    {
     "name": "stdin",
     "output_type": "stream",
     "text": [
      " 34\n"
     ]
    },
    {
     "name": "stdout",
     "output_type": "stream",
     "text": [
      "# # # # # # # # # # # # # # # # # # # # # # # # # # # # # # # # # # \n",
      "# # # # # # # # # # # # # # # # # # # # # # # # # # # # # # # # # # \n",
      "# # # # # # # # # # # # # # # # # # # # # # # # # # # # # # # # # # \n",
      "# # # # # # # # # # # # # # # # # # # # # # # # # # # # # # # # # # \n",
      "# # # # # # # # # # # # # # # # # # # # # # # # # # # # # # # # # # \n",
      "# # # # # # # # # # # # # # # # # # # # # # # # # # # # # # # # # # \n",
      "# # # # # # # # # # # # # # # # # # # # # # # # # # # # # # # # # # \n",
      "# # # # # # # # # # # # # # # # # # # # # # # # # # # # # # # # # # \n",
      "# # # # # # # # # # # # # # # # # # # # # # # # # # # # # # # # # # \n",
      "# # # # # # # # # # # # # # # # # # # # # # # # # # # # # # # # # # \n",
      "# # # # # # # # # # # # # # # # # # # # # # # # # # # # # # # # # # \n",
      "# # # # # # # # # # # # # # # # # # # # # # # # # # # # # # # # # # \n",
      "# # # # # # # # # # # # # # # # # # # # # # # # # # # # # # # # # # \n",
      "# # # # # # # # # # # # # # # # # # # # # # # # # # # # # # # # # # \n",
      "# # # # # # # # # # # # # # # # # # # # # # # # # # # # # # # # # # \n",
      "# # # # # # # # # # # # # # # # # # # # # # # # # # # # # # # # # # \n",
      "# # # # # # # # # # # # # # # # # # # # # # # # # # # # # # # # # # \n",
      "# # # # # # # # # # # # # # # # # # # # # # # # # # # # # # # # # # \n",
      "# # # # # # # # # # # # # # # # # # # # # # # # # # # # # # # # # # \n",
      "# # # # # # # # # # # # # # # # # # # # # # # # # # # # # # # # # # \n",
      "# # # # # # # # # # # # # # # # # # # # # # # # # # # # # # # # # # \n",
      "# # # # # # # # # # # # # # # # # # # # # # # # # # # # # # # # # # \n",
      "# # # # # # # # # # # # # # # # # # # # # # # # # # # # # # # # # # \n",
      "# # # # # # # # # # # # # # # # # # # # # # # # # # # # # # # # # # \n",
      "# # # # # # # # # # # # # # # # # # # # # # # # # # # # # # # # # # \n",
      "# # # # # # # # # # # # # # # # # # # # # # # # # # # # # # # # # # \n",
      "# # # # # # # # # # # # # # # # # # # # # # # # # # # # # # # # # # \n",
      "# # # # # # # # # # # # # # # # # # # # # # # # # # # # # # # # # # \n",
      "# # # # # # # # # # # # # # # # # # # # # # # # # # # # # # # # # # \n",
      "# # # # # # # # # # # # # # # # # # # # # # # # # # # # # # # # # # \n",
      "# # # # # # # # # # # # # # # # # # # # # # # # # # # # # # # # # # \n",
      "# # # # # # # # # # # # # # # # # # # # # # # # # # # # # # # # # # \n",
      "# # # # # # # # # # # # # # # # # # # # # # # # # # # # # # # # # # \n",
      "# # # # # # # # # # # # # # # # # # # # # # # # # # # # # # # # # # \n"
     ]
    }
   ],
   "source": [
    "# PATTERN -1 \n",
    "\n",
    "n = int(input())\n",
    "for i in range(n):\n",
    "    for i in range (n):\n",
    "        print(\"#\",end= \" \")\n",
    "    print()"
   ]
  },
  {
   "cell_type": "code",
   "execution_count": 12,
   "id": "9479aa94-474e-44ae-ad25-f6080c2a8a6e",
   "metadata": {},
   "outputs": [
    {
     "name": "stdin",
     "output_type": "stream",
     "text": [
      " 4\n"
     ]
    },
    {
     "name": "stdout",
     "output_type": "stream",
     "text": [
      "# \n",
      "# # \n",
      "# # # \n",
      "# # # # \n"
     ]
    }
   ],
   "source": [
    "# PATTERN -2 \n",
    "\n",
    "n = int(input())\n",
    "for i in range(1,n+1):\n",
    "    for j in range(i):\n",
    "        print(\"#\",end = \" \")\n",
    "    print()\n",
    "        "
   ]
  },
  {
   "cell_type": "markdown",
   "id": "df3f66c5-43a9-488b-bd59-c96b86fa9060",
   "metadata": {},
   "source": [
    "**Break ,Continue and Pass**"
   ]
  },
  {
   "cell_type": "code",
   "execution_count": 13,
   "id": "95554fd2-9c8c-402d-ab22-d3fd487d4001",
   "metadata": {},
   "outputs": [],
   "source": [
    "for i in range(5):\n",
    "    pass"
   ]
  },
  {
   "cell_type": "code",
   "execution_count": 14,
   "id": "a385e83a-bda0-41cc-af77-71fa49958582",
   "metadata": {},
   "outputs": [],
   "source": [
    "def func():\n",
    "    pass"
   ]
  },
  {
   "cell_type": "code",
   "execution_count": 15,
   "id": "6e83af0a-41b2-410e-b983-7800b3213926",
   "metadata": {},
   "outputs": [
    {
     "name": "stdout",
     "output_type": "stream",
     "text": [
      "1\n",
      "2\n",
      "3\n",
      "4\n",
      "6\n",
      "7\n",
      "8\n",
      "9\n"
     ]
    }
   ],
   "source": [
    "for i in range(1,10):\n",
    "    if i == 5:\n",
    "        continue\n",
    "    print(i)"
   ]
  },
  {
   "cell_type": "code",
   "execution_count": 16,
   "id": "c489c089-a39e-4700-801f-792feebb7ac6",
   "metadata": {},
   "outputs": [
    {
     "name": "stdout",
     "output_type": "stream",
     "text": [
      "1\n",
      "2\n",
      "3\n",
      "4\n"
     ]
    }
   ],
   "source": [
    "for i in range(1,10):\n",
    "    if i == 5:\n",
    "        break\n",
    "    print(i)"
   ]
  }
 ],
 "metadata": {
  "kernelspec": {
   "display_name": "Python 3 (ipykernel)",
   "language": "python",
   "name": "python3"
  },
  "language_info": {
   "codemirror_mode": {
    "name": "ipython",
    "version": 3
   },
   "file_extension": ".py",
   "mimetype": "text/x-python",
   "name": "python",
   "nbconvert_exporter": "python",
   "pygments_lexer": "ipython3",
   "version": "3.8.18"
  }
 },
 "nbformat": 4,
 "nbformat_minor": 5
}
