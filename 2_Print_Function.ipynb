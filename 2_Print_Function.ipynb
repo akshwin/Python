{
 "cells": [
  {
   "cell_type": "markdown",
   "id": "48efcb6b-fd09-4cbc-bf73-041b917576eb",
   "metadata": {},
   "source": [
    "# PRINT FUNCTION "
   ]
  },
  {
   "cell_type": "code",
   "execution_count": 1,
   "id": "b7d29c3e-dabe-4eec-9ad2-2b155927ed8c",
   "metadata": {},
   "outputs": [
    {
     "name": "stdout",
     "output_type": "stream",
     "text": [
      "Tony\n"
     ]
    }
   ],
   "source": [
    "# PRIN\n",
    "print('Tony')"
   ]
  },
  {
   "cell_type": "code",
   "execution_count": 2,
   "id": "3f589b29-0667-4e7c-8ed5-ddcc8c717c01",
   "metadata": {},
   "outputs": [
    {
     "name": "stdout",
     "output_type": "stream",
     "text": [
      "Tony Emma RDJ 21 32 50\n"
     ]
    }
   ],
   "source": [
    "# PRINT MULTIPLE VALUES \n",
    "print(\"Tony\",\"Emma\",\"RDJ\",21,32,50)"
   ]
  },
  {
   "cell_type": "code",
   "execution_count": null,
   "id": "9897c44e-9ee5-4b22-8684-4f3ec8e83011",
   "metadata": {},
   "outputs": [],
   "source": []
  }
 ],
 "metadata": {
  "kernelspec": {
   "display_name": "Python 3 (ipykernel)",
   "language": "python",
   "name": "python3"
  },
  "language_info": {
   "codemirror_mode": {
    "name": "ipython",
    "version": 3
   },
   "file_extension": ".py",
   "mimetype": "text/x-python",
   "name": "python",
   "nbconvert_exporter": "python",
   "pygments_lexer": "ipython3",
   "version": "3.8.18"
  }
 },
 "nbformat": 4,
 "nbformat_minor": 5
}
