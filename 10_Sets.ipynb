{
 "cells": [
  {
   "cell_type": "markdown",
   "id": "8002d8de-3d6a-409d-9d2e-aa57bdb6d8be",
   "metadata": {},
   "source": [
    "# SETS "
   ]
  },
  {
   "cell_type": "markdown",
   "id": "8920c526-1848-4d6b-a785-146b3d20f848",
   "metadata": {},
   "source": [
    "    Unique collection \n",
    "    Unordered\n",
    "    Unindexed \n",
    "    Mutable"
   ]
  },
  {
   "cell_type": "markdown",
   "id": "8e2c5ceb-46af-4945-a4d3-63ce66d82d63",
   "metadata": {},
   "source": [
    "**CREATING A SET**"
   ]
  },
  {
   "cell_type": "code",
   "execution_count": 1,
   "id": "e7b80bbf-8870-4d82-b143-48a9ac5e1c0f",
   "metadata": {},
   "outputs": [
    {
     "data": {
      "text/plain": [
       "dict"
      ]
     },
     "execution_count": 1,
     "metadata": {},
     "output_type": "execute_result"
    }
   ],
   "source": [
    "s = {}\n",
    "type(s)"
   ]
  },
  {
   "cell_type": "code",
   "execution_count": 2,
   "id": "65835cde-3fa7-4d17-a1e4-563314679078",
   "metadata": {},
   "outputs": [
    {
     "name": "stdout",
     "output_type": "stream",
     "text": [
      "set()\n"
     ]
    },
    {
     "data": {
      "text/plain": [
       "set"
      ]
     },
     "execution_count": 2,
     "metadata": {},
     "output_type": "execute_result"
    }
   ],
   "source": [
    "s = set()\n",
    "print(s)\n",
    "type(s)"
   ]
  },
  {
   "cell_type": "code",
   "execution_count": 3,
   "id": "b9436b89-ca26-4205-aaa3-cb5a91ca7d8d",
   "metadata": {},
   "outputs": [
    {
     "name": "stdout",
     "output_type": "stream",
     "text": [
      "{1, 2, 3, 4, 5, 6}\n"
     ]
    }
   ],
   "source": [
    "s = {1,2,3,4,5,6,1,2,3}\n",
    "print(s)"
   ]
  },
  {
   "cell_type": "code",
   "execution_count": 4,
   "id": "ac7f6a6c-5974-4b3e-a18f-48702b68ee58",
   "metadata": {},
   "outputs": [],
   "source": [
    "s = set('rahul')"
   ]
  },
  {
   "cell_type": "code",
   "execution_count": 5,
   "id": "1c6751d1-d843-442b-8cbf-8acabd18c9b9",
   "metadata": {},
   "outputs": [
    {
     "data": {
      "text/plain": [
       "{'a', 'h', 'l', 'r', 'u'}"
      ]
     },
     "execution_count": 5,
     "metadata": {},
     "output_type": "execute_result"
    }
   ],
   "source": [
    "s"
   ]
  },
  {
   "cell_type": "markdown",
   "id": "d6aa5f7c-8f91-481b-ba9c-8b32586bdecf",
   "metadata": {},
   "source": [
    "**Iterate**"
   ]
  },
  {
   "cell_type": "code",
   "execution_count": 6,
   "id": "46e0bdcb-3d5b-44dd-b46d-b990c50e24f9",
   "metadata": {},
   "outputs": [
    {
     "name": "stdout",
     "output_type": "stream",
     "text": [
      "h\n",
      "l\n",
      "r\n",
      "u\n",
      "a\n"
     ]
    }
   ],
   "source": [
    "for i in s : \n",
    "    print(i)"
   ]
  },
  {
   "cell_type": "markdown",
   "id": "877f9d3a-8307-47fc-bdf9-98f6403d81e2",
   "metadata": {},
   "source": [
    "**Updating the set**"
   ]
  },
  {
   "cell_type": "code",
   "execution_count": 7,
   "id": "f8174f23-6cc9-4d00-8c62-8c5c13d9888b",
   "metadata": {},
   "outputs": [
    {
     "data": {
      "text/plain": [
       "{1, 2, 3, 4, 5, 6}"
      ]
     },
     "execution_count": 7,
     "metadata": {},
     "output_type": "execute_result"
    }
   ],
   "source": [
    "s = {1,2,3,3,5,4,6}\n",
    "s"
   ]
  },
  {
   "cell_type": "code",
   "execution_count": 8,
   "id": "c6db6cca-b3dd-4b50-b42a-f78b6a22d2be",
   "metadata": {},
   "outputs": [],
   "source": [
    "s.add(7)"
   ]
  },
  {
   "cell_type": "code",
   "execution_count": 9,
   "id": "69827927-4e61-4109-b727-dc1c351af383",
   "metadata": {},
   "outputs": [
    {
     "data": {
      "text/plain": [
       "{1, 2, 3, 4, 5, 6, 7}"
      ]
     },
     "execution_count": 9,
     "metadata": {},
     "output_type": "execute_result"
    }
   ],
   "source": [
    "s"
   ]
  },
  {
   "cell_type": "code",
   "execution_count": 10,
   "id": "2ec753c8-7843-4c65-a98b-cc64911450b1",
   "metadata": {},
   "outputs": [],
   "source": [
    "s.add(1)"
   ]
  },
  {
   "cell_type": "code",
   "execution_count": 11,
   "id": "0d7f087a-ed21-4049-8e50-3abca4617884",
   "metadata": {},
   "outputs": [
    {
     "data": {
      "text/plain": [
       "{1, 2, 3, 4, 5, 6, 7}"
      ]
     },
     "execution_count": 11,
     "metadata": {},
     "output_type": "execute_result"
    }
   ],
   "source": [
    "s"
   ]
  },
  {
   "cell_type": "code",
   "execution_count": 12,
   "id": "a2a54505-691f-4e64-ad4a-824df7fa76fe",
   "metadata": {},
   "outputs": [],
   "source": [
    "new = 'rahul'\n",
    "s.update(new)"
   ]
  },
  {
   "cell_type": "code",
   "execution_count": 13,
   "id": "18dc90b5-f116-44c8-91f9-5f2130a9f520",
   "metadata": {},
   "outputs": [
    {
     "data": {
      "text/plain": [
       "{1, 2, 3, 4, 5, 6, 7, 'a', 'h', 'l', 'r', 'u'}"
      ]
     },
     "execution_count": 13,
     "metadata": {},
     "output_type": "execute_result"
    }
   ],
   "source": [
    "s"
   ]
  },
  {
   "cell_type": "markdown",
   "id": "82ad141f-75f9-411d-aa96-d5fd65cd35d7",
   "metadata": {},
   "source": [
    "**DELETING THE ELEMENT**"
   ]
  },
  {
   "cell_type": "code",
   "execution_count": 14,
   "id": "9ba679b9-8f57-4c31-99a3-ea16f15c6c1f",
   "metadata": {},
   "outputs": [
    {
     "data": {
      "text/plain": [
       "1"
      ]
     },
     "execution_count": 14,
     "metadata": {},
     "output_type": "execute_result"
    }
   ],
   "source": [
    "s.pop()"
   ]
  },
  {
   "cell_type": "code",
   "execution_count": 15,
   "id": "a7fb9219-58b2-4e54-88eb-6d58401b0cbd",
   "metadata": {},
   "outputs": [
    {
     "data": {
      "text/plain": [
       "{2, 3, 4, 5, 6, 7, 'a', 'h', 'l', 'r', 'u'}"
      ]
     },
     "execution_count": 15,
     "metadata": {},
     "output_type": "execute_result"
    }
   ],
   "source": [
    "s"
   ]
  },
  {
   "cell_type": "code",
   "execution_count": 16,
   "id": "c6cf7b6c-818c-4822-858f-eb2c873debf2",
   "metadata": {},
   "outputs": [
    {
     "data": {
      "text/plain": [
       "2"
      ]
     },
     "execution_count": 16,
     "metadata": {},
     "output_type": "execute_result"
    }
   ],
   "source": [
    "s.pop()"
   ]
  },
  {
   "cell_type": "code",
   "execution_count": 17,
   "id": "7f2f9377-d2c9-4977-a765-1694162d46d1",
   "metadata": {},
   "outputs": [
    {
     "data": {
      "text/plain": [
       "{3, 4, 5, 6, 7, 'a', 'h', 'l', 'r', 'u'}"
      ]
     },
     "execution_count": 17,
     "metadata": {},
     "output_type": "execute_result"
    }
   ],
   "source": [
    "s"
   ]
  },
  {
   "cell_type": "code",
   "execution_count": 18,
   "id": "3088b820-6b88-4bea-8148-afe878fa68e5",
   "metadata": {},
   "outputs": [],
   "source": [
    "s.remove(5)"
   ]
  },
  {
   "cell_type": "code",
   "execution_count": 19,
   "id": "bd891011-d331-4ccc-a60b-6c24dd333202",
   "metadata": {},
   "outputs": [
    {
     "data": {
      "text/plain": [
       "{3, 4, 6, 7, 'a', 'h', 'l', 'r', 'u'}"
      ]
     },
     "execution_count": 19,
     "metadata": {},
     "output_type": "execute_result"
    }
   ],
   "source": [
    "s"
   ]
  },
  {
   "cell_type": "code",
   "execution_count": 20,
   "id": "21c4e257-2f0c-45c6-9d80-e274c5e8ac48",
   "metadata": {},
   "outputs": [],
   "source": [
    "s.remove('a')"
   ]
  },
  {
   "cell_type": "code",
   "execution_count": 21,
   "id": "0a973242-a31b-4475-b961-9c326b6d408b",
   "metadata": {},
   "outputs": [
    {
     "data": {
      "text/plain": [
       "{3, 4, 6, 7, 'h', 'l', 'r', 'u'}"
      ]
     },
     "execution_count": 21,
     "metadata": {},
     "output_type": "execute_result"
    }
   ],
   "source": [
    "s"
   ]
  },
  {
   "cell_type": "markdown",
   "id": "28544d9a-4c4d-4f71-a2c6-bc2e480a7c12",
   "metadata": {},
   "source": [
    "**INTERSECTION**"
   ]
  },
  {
   "cell_type": "code",
   "execution_count": 22,
   "id": "7b3c0d39-f51b-423e-94c5-b4ddef613ea1",
   "metadata": {},
   "outputs": [
    {
     "data": {
      "text/plain": [
       "{'The', 'is', 'name', 'of'}"
      ]
     },
     "execution_count": 22,
     "metadata": {},
     "output_type": "execute_result"
    }
   ],
   "source": [
    "m1 = {\"The\", \"name\", \"of\", \"iron\" ,\"man\" ,\"is\", \"tony\" ,\"stark\"}\n",
    "m2 = {\"The\" ,\"name\", \"of\", \"captain\", \"america\", \"is\", \"steve\",\"rogers\"}\n",
    "m1.intersection(m2)"
   ]
  },
  {
   "cell_type": "code",
   "execution_count": 23,
   "id": "8151d922-3299-4a2c-b488-10eb848f1215",
   "metadata": {},
   "outputs": [
    {
     "data": {
      "text/plain": [
       "{'The',\n",
       " 'america',\n",
       " 'captain',\n",
       " 'iron',\n",
       " 'is',\n",
       " 'man',\n",
       " 'name',\n",
       " 'of',\n",
       " 'rogers',\n",
       " 'stark',\n",
       " 'steve',\n",
       " 'tony'}"
      ]
     },
     "execution_count": 23,
     "metadata": {},
     "output_type": "execute_result"
    }
   ],
   "source": [
    "m1 = {\"The\", \"name\", \"of\", \"iron\" ,\"man\" ,\"is\", \"tony\" ,\"stark\"}\n",
    "m2 = {\"The\" ,\"name\", \"of\", \"captain\", \"america\", \"is\", \"steve\",\"rogers\"}\n",
    "m1.union(m2)"
   ]
  },
  {
   "cell_type": "code",
   "execution_count": 24,
   "id": "84f63309-a1dd-42f0-82f7-986b5a1b81ac",
   "metadata": {},
   "outputs": [
    {
     "data": {
      "text/plain": [
       "{'iron', 'man', 'stark', 'tony'}"
      ]
     },
     "execution_count": 24,
     "metadata": {},
     "output_type": "execute_result"
    }
   ],
   "source": [
    "m1 = {\"The\", \"name\", \"of\", \"iron\" ,\"man\" ,\"is\", \"tony\" ,\"stark\"}\n",
    "m2 = {\"The\" ,\"name\", \"of\", \"captain\", \"america\", \"is\", \"steve\",\"rogers\"}\n",
    "m1.difference(m2)"
   ]
  },
  {
   "cell_type": "code",
   "execution_count": 25,
   "id": "40077158-4207-4897-b798-16bcb4e09fbd",
   "metadata": {},
   "outputs": [],
   "source": [
    "# Find unique words \n",
    "\n",
    "sent = \"be the change you wish to see in the world\"\n"
   ]
  },
  {
   "cell_type": "code",
   "execution_count": 26,
   "id": "3b9cc20a-67fd-4614-a075-450b1535e99f",
   "metadata": {},
   "outputs": [
    {
     "data": {
      "text/plain": [
       "['be', 'the', 'change', 'you', 'wish', 'to', 'see', 'in', 'the', 'world']"
      ]
     },
     "execution_count": 26,
     "metadata": {},
     "output_type": "execute_result"
    }
   ],
   "source": [
    "words = sent.split()\n",
    "words"
   ]
  },
  {
   "cell_type": "code",
   "execution_count": 27,
   "id": "73436c4a-6e3b-4713-a413-0d8eac08258a",
   "metadata": {},
   "outputs": [],
   "source": [
    "s = set(words)"
   ]
  },
  {
   "cell_type": "code",
   "execution_count": 28,
   "id": "99d9570d-3a94-43eb-aa3e-15ee5f041082",
   "metadata": {},
   "outputs": [
    {
     "data": {
      "text/plain": [
       "{'be', 'change', 'in', 'see', 'the', 'to', 'wish', 'world', 'you'}"
      ]
     },
     "execution_count": 28,
     "metadata": {},
     "output_type": "execute_result"
    }
   ],
   "source": [
    "s"
   ]
  },
  {
   "cell_type": "code",
   "execution_count": 29,
   "id": "6f548cd2-3a3f-4ed2-b891-490dae4dd19f",
   "metadata": {},
   "outputs": [
    {
     "name": "stdout",
     "output_type": "stream",
     "text": [
      "9\n"
     ]
    }
   ],
   "source": [
    "print(len(s))"
   ]
  }
 ],
 "metadata": {
  "kernelspec": {
   "display_name": "Python 3 (ipykernel)",
   "language": "python",
   "name": "python3"
  },
  "language_info": {
   "codemirror_mode": {
    "name": "ipython",
    "version": 3
   },
   "file_extension": ".py",
   "mimetype": "text/x-python",
   "name": "python",
   "nbconvert_exporter": "python",
   "pygments_lexer": "ipython3",
   "version": "3.8.18"
  }
 },
 "nbformat": 4,
 "nbformat_minor": 5
}
