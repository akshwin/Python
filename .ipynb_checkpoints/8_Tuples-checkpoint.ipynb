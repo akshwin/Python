{
 "cells": [
  {
   "cell_type": "markdown",
   "id": "94ddb934-8fb5-43bb-a4b6-ad961a08ea28",
   "metadata": {},
   "source": [
    "# TUPLES"
   ]
  },
  {
   "cell_type": "markdown",
   "id": "339d36eb-0b79-4a6f-a071-930adec67b96",
   "metadata": {},
   "source": [
    "    Ordered collection of data \n",
    "    Unchageable \n",
    "    Iterable \n",
    "    Can be heterogeneous"
   ]
  },
  {
   "cell_type": "markdown",
   "id": "6a8bcd4b-c907-4c72-8c30-90b3ca292c85",
   "metadata": {},
   "source": [
    "**INTRODUCTION**"
   ]
  },
  {
   "cell_type": "code",
   "execution_count": 1,
   "id": "8bbe1dd4-fc63-4fe3-9448-882b636b2fb7",
   "metadata": {},
   "outputs": [],
   "source": [
    "planets = ('Mercury','Venus','Earth','Mars','Jupiter','Saturn','Uranus','Neptune','Pluto')"
   ]
  },
  {
   "cell_type": "code",
   "execution_count": 2,
   "id": "3dd1ecb7-63f9-4c17-ab39-113f1e54c082",
   "metadata": {},
   "outputs": [
    {
     "data": {
      "text/plain": [
       "tuple"
      ]
     },
     "execution_count": 2,
     "metadata": {},
     "output_type": "execute_result"
    }
   ],
   "source": [
    "type(planets)"
   ]
  },
  {
   "cell_type": "code",
   "execution_count": 3,
   "id": "aad08ba8-e4e5-46f1-b2e1-d4179cd00443",
   "metadata": {},
   "outputs": [
    {
     "data": {
      "text/plain": [
       "'Mercury'"
      ]
     },
     "execution_count": 3,
     "metadata": {},
     "output_type": "execute_result"
    }
   ],
   "source": [
    "planets[0]"
   ]
  },
  {
   "cell_type": "code",
   "execution_count": 4,
   "id": "2f35e627-ae10-43b4-bb8b-1064f185bc3a",
   "metadata": {},
   "outputs": [
    {
     "data": {
      "text/plain": [
       "'Pluto'"
      ]
     },
     "execution_count": 4,
     "metadata": {},
     "output_type": "execute_result"
    }
   ],
   "source": [
    "planets[-1]"
   ]
  },
  {
   "cell_type": "code",
   "execution_count": 5,
   "id": "c0fc9540-f3c1-444c-8d19-3115892fa0e4",
   "metadata": {},
   "outputs": [
    {
     "data": {
      "text/plain": [
       "('Mercury', 'Venus', 'Earth')"
      ]
     },
     "execution_count": 5,
     "metadata": {},
     "output_type": "execute_result"
    }
   ],
   "source": [
    "# slicing\n",
    "planets[:3]"
   ]
  },
  {
   "cell_type": "code",
   "execution_count": 6,
   "id": "7ca80590-d188-4f4a-9d60-a129be6e69bd",
   "metadata": {},
   "outputs": [
    {
     "ename": "TypeError",
     "evalue": "'tuple' object does not support item assignment",
     "output_type": "error",
     "traceback": [
      "\u001b[1;31m---------------------------------------------------------------------------\u001b[0m",
      "\u001b[1;31mTypeError\u001b[0m                                 Traceback (most recent call last)",
      "Cell \u001b[1;32mIn[6], line 1\u001b[0m\n\u001b[1;32m----> 1\u001b[0m \u001b[43mplanets\u001b[49m\u001b[43m[\u001b[49m\u001b[38;5;241;43m3\u001b[39;49m\u001b[43m]\u001b[49m\u001b[38;5;241m=\u001b[39m \u001b[38;5;124m\"\u001b[39m\u001b[38;5;124mTony\u001b[39m\u001b[38;5;124m\"\u001b[39m\u001b[38;5;66;03m# immutable \u001b[39;00m\n",
      "\u001b[1;31mTypeError\u001b[0m: 'tuple' object does not support item assignment"
     ]
    }
   ],
   "source": [
    "planets[3]= \"Tony\"# immutable "
   ]
  },
  {
   "cell_type": "code",
   "execution_count": 7,
   "id": "d9a1f3db-3c16-4fbf-b335-0605d961dbc5",
   "metadata": {},
   "outputs": [],
   "source": [
    "# Heterogeneous \n",
    "\n",
    "t = (1,'Tony',3.0)"
   ]
  },
  {
   "cell_type": "code",
   "execution_count": 8,
   "id": "6e42c3d7-70dc-40dc-b221-d78e4e045fbb",
   "metadata": {},
   "outputs": [
    {
     "data": {
      "text/plain": [
       "(1, 'Tony', 3.0)"
      ]
     },
     "execution_count": 8,
     "metadata": {},
     "output_type": "execute_result"
    }
   ],
   "source": [
    "t"
   ]
  },
  {
   "cell_type": "markdown",
   "id": "af2c51e2-08ad-487d-a019-3ecf47e0d7ad",
   "metadata": {},
   "source": [
    "**CREATE TUPLE**"
   ]
  },
  {
   "cell_type": "code",
   "execution_count": 9,
   "id": "614e818b-aabe-4db5-8b9c-5088a8e1c122",
   "metadata": {},
   "outputs": [],
   "source": [
    "t = ()"
   ]
  },
  {
   "cell_type": "code",
   "execution_count": 10,
   "id": "fd346027-cf38-405a-98d0-5bfefc7f17f3",
   "metadata": {},
   "outputs": [
    {
     "data": {
      "text/plain": [
       "tuple"
      ]
     },
     "execution_count": 10,
     "metadata": {},
     "output_type": "execute_result"
    }
   ],
   "source": [
    "type(t)"
   ]
  },
  {
   "cell_type": "code",
   "execution_count": 11,
   "id": "d9fbfc42-a6c2-4939-85fb-89a138103f90",
   "metadata": {},
   "outputs": [],
   "source": [
    "t = (2,4)"
   ]
  },
  {
   "cell_type": "code",
   "execution_count": 12,
   "id": "9068b8e4-13f5-4ea9-8a63-980a7b8720fa",
   "metadata": {},
   "outputs": [
    {
     "data": {
      "text/plain": [
       "tuple"
      ]
     },
     "execution_count": 12,
     "metadata": {},
     "output_type": "execute_result"
    }
   ],
   "source": [
    "type(t)"
   ]
  },
  {
   "cell_type": "code",
   "execution_count": 13,
   "id": "08e7eab4-f8bb-4061-9f39-f57154639886",
   "metadata": {},
   "outputs": [
    {
     "data": {
      "text/plain": [
       "tuple"
      ]
     },
     "execution_count": 13,
     "metadata": {},
     "output_type": "execute_result"
    }
   ],
   "source": [
    "# Single object \n",
    "t1 = (2,)\n",
    "type(t1)"
   ]
  },
  {
   "cell_type": "code",
   "execution_count": 14,
   "id": "4f5930b4-700f-4f85-893d-edf369146695",
   "metadata": {},
   "outputs": [
    {
     "data": {
      "text/plain": [
       "2"
      ]
     },
     "execution_count": 14,
     "metadata": {},
     "output_type": "execute_result"
    }
   ],
   "source": [
    "t = (1,2)\n",
    "len(t)"
   ]
  },
  {
   "cell_type": "code",
   "execution_count": 15,
   "id": "38a1c4c4-0087-4a13-bbb3-3ba3492ed3d2",
   "metadata": {},
   "outputs": [
    {
     "name": "stdout",
     "output_type": "stream",
     "text": [
      "<class 'tuple'> 2\n"
     ]
    }
   ],
   "source": [
    "t = ([1,2],[3,4])\n",
    "print(type(t),len(t))"
   ]
  },
  {
   "cell_type": "code",
   "execution_count": 16,
   "id": "0ce334ae-2213-4f29-9f21-86a0e0dd910f",
   "metadata": {},
   "outputs": [
    {
     "data": {
      "text/plain": [
       "[1, 2]"
      ]
     },
     "execution_count": 16,
     "metadata": {},
     "output_type": "execute_result"
    }
   ],
   "source": [
    "t[0]"
   ]
  },
  {
   "cell_type": "markdown",
   "id": "3f1cc377-8def-49ed-a48c-252bf0199fe1",
   "metadata": {},
   "source": [
    "**MUTABILITY**"
   ]
  },
  {
   "cell_type": "code",
   "execution_count": 17,
   "id": "199f22f8-516b-4337-b0cc-1c52fcf40c9f",
   "metadata": {},
   "outputs": [],
   "source": [
    "t = (2,3,4)"
   ]
  },
  {
   "cell_type": "code",
   "execution_count": 18,
   "id": "36350ed2-559d-482e-b06c-9ec7f4b6ad87",
   "metadata": {},
   "outputs": [
    {
     "data": {
      "text/plain": [
       "tuple"
      ]
     },
     "execution_count": 18,
     "metadata": {},
     "output_type": "execute_result"
    }
   ],
   "source": [
    "t1 = ([1,2,3,4,5],\"Tony\")\n",
    "type(t1)"
   ]
  },
  {
   "cell_type": "code",
   "execution_count": 19,
   "id": "d2d7a55e-6649-4e54-8dd1-e9ab1756c71e",
   "metadata": {},
   "outputs": [
    {
     "data": {
      "text/plain": [
       "list"
      ]
     },
     "execution_count": 19,
     "metadata": {},
     "output_type": "execute_result"
    }
   ],
   "source": [
    "type(t1[0])"
   ]
  },
  {
   "cell_type": "code",
   "execution_count": 20,
   "id": "966b58ae-9954-4574-8526-e6a76b84a86f",
   "metadata": {},
   "outputs": [],
   "source": [
    "t1[0][0]= 0 # list inside tuple is modifiable "
   ]
  },
  {
   "cell_type": "code",
   "execution_count": 21,
   "id": "94075231-de1b-4a3f-a9b4-6e383b8d78de",
   "metadata": {},
   "outputs": [
    {
     "data": {
      "text/plain": [
       "([0, 2, 3, 4, 5], 'Tony')"
      ]
     },
     "execution_count": 21,
     "metadata": {},
     "output_type": "execute_result"
    }
   ],
   "source": [
    "t1"
   ]
  },
  {
   "cell_type": "markdown",
   "id": "093115d2-e76c-40a3-bef8-167bac6dd302",
   "metadata": {},
   "source": [
    "**TUPLE UNPACKING**"
   ]
  },
  {
   "cell_type": "code",
   "execution_count": 22,
   "id": "128f7539-b3e3-45f1-af3e-9ca79e76b723",
   "metadata": {},
   "outputs": [
    {
     "name": "stdout",
     "output_type": "stream",
     "text": [
      "3 4 5 1\n"
     ]
    }
   ],
   "source": [
    "a = 3 \n",
    "b = 4\n",
    "c = 5\n",
    "d = 1\n",
    "print(a,b,c,d)"
   ]
  },
  {
   "cell_type": "code",
   "execution_count": 23,
   "id": "6af833b5-fd66-472f-b16e-529b46d79bab",
   "metadata": {},
   "outputs": [
    {
     "name": "stdout",
     "output_type": "stream",
     "text": [
      "2 4\n"
     ]
    }
   ],
   "source": [
    "a,b = 2,4\n",
    "print(a,b)"
   ]
  },
  {
   "cell_type": "code",
   "execution_count": 24,
   "id": "939b0e69-f3bc-4a99-9ac0-8171e24582b2",
   "metadata": {},
   "outputs": [],
   "source": [
    "t = (1,2,3,4)"
   ]
  },
  {
   "cell_type": "code",
   "execution_count": 25,
   "id": "bf060bf3-8b2a-4a63-bfa9-9348511dbf6b",
   "metadata": {},
   "outputs": [
    {
     "name": "stdout",
     "output_type": "stream",
     "text": [
      "1 2 3 4\n"
     ]
    }
   ],
   "source": [
    "a,b,c,d = t # tuple unpacking \n",
    "print(a,b,c,d)"
   ]
  },
  {
   "cell_type": "markdown",
   "id": "737d7eb7-3406-4e05-a99a-44dbfaa4de4b",
   "metadata": {},
   "source": [
    "**TUPLE OPERATIONS**"
   ]
  },
  {
   "cell_type": "code",
   "execution_count": 26,
   "id": "210121fd-3777-4a2f-bff1-86ba11056ebd",
   "metadata": {},
   "outputs": [],
   "source": [
    "t = (1,2,3,4)"
   ]
  },
  {
   "cell_type": "code",
   "execution_count": 27,
   "id": "7ad34d8d-6d70-4d0a-abcc-3234c218e919",
   "metadata": {},
   "outputs": [
    {
     "data": {
      "text/plain": [
       "1"
      ]
     },
     "execution_count": 27,
     "metadata": {},
     "output_type": "execute_result"
    }
   ],
   "source": [
    "t.count(1)"
   ]
  },
  {
   "cell_type": "code",
   "execution_count": 28,
   "id": "6c46a11f-63e0-49f3-a843-af6f31500747",
   "metadata": {},
   "outputs": [
    {
     "data": {
      "text/plain": [
       "0"
      ]
     },
     "execution_count": 28,
     "metadata": {},
     "output_type": "execute_result"
    }
   ],
   "source": [
    "t.index(1)"
   ]
  },
  {
   "cell_type": "code",
   "execution_count": 29,
   "id": "a136524f-dfde-408f-96d3-1561deb2746b",
   "metadata": {},
   "outputs": [
    {
     "data": {
      "text/plain": [
       "1"
      ]
     },
     "execution_count": 29,
     "metadata": {},
     "output_type": "execute_result"
    }
   ],
   "source": [
    "t.index(2)"
   ]
  },
  {
   "cell_type": "code",
   "execution_count": 30,
   "id": "cf9d82c8-7892-4a3f-8297-ddbd18150cc0",
   "metadata": {},
   "outputs": [
    {
     "name": "stdout",
     "output_type": "stream",
     "text": [
      "1\n",
      "2\n",
      "3\n",
      "4\n"
     ]
    }
   ],
   "source": [
    "for i in t :  \n",
    "    print(i)"
   ]
  },
  {
   "cell_type": "code",
   "execution_count": 31,
   "id": "bf7fcfc9-7179-4975-9474-e75b4a2d9679",
   "metadata": {},
   "outputs": [
    {
     "data": {
      "text/plain": [
       "4"
      ]
     },
     "execution_count": 31,
     "metadata": {},
     "output_type": "execute_result"
    }
   ],
   "source": [
    "len(t)"
   ]
  },
  {
   "cell_type": "code",
   "execution_count": 32,
   "id": "6dad625d-0a97-4b19-96b4-c77f46fd0523",
   "metadata": {},
   "outputs": [
    {
     "data": {
      "text/plain": [
       "(1, 2, 3, 4, 5, 6)"
      ]
     },
     "execution_count": 32,
     "metadata": {},
     "output_type": "execute_result"
    }
   ],
   "source": [
    "t1 = (1,2,3)\n",
    "t2 = (4,5,6)\n",
    "\n",
    "t = t1+t2\n",
    "t"
   ]
  },
  {
   "cell_type": "code",
   "execution_count": 33,
   "id": "40eebde9-76f7-4c97-8c10-71abee0f716a",
   "metadata": {},
   "outputs": [
    {
     "data": {
      "text/plain": [
       "(1, 2, 3, 4, 5, 6, 1, 2, 3, 4, 5, 6)"
      ]
     },
     "execution_count": 33,
     "metadata": {},
     "output_type": "execute_result"
    }
   ],
   "source": [
    "t * 2"
   ]
  },
  {
   "cell_type": "code",
   "execution_count": 34,
   "id": "e7e2056e-2459-42ca-b540-68e0a3f65128",
   "metadata": {},
   "outputs": [],
   "source": [
    "# Tuple to list \n",
    "t = (1,2,3,4)\n",
    "lst = list(t)"
   ]
  },
  {
   "cell_type": "code",
   "execution_count": 35,
   "id": "a13f504b-32b1-409e-9fbc-1e809b98a7c6",
   "metadata": {},
   "outputs": [
    {
     "data": {
      "text/plain": [
       "[1, 2, 3, 4]"
      ]
     },
     "execution_count": 35,
     "metadata": {},
     "output_type": "execute_result"
    }
   ],
   "source": [
    "lst"
   ]
  },
  {
   "cell_type": "code",
   "execution_count": 36,
   "id": "1ccfd90d-fc9a-4911-a3b4-98c776448360",
   "metadata": {},
   "outputs": [],
   "source": [
    "t = tuple(lst)"
   ]
  },
  {
   "cell_type": "code",
   "execution_count": 37,
   "id": "65a84dc8-34b4-4929-a03b-589b3f31ac13",
   "metadata": {},
   "outputs": [
    {
     "data": {
      "text/plain": [
       "(1, 2, 3, 4)"
      ]
     },
     "execution_count": 37,
     "metadata": {},
     "output_type": "execute_result"
    }
   ],
   "source": [
    "t"
   ]
  },
  {
   "cell_type": "code",
   "execution_count": 38,
   "id": "74108db0-c380-4545-9ceb-0745634778da",
   "metadata": {},
   "outputs": [
    {
     "name": "stdout",
     "output_type": "stream",
     "text": [
      "('Item_1', 0.5, ['Vijay', 'Vickey', 'Vishal'])\n"
     ]
    }
   ],
   "source": [
    "name_lst = [\"Vijay\", \"Vickey\"]\n",
    "tup = (\"Item_1\", 0.5, name_lst)\n",
    "name_lst.append(\"Vishal\")\n",
    "print(tup)"
   ]
  },
  {
   "cell_type": "code",
   "execution_count": 39,
   "id": "dbc9a19b-e487-4cef-96af-6026a404dfe8",
   "metadata": {},
   "outputs": [
    {
     "name": "stdout",
     "output_type": "stream",
     "text": [
      "(30, 40, 50) (10, 20, 30, 40) (40, 50, 60, 70, 80)\n"
     ]
    }
   ],
   "source": [
    "elements = (10, 20, 30, 40, 50, 60, 70, 80)\n",
    "print(elements[2:5], elements[:4], elements[3:100])"
   ]
  }
 ],
 "metadata": {
  "kernelspec": {
   "display_name": "Python 3 (ipykernel)",
   "language": "python",
   "name": "python3"
  },
  "language_info": {
   "codemirror_mode": {
    "name": "ipython",
    "version": 3
   },
   "file_extension": ".py",
   "mimetype": "text/x-python",
   "name": "python",
   "nbconvert_exporter": "python",
   "pygments_lexer": "ipython3",
   "version": "3.8.18"
  }
 },
 "nbformat": 4,
 "nbformat_minor": 5
}
