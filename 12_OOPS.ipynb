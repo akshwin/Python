{
 "cells": [
  {
   "cell_type": "markdown",
   "id": "096d7e15-3f05-4e98-b0e5-0381cd2d3e58",
   "metadata": {},
   "source": [
    "# OOPS"
   ]
  },
  {
   "cell_type": "markdown",
   "id": "392ea1ef-e5df-489e-bf22-1f183357fa2d",
   "metadata": {},
   "source": [
    "    # Object oriented programming \n",
    "    # It contains Class , Object , Inheritance , Polymorphism , Abstrction , Encapsulation"
   ]
  },
  {
   "cell_type": "markdown",
   "id": "6ac73091-a521-4a80-bb21-77da3896df4d",
   "metadata": {},
   "source": [
    "    # Class  -> template or blueprint with attribute and behaviour \n",
    "    # Abstraction -> Display inly essential information and hiding the details \n",
    "    # Encapsulation -> Bundling data into single unit \n",
    "    # Inheritance -> Class derived from another class \n",
    "    # Polymorphism -> Same class can work differnetly for differnt objects "
   ]
  },
  {
   "cell_type": "markdown",
   "id": "8ad4f155-e0b7-441a-9c96-ad3369617b8c",
   "metadata": {},
   "source": [
    "**CLASSES AND OBJECTS**"
   ]
  },
  {
   "cell_type": "code",
   "execution_count": 1,
   "id": "6d824d7e-1a36-4fea-9d04-bc8b2accb5b5",
   "metadata": {},
   "outputs": [],
   "source": [
    "class Car : # class \n",
    "    pass"
   ]
  },
  {
   "cell_type": "code",
   "execution_count": 2,
   "id": "15158638-790e-4d9b-83a0-667b679647ec",
   "metadata": {},
   "outputs": [],
   "source": [
    "# Object -> Instance of the class .It has all properties of the class "
   ]
  },
  {
   "cell_type": "code",
   "execution_count": 3,
   "id": "dfdb202d-d9f5-4cb8-ae89-33624e2beced",
   "metadata": {},
   "outputs": [],
   "source": [
    "honda = Car()"
   ]
  },
  {
   "cell_type": "code",
   "execution_count": 4,
   "id": "ef788839-e48b-4b18-a322-a3c1dadfb37e",
   "metadata": {},
   "outputs": [
    {
     "data": {
      "text/plain": [
       "__main__.Car"
      ]
     },
     "execution_count": 4,
     "metadata": {},
     "output_type": "execute_result"
    }
   ],
   "source": [
    "type(honda)"
   ]
  },
  {
   "cell_type": "code",
   "execution_count": 5,
   "id": "ff1793b6-ec71-48e0-8e87-03ddf9a122a2",
   "metadata": {},
   "outputs": [
    {
     "data": {
      "text/plain": [
       "int"
      ]
     },
     "execution_count": 5,
     "metadata": {},
     "output_type": "execute_result"
    }
   ],
   "source": [
    "type(1)"
   ]
  },
  {
   "cell_type": "markdown",
   "id": "feb46821-b272-4384-a9f6-78304c1a380f",
   "metadata": {},
   "source": [
    "**CLASS CONSTRUCTOR**"
   ]
  },
  {
   "cell_type": "markdown",
   "id": "1fb802ae-36e3-49be-a5fb-8a89e1d89815",
   "metadata": {},
   "source": [
    "    # Special Method used to create and initiate an objeect of a class \n",
    "    # This is defined in the class \n",
    "    # Executed automatically at the time of execution "
   ]
  },
  {
   "cell_type": "code",
   "execution_count": 6,
   "id": "044402f9-61f5-4abd-b2e4-ed7cd1c176c8",
   "metadata": {},
   "outputs": [],
   "source": [
    "class Human:\n",
    "    # __ -> dunder \n",
    "    def __init__(self):\n",
    "        print(\"This will always print\")"
   ]
  },
  {
   "cell_type": "code",
   "execution_count": 7,
   "id": "bf65df0f-fc30-4485-972a-13bc357c6acc",
   "metadata": {},
   "outputs": [
    {
     "name": "stdout",
     "output_type": "stream",
     "text": [
      "This will always print\n"
     ]
    }
   ],
   "source": [
    "rahul = Human()"
   ]
  },
  {
   "cell_type": "code",
   "execution_count": 8,
   "id": "1861e4d2-7646-4681-aee5-06c9bf146fdc",
   "metadata": {},
   "outputs": [
    {
     "name": "stdout",
     "output_type": "stream",
     "text": [
      "This will always print\n"
     ]
    }
   ],
   "source": [
    "emma = Human()"
   ]
  },
  {
   "cell_type": "code",
   "execution_count": 9,
   "id": "e02b3594-47f6-4b16-a39b-37122137757e",
   "metadata": {},
   "outputs": [
    {
     "data": {
      "text/plain": [
       "__main__.Human"
      ]
     },
     "execution_count": 9,
     "metadata": {},
     "output_type": "execute_result"
    }
   ],
   "source": [
    "type(emma)"
   ]
  },
  {
   "cell_type": "code",
   "execution_count": 10,
   "id": "96d27b30-c830-42be-9d48-671e46d56aca",
   "metadata": {},
   "outputs": [
    {
     "name": "stdout",
     "output_type": "stream",
     "text": [
      "<__main__.Human object at 0x0000015067167490>\n"
     ]
    }
   ],
   "source": [
    "print(emma)"
   ]
  },
  {
   "cell_type": "code",
   "execution_count": 11,
   "id": "cfa9bd8b-4173-44ce-9146-5460aaacf05c",
   "metadata": {},
   "outputs": [],
   "source": [
    "class Human:\n",
    "\n",
    "    def __init__(self, name , age , hobby):\n",
    "        self.name = name \n",
    "        self.age = age \n",
    "        self.hobby = hobby"
   ]
  },
  {
   "cell_type": "code",
   "execution_count": 12,
   "id": "ea09b998-6945-44bb-838e-aa5065c7d353",
   "metadata": {},
   "outputs": [],
   "source": [
    "tony = Human('tony',50,'read')"
   ]
  },
  {
   "cell_type": "code",
   "execution_count": 13,
   "id": "dd8e94a1-8b82-4f8b-894b-b79287e0cd01",
   "metadata": {},
   "outputs": [
    {
     "data": {
      "text/plain": [
       "'tony'"
      ]
     },
     "execution_count": 13,
     "metadata": {},
     "output_type": "execute_result"
    }
   ],
   "source": [
    "tony.name"
   ]
  },
  {
   "cell_type": "code",
   "execution_count": 14,
   "id": "8cce3cf0-e7d7-484a-9ca0-bd7ec33a2df1",
   "metadata": {},
   "outputs": [
    {
     "data": {
      "text/plain": [
       "50"
      ]
     },
     "execution_count": 14,
     "metadata": {},
     "output_type": "execute_result"
    }
   ],
   "source": [
    "tony.age"
   ]
  },
  {
   "cell_type": "markdown",
   "id": "08a47d70-ce4c-41b6-b77a-cd88ce52aecc",
   "metadata": {},
   "source": [
    "**CLASS METHODS**"
   ]
  },
  {
   "cell_type": "code",
   "execution_count": 21,
   "id": "0eb1126c-4b7f-4acd-bb48-3dccab19b96d",
   "metadata": {},
   "outputs": [],
   "source": [
    "class human: \n",
    "    def __init__(self, name , age , hobby):\n",
    "        self.name = name \n",
    "        self.age = age \n",
    "        self.hobby = hobby\n",
    "    def greet(self): \n",
    "        print(f\"Hey my name is {self.name} Good morining\")"
   ]
  },
  {
   "cell_type": "code",
   "execution_count": 23,
   "id": "3892f9ba-aab6-4e81-af4c-33293506b0b0",
   "metadata": {},
   "outputs": [],
   "source": [
    "ak = human('ak',20,'Ml')"
   ]
  },
  {
   "cell_type": "code",
   "execution_count": 24,
   "id": "210dca89-7c9f-49fb-8980-ac9d9d0eb5f8",
   "metadata": {},
   "outputs": [
    {
     "name": "stdout",
     "output_type": "stream",
     "text": [
      "Hey my name is ak Good morining\n"
     ]
    }
   ],
   "source": [
    "ak.greet()"
   ]
  },
  {
   "cell_type": "code",
   "execution_count": 27,
   "id": "cb68035e-98e9-496a-8d9a-3b9c89a5db63",
   "metadata": {},
   "outputs": [],
   "source": [
    "emma = human('emma',32,'act')"
   ]
  },
  {
   "cell_type": "code",
   "execution_count": 28,
   "id": "79e2a1b6-145c-4859-8478-53adf3573070",
   "metadata": {},
   "outputs": [
    {
     "name": "stdout",
     "output_type": "stream",
     "text": [
      "Hey my name is emma Good morining\n"
     ]
    }
   ],
   "source": [
    "emma.greet()"
   ]
  },
  {
   "cell_type": "code",
   "execution_count": 29,
   "id": "9fc90ffa-23f8-4bba-8f92-2f9ee70901f3",
   "metadata": {},
   "outputs": [],
   "source": [
    "emma.nationality = 'British'"
   ]
  },
  {
   "cell_type": "code",
   "execution_count": 30,
   "id": "5e84a264-0954-40ca-8f4c-961faef65885",
   "metadata": {},
   "outputs": [
    {
     "data": {
      "text/plain": [
       "'British'"
      ]
     },
     "execution_count": 30,
     "metadata": {},
     "output_type": "execute_result"
    }
   ],
   "source": [
    "emma.nationality # not in human class "
   ]
  },
  {
   "cell_type": "markdown",
   "id": "b9c91e20-2f0b-453d-8008-43982d840bce",
   "metadata": {},
   "source": [
    "**CLASS VARIBALES**"
   ]
  },
  {
   "cell_type": "code",
   "execution_count": 40,
   "id": "63d67d5b-5475-4d84-a9b8-a4d735f17352",
   "metadata": {},
   "outputs": [],
   "source": [
    "class human:\n",
    "\n",
    "    # class variables \n",
    "    population = 0 \n",
    "    data = []\n",
    "    \n",
    "    def __init__(self , name , age):\n",
    "        self.name = name \n",
    "        self.age = age\n",
    "        human.population+=1\n",
    "        human.data.append(self.name)\n",
    "        \n",
    "    def greet(self):\n",
    "        print(\"Hey my name is {self.name}\")"
   ]
  },
  {
   "cell_type": "code",
   "execution_count": 41,
   "id": "7e1fb28f-c6fd-41b8-9d2a-9a81a246e41b",
   "metadata": {},
   "outputs": [],
   "source": [
    "rahul = human('rahul',32)"
   ]
  },
  {
   "cell_type": "code",
   "execution_count": 42,
   "id": "3553af23-86fd-496d-9e75-6e4dde79ee8a",
   "metadata": {},
   "outputs": [
    {
     "data": {
      "text/plain": [
       "1"
      ]
     },
     "execution_count": 42,
     "metadata": {},
     "output_type": "execute_result"
    }
   ],
   "source": [
    "human.population"
   ]
  },
  {
   "cell_type": "code",
   "execution_count": 43,
   "id": "2a0c90b4-2908-4593-a24c-6fb87e38411b",
   "metadata": {},
   "outputs": [],
   "source": [
    "emma = human('emma',32)"
   ]
  },
  {
   "cell_type": "code",
   "execution_count": 44,
   "id": "23e3d0fd-1d96-4e0d-af8f-3099e09c0582",
   "metadata": {},
   "outputs": [
    {
     "data": {
      "text/plain": [
       "2"
      ]
     },
     "execution_count": 44,
     "metadata": {},
     "output_type": "execute_result"
    }
   ],
   "source": [
    "human.population"
   ]
  },
  {
   "cell_type": "code",
   "execution_count": 45,
   "id": "2151fe0a-bcca-447a-8fc1-222f0c5ac03b",
   "metadata": {},
   "outputs": [
    {
     "data": {
      "text/plain": [
       "['rahul', 'emma']"
      ]
     },
     "execution_count": 45,
     "metadata": {},
     "output_type": "execute_result"
    }
   ],
   "source": [
    "human.data"
   ]
  },
  {
   "cell_type": "code",
   "execution_count": 62,
   "id": "29d79893-c369-451f-be5d-f157dd1ed62c",
   "metadata": {},
   "outputs": [],
   "source": [
    "class human:\n",
    "\n",
    "    # class variables \n",
    "    population = 0 \n",
    "    data = []\n",
    "    \n",
    "    def __init__(self , name , age , alive = True):\n",
    "        self.name = name \n",
    "        self.age = age\n",
    "        self.alive = alive \n",
    "        human.population+=1\n",
    "        human.data.append(self.name)\n",
    "        \n",
    "    def greet(self):\n",
    "        print(\"Hey my name is {self.name}\")\n",
    "    def dead(self):\n",
    "        if self.alive : \n",
    "            print(self.name , \" is no more\")\n",
    "            human.population -=1\n",
    "            self.alive = False \n",
    "        else : \n",
    "            print(\"This person is already dead\")"
   ]
  },
  {
   "cell_type": "code",
   "execution_count": 63,
   "id": "c6421c2b-b036-4b8b-b756-4fe4aa0cc4f0",
   "metadata": {},
   "outputs": [],
   "source": [
    "ram = human('ram',12)"
   ]
  },
  {
   "cell_type": "code",
   "execution_count": 64,
   "id": "85870a41-d509-4259-958e-cf6b393789b3",
   "metadata": {},
   "outputs": [
    {
     "data": {
      "text/plain": [
       "1"
      ]
     },
     "execution_count": 64,
     "metadata": {},
     "output_type": "execute_result"
    }
   ],
   "source": [
    "human.population "
   ]
  },
  {
   "cell_type": "code",
   "execution_count": 65,
   "id": "faceced6-beb2-4576-8cee-7e7ebe4f796f",
   "metadata": {},
   "outputs": [
    {
     "name": "stdout",
     "output_type": "stream",
     "text": [
      "ram  is no more\n"
     ]
    }
   ],
   "source": [
    "ram.dead()"
   ]
  },
  {
   "cell_type": "code",
   "execution_count": 66,
   "id": "52d2ee1c-de3b-4351-907d-e6bd9d3ec514",
   "metadata": {},
   "outputs": [
    {
     "data": {
      "text/plain": [
       "0"
      ]
     },
     "execution_count": 66,
     "metadata": {},
     "output_type": "execute_result"
    }
   ],
   "source": [
    "human.population"
   ]
  },
  {
   "cell_type": "code",
   "execution_count": 67,
   "id": "98501f43-bf30-475d-a1ec-5f626ace539e",
   "metadata": {},
   "outputs": [
    {
     "name": "stdout",
     "output_type": "stream",
     "text": [
      "This person is already dead\n"
     ]
    }
   ],
   "source": [
    "ram.dead()"
   ]
  },
  {
   "cell_type": "code",
   "execution_count": null,
   "id": "e45b87aa-2b07-41d9-9128-49a17edea2c9",
   "metadata": {},
   "outputs": [],
   "source": []
  }
 ],
 "metadata": {
  "kernelspec": {
   "display_name": "Python 3 (ipykernel)",
   "language": "python",
   "name": "python3"
  },
  "language_info": {
   "codemirror_mode": {
    "name": "ipython",
    "version": 3
   },
   "file_extension": ".py",
   "mimetype": "text/x-python",
   "name": "python",
   "nbconvert_exporter": "python",
   "pygments_lexer": "ipython3",
   "version": "3.8.18"
  }
 },
 "nbformat": 4,
 "nbformat_minor": 5
}
