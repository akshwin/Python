{
 "cells": [
  {
   "cell_type": "markdown",
   "id": "89f6a83b-9cff-4495-92f6-af7aeacedb5b",
   "metadata": {},
   "source": [
    "# OPERATORS "
   ]
  },
  {
   "cell_type": "markdown",
   "id": "4c6d43a2-83ca-4dc7-9fa4-6d70cb237115",
   "metadata": {},
   "source": [
    "*A symbol to perform specific mathematical operations*"
   ]
  },
  {
   "cell_type": "markdown",
   "id": "d2da6c45-c087-45e1-9775-c64e092924a0",
   "metadata": {},
   "source": [
    "**ARITHMETIC OPERATORS**"
   ]
  },
  {
   "cell_type": "code",
   "execution_count": 1,
   "id": "f9ad549b-3acc-4075-821b-880ddf2c602d",
   "metadata": {},
   "outputs": [
    {
     "name": "stdout",
     "output_type": "stream",
     "text": [
      "8\n",
      "2\n",
      "15\n",
      "1.6666666666666667\n",
      "2\n"
     ]
    }
   ],
   "source": [
    "# ALLOWS TO PERFORM ARITHMETIC OPERATIONS \n",
    "a = 5\n",
    "b = 3\n",
    "print(a+b)\n",
    "print(a-b)\n",
    "print(a*b)\n",
    "print(a/b)\n",
    "print(a%b)"
   ]
  },
  {
   "cell_type": "code",
   "execution_count": 2,
   "id": "3ee11358-02cf-4430-8262-e54f152d933c",
   "metadata": {},
   "outputs": [
    {
     "name": "stdout",
     "output_type": "stream",
     "text": [
      "Tony Stark\n"
     ]
    }
   ],
   "source": [
    "# STRING CONCATENATION \n",
    "\n",
    "first = \"Tony\"\n",
    "second = \" Stark\"\n",
    "print(first+ second)"
   ]
  },
  {
   "cell_type": "code",
   "execution_count": 3,
   "id": "c99005f2-da6c-47d4-bb33-33743a46e1ec",
   "metadata": {},
   "outputs": [
    {
     "data": {
      "text/plain": [
       "'TonyTony'"
      ]
     },
     "execution_count": 3,
     "metadata": {},
     "output_type": "execute_result"
    }
   ],
   "source": [
    "2 * first"
   ]
  },
  {
   "cell_type": "code",
   "execution_count": 4,
   "id": "8a528fbc-289a-4237-a883-6b0e85530141",
   "metadata": {},
   "outputs": [
    {
     "data": {
      "text/plain": [
       "1"
      ]
     },
     "execution_count": 4,
     "metadata": {},
     "output_type": "execute_result"
    }
   ],
   "source": [
    "# MODULUS \n",
    "\n",
    "a = 3 \n",
    "b = 2 \n",
    "a%b"
   ]
  },
  {
   "cell_type": "code",
   "execution_count": 5,
   "id": "cc1f8e2c-1347-428b-b766-42f345d6a47b",
   "metadata": {},
   "outputs": [
    {
     "data": {
      "text/plain": [
       "1"
      ]
     },
     "execution_count": 5,
     "metadata": {},
     "output_type": "execute_result"
    }
   ],
   "source": [
    "# FLOOR DIVISION -> smallest number near \n",
    "\n",
    "a = 5\n",
    "b = 3 \n",
    "a//b"
   ]
  },
  {
   "cell_type": "code",
   "execution_count": 6,
   "id": "f4212901-d6bf-42b4-a00f-9ba46a9eb3c3",
   "metadata": {},
   "outputs": [
    {
     "data": {
      "text/plain": [
       "9"
      ]
     },
     "execution_count": 6,
     "metadata": {},
     "output_type": "execute_result"
    }
   ],
   "source": [
    "## POWER \n",
    "\n",
    "a = 3 \n",
    "a**2"
   ]
  },
  {
   "cell_type": "code",
   "execution_count": 7,
   "id": "9687e0d6-322a-4bca-9261-bed8ad55557e",
   "metadata": {},
   "outputs": [
    {
     "data": {
      "text/plain": [
       "False"
      ]
     },
     "execution_count": 7,
     "metadata": {},
     "output_type": "execute_result"
    }
   ],
   "source": [
    "# COMPARISON OPERATOR \n",
    "a = 6 \n",
    "b = 4 \n",
    "a==b"
   ]
  },
  {
   "cell_type": "code",
   "execution_count": 8,
   "id": "e4dfa59a-2169-44d6-bb59-a99345406941",
   "metadata": {},
   "outputs": [
    {
     "data": {
      "text/plain": [
       "True"
      ]
     },
     "execution_count": 8,
     "metadata": {},
     "output_type": "execute_result"
    }
   ],
   "source": [
    "a!=b"
   ]
  },
  {
   "cell_type": "code",
   "execution_count": 9,
   "id": "54b1f7c1-0cfc-4a91-9390-1302b269670f",
   "metadata": {},
   "outputs": [
    {
     "data": {
      "text/plain": [
       "True"
      ]
     },
     "execution_count": 9,
     "metadata": {},
     "output_type": "execute_result"
    }
   ],
   "source": [
    "a>b"
   ]
  },
  {
   "cell_type": "code",
   "execution_count": 10,
   "id": "a87c327b-24fd-4817-b7e1-36e5fa1cbd90",
   "metadata": {},
   "outputs": [
    {
     "data": {
      "text/plain": [
       "False"
      ]
     },
     "execution_count": 10,
     "metadata": {},
     "output_type": "execute_result"
    }
   ],
   "source": [
    "a<b"
   ]
  },
  {
   "cell_type": "code",
   "execution_count": 11,
   "id": "a353abd3-2dc9-4383-9c0b-aea9d89ef9a7",
   "metadata": {},
   "outputs": [
    {
     "data": {
      "text/plain": [
       "True"
      ]
     },
     "execution_count": 11,
     "metadata": {},
     "output_type": "execute_result"
    }
   ],
   "source": [
    "6>=3"
   ]
  },
  {
   "cell_type": "code",
   "execution_count": 12,
   "id": "de5f73bf-4607-4b73-8196-5a49d4089e8a",
   "metadata": {},
   "outputs": [
    {
     "data": {
      "text/plain": [
       "False"
      ]
     },
     "execution_count": 12,
     "metadata": {},
     "output_type": "execute_result"
    }
   ],
   "source": [
    "6<=3"
   ]
  },
  {
   "cell_type": "code",
   "execution_count": 13,
   "id": "d23a68b2-9abc-447d-9dcc-3557530778f1",
   "metadata": {},
   "outputs": [
    {
     "name": "stdout",
     "output_type": "stream",
     "text": [
      "9\n"
     ]
    }
   ],
   "source": [
    "# ASSIGNMENT OPERATOR \n",
    "\n",
    "a = 5 \n",
    "b = 4 \n",
    "\n",
    "a+=b\n",
    "print(a)"
   ]
  },
  {
   "cell_type": "code",
   "execution_count": 14,
   "id": "700b9a88-3ba9-43a4-a1f1-3a4a519d2e0b",
   "metadata": {},
   "outputs": [
    {
     "data": {
      "text/plain": [
       "1"
      ]
     },
     "execution_count": 14,
     "metadata": {},
     "output_type": "execute_result"
    }
   ],
   "source": [
    "a = 5 \n",
    "b = 4 \n",
    "a-=b\n",
    "a"
   ]
  },
  {
   "cell_type": "code",
   "execution_count": 15,
   "id": "20c2c9b9-5cb6-429f-8698-0660c8461c26",
   "metadata": {},
   "outputs": [
    {
     "data": {
      "text/plain": [
       "1.25"
      ]
     },
     "execution_count": 15,
     "metadata": {},
     "output_type": "execute_result"
    }
   ],
   "source": [
    "a = 5 \n",
    "b = 4 \n",
    "a/=b\n",
    "a"
   ]
  },
  {
   "cell_type": "code",
   "execution_count": 16,
   "id": "60f21b15-a6bb-4543-a618-343a6b424307",
   "metadata": {},
   "outputs": [
    {
     "data": {
      "text/plain": [
       "20"
      ]
     },
     "execution_count": 16,
     "metadata": {},
     "output_type": "execute_result"
    }
   ],
   "source": [
    "a = 5 \n",
    "b = 4 \n",
    "a*=b\n",
    "a"
   ]
  },
  {
   "cell_type": "code",
   "execution_count": 17,
   "id": "8f2c7489-7b54-44d0-a00b-259289221ddd",
   "metadata": {},
   "outputs": [
    {
     "name": "stdout",
     "output_type": "stream",
     "text": [
      "False\n",
      "True\n",
      "False\n"
     ]
    }
   ],
   "source": [
    "# LOGICAL OPERATOR \n",
    "\n",
    "# and \n",
    "# or \n",
    "# not \n",
    "\n",
    "a = 3 \n",
    "b = 5 \n",
    "\n",
    "print(a>5 and b > 4)\n",
    "print(a>5 or b > 4)\n",
    "print(not  b > 4)"
   ]
  },
  {
   "cell_type": "code",
   "execution_count": 18,
   "id": "c2846515-28e8-44f2-b51c-ed7b4fe026db",
   "metadata": {},
   "outputs": [
    {
     "name": "stdout",
     "output_type": "stream",
     "text": [
      "True\n",
      "False\n"
     ]
    }
   ],
   "source": [
    "# SPECIAL OPERATOR \n",
    "\n",
    "# in \n",
    "# is -> tells if both object are in same memory location \n",
    "\n",
    "name = \"TONY\"\n",
    "print(\"T\" in name)\n",
    "print(\"A\" in name)"
   ]
  },
  {
   "cell_type": "code",
   "execution_count": 19,
   "id": "5549a6ea-e282-4502-af77-cca6f5ad8c96",
   "metadata": {},
   "outputs": [
    {
     "name": "stdout",
     "output_type": "stream",
     "text": [
      "140719556684848 140719556684848\n"
     ]
    }
   ],
   "source": [
    "a = 5 \n",
    "b = 5 \n",
    "print(id(a) , id(b))"
   ]
  },
  {
   "cell_type": "code",
   "execution_count": 20,
   "id": "0239f9c7-2f12-408d-bea4-c7e965570519",
   "metadata": {},
   "outputs": [
    {
     "data": {
      "text/plain": [
       "True"
      ]
     },
     "execution_count": 20,
     "metadata": {},
     "output_type": "execute_result"
    }
   ],
   "source": [
    "a is b "
   ]
  },
  {
   "cell_type": "code",
   "execution_count": 21,
   "id": "794bc69e-9217-4e07-80a0-8637085c21b8",
   "metadata": {},
   "outputs": [
    {
     "data": {
      "text/plain": [
       "False"
      ]
     },
     "execution_count": 21,
     "metadata": {},
     "output_type": "execute_result"
    }
   ],
   "source": [
    "a is not b "
   ]
  }
 ],
 "metadata": {
  "kernelspec": {
   "display_name": "Python 3 (ipykernel)",
   "language": "python",
   "name": "python3"
  },
  "language_info": {
   "codemirror_mode": {
    "name": "ipython",
    "version": 3
   },
   "file_extension": ".py",
   "mimetype": "text/x-python",
   "name": "python",
   "nbconvert_exporter": "python",
   "pygments_lexer": "ipython3",
   "version": "3.8.18"
  }
 },
 "nbformat": 4,
 "nbformat_minor": 5
}
