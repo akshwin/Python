{
 "cells": [
  {
   "cell_type": "markdown",
   "id": "b77375e0-809b-4471-a3a9-c411b936c930",
   "metadata": {},
   "source": [
    "# STRINGS "
   ]
  },
  {
   "cell_type": "markdown",
   "id": "bc8be31e-3cc7-41f8-bf15-04b4e8456ffb",
   "metadata": {},
   "source": [
    "**INTRODUCTION**"
   ]
  },
  {
   "cell_type": "markdown",
   "id": "81ce8c01-dcf8-4434-ac88-b16fe075943d",
   "metadata": {},
   "source": [
    "    # Sequence of charaters \n",
    "    # Alphabets , numbers , whitespace , Special charater\n",
    "    # Single , double , triple quotes"
   ]
  },
  {
   "cell_type": "code",
   "execution_count": 1,
   "id": "2c12f77d-d919-4f10-96b0-bbd96da763c4",
   "metadata": {},
   "outputs": [
    {
     "data": {
      "text/plain": [
       "str"
      ]
     },
     "execution_count": 1,
     "metadata": {},
     "output_type": "execute_result"
    }
   ],
   "source": [
    "s1 = \"Tony\"\n",
    "type(s1)"
   ]
  },
  {
   "cell_type": "code",
   "execution_count": 2,
   "id": "640f303a-c621-40a9-b8b1-86cad077c3d5",
   "metadata": {},
   "outputs": [
    {
     "data": {
      "text/plain": [
       "str"
      ]
     },
     "execution_count": 2,
     "metadata": {},
     "output_type": "execute_result"
    }
   ],
   "source": [
    "s2 = \"\"\"Tony stark is the Iron Man \"\"\"\n",
    "type(s2)"
   ]
  },
  {
   "cell_type": "markdown",
   "id": "e42812d0-ccd6-4059-ab07-69fae9693292",
   "metadata": {},
   "source": [
    "**ORD and CHR**"
   ]
  },
  {
   "cell_type": "code",
   "execution_count": 3,
   "id": "3263ceb0-a734-4c46-bd43-0be4eee09f60",
   "metadata": {},
   "outputs": [
    {
     "data": {
      "text/plain": [
       "97"
      ]
     },
     "execution_count": 3,
     "metadata": {},
     "output_type": "execute_result"
    }
   ],
   "source": [
    "ord(\"a\")"
   ]
  },
  {
   "cell_type": "code",
   "execution_count": 4,
   "id": "35b7936a-e687-447b-aa0b-1734a151cf30",
   "metadata": {},
   "outputs": [
    {
     "data": {
      "text/plain": [
       "122"
      ]
     },
     "execution_count": 4,
     "metadata": {},
     "output_type": "execute_result"
    }
   ],
   "source": [
    "ord(\"z\")"
   ]
  },
  {
   "cell_type": "code",
   "execution_count": 5,
   "id": "37d1ab6e-c616-42aa-a0bb-fbe97c2456c1",
   "metadata": {},
   "outputs": [
    {
     "data": {
      "text/plain": [
       "65"
      ]
     },
     "execution_count": 5,
     "metadata": {},
     "output_type": "execute_result"
    }
   ],
   "source": [
    "ord(\"A\")"
   ]
  },
  {
   "cell_type": "code",
   "execution_count": 6,
   "id": "f315e483-64e5-41b1-8e11-219ca5646f1c",
   "metadata": {},
   "outputs": [
    {
     "data": {
      "text/plain": [
       "90"
      ]
     },
     "execution_count": 6,
     "metadata": {},
     "output_type": "execute_result"
    }
   ],
   "source": [
    "ord(\"Z\")"
   ]
  },
  {
   "cell_type": "code",
   "execution_count": 7,
   "id": "74f067d4-4aff-4502-8cac-7d2dc6383282",
   "metadata": {},
   "outputs": [
    {
     "data": {
      "text/plain": [
       "'A'"
      ]
     },
     "execution_count": 7,
     "metadata": {},
     "output_type": "execute_result"
    }
   ],
   "source": [
    "chr(65)"
   ]
  },
  {
   "cell_type": "code",
   "execution_count": 8,
   "id": "3b40da6a-62f0-4536-88f1-3f27bf8bb3a7",
   "metadata": {},
   "outputs": [
    {
     "data": {
      "text/plain": [
       "'4'"
      ]
     },
     "execution_count": 8,
     "metadata": {},
     "output_type": "execute_result"
    }
   ],
   "source": [
    "chr(52)"
   ]
  },
  {
   "cell_type": "code",
   "execution_count": 9,
   "id": "8cc3f6da-3bb1-4187-8c37-93ffed573c11",
   "metadata": {},
   "outputs": [
    {
     "data": {
      "text/plain": [
       "'Ȉ'"
      ]
     },
     "execution_count": 9,
     "metadata": {},
     "output_type": "execute_result"
    }
   ],
   "source": [
    "chr(520)"
   ]
  },
  {
   "cell_type": "code",
   "execution_count": 10,
   "id": "a6cb6ba2-184f-4242-876e-6ce9f9888630",
   "metadata": {},
   "outputs": [
    {
     "data": {
      "text/plain": [
       "'क'"
      ]
     },
     "execution_count": 10,
     "metadata": {},
     "output_type": "execute_result"
    }
   ],
   "source": [
    "chr(2325)"
   ]
  },
  {
   "cell_type": "code",
   "execution_count": 11,
   "id": "cedce135-7150-4b5a-a1ed-ce8c043cc1c9",
   "metadata": {},
   "outputs": [
    {
     "data": {
      "text/plain": [
       "'😀'"
      ]
     },
     "execution_count": 11,
     "metadata": {},
     "output_type": "execute_result"
    }
   ],
   "source": [
    "chr(128512)"
   ]
  },
  {
   "cell_type": "markdown",
   "id": "e3fe695b-20dd-4d8c-96ae-a0be2fd2702a",
   "metadata": {},
   "source": [
    "**INDEXING**"
   ]
  },
  {
   "cell_type": "code",
   "execution_count": 12,
   "id": "24492f05-fba5-490a-96e9-49bce55170f5",
   "metadata": {},
   "outputs": [],
   "source": [
    "name = \"Tony is Iron Man\""
   ]
  },
  {
   "cell_type": "code",
   "execution_count": 13,
   "id": "392c14a8-b7b4-4f31-8620-bacec439b562",
   "metadata": {},
   "outputs": [
    {
     "data": {
      "text/plain": [
       "'T'"
      ]
     },
     "execution_count": 13,
     "metadata": {},
     "output_type": "execute_result"
    }
   ],
   "source": [
    "name[0]"
   ]
  },
  {
   "cell_type": "code",
   "execution_count": 14,
   "id": "f41a8ec1-5ec2-447f-81d6-1bc6617f0b12",
   "metadata": {},
   "outputs": [
    {
     "data": {
      "text/plain": [
       "'n'"
      ]
     },
     "execution_count": 14,
     "metadata": {},
     "output_type": "execute_result"
    }
   ],
   "source": [
    "name[-1]"
   ]
  },
  {
   "cell_type": "markdown",
   "id": "c30fda36-856d-4ec5-98fe-2ea1f0d44f48",
   "metadata": {},
   "source": [
    "**SLICING AND ACCESSING**"
   ]
  },
  {
   "cell_type": "code",
   "execution_count": 15,
   "id": "d93ee0c3-544b-4e5f-b4c9-080243237217",
   "metadata": {},
   "outputs": [
    {
     "data": {
      "text/plain": [
       "'Tony'"
      ]
     },
     "execution_count": 15,
     "metadata": {},
     "output_type": "execute_result"
    }
   ],
   "source": [
    "name[0:4]"
   ]
  },
  {
   "cell_type": "code",
   "execution_count": 16,
   "id": "deafb23f-ec2a-4df4-94fc-48715e8b55b1",
   "metadata": {},
   "outputs": [
    {
     "data": {
      "text/plain": [
       "16"
      ]
     },
     "execution_count": 16,
     "metadata": {},
     "output_type": "execute_result"
    }
   ],
   "source": [
    "len(name)"
   ]
  },
  {
   "cell_type": "code",
   "execution_count": 17,
   "id": "eb034257-5066-4d66-a250-45cf12fd68ab",
   "metadata": {},
   "outputs": [
    {
     "name": "stdout",
     "output_type": "stream",
     "text": [
      "T\n",
      "16\n"
     ]
    }
   ],
   "source": [
    "size = len(name)\n",
    "print(name[-size])\n",
    "print(size)"
   ]
  },
  {
   "cell_type": "code",
   "execution_count": 18,
   "id": "8aab5835-99db-4ff7-a974-e305f6afae19",
   "metadata": {},
   "outputs": [
    {
     "data": {
      "text/plain": [
       "'Tony'"
      ]
     },
     "execution_count": 18,
     "metadata": {},
     "output_type": "execute_result"
    }
   ],
   "source": [
    "name[0:4]"
   ]
  },
  {
   "cell_type": "code",
   "execution_count": 19,
   "id": "b24fe52a-a8d1-4638-a5f7-9c860a2e1a1b",
   "metadata": {},
   "outputs": [
    {
     "data": {
      "text/plain": [
       "'Tony is Iron Man'"
      ]
     },
     "execution_count": 19,
     "metadata": {},
     "output_type": "execute_result"
    }
   ],
   "source": [
    "name[0:]"
   ]
  },
  {
   "cell_type": "code",
   "execution_count": 20,
   "id": "58293511-d8d3-45a8-b8fd-4aac7fa7a340",
   "metadata": {},
   "outputs": [
    {
     "data": {
      "text/plain": [
       "'Tn sIo a'"
      ]
     },
     "execution_count": 20,
     "metadata": {},
     "output_type": "execute_result"
    }
   ],
   "source": [
    "name[:len(name):2]"
   ]
  },
  {
   "cell_type": "code",
   "execution_count": 21,
   "id": "2ca991dc-15de-4fef-b9a0-faf31cb3964a",
   "metadata": {},
   "outputs": [
    {
     "data": {
      "text/plain": [
       "'Tony is Iron Ma'"
      ]
     },
     "execution_count": 21,
     "metadata": {},
     "output_type": "execute_result"
    }
   ],
   "source": [
    "name[:-1]"
   ]
  },
  {
   "cell_type": "code",
   "execution_count": 22,
   "id": "90a6af3c-48f6-4548-ae5d-27f9dcba5893",
   "metadata": {},
   "outputs": [
    {
     "data": {
      "text/plain": [
       "'a'"
      ]
     },
     "execution_count": 22,
     "metadata": {},
     "output_type": "execute_result"
    }
   ],
   "source": [
    "name[-2]"
   ]
  },
  {
   "cell_type": "code",
   "execution_count": 23,
   "id": "f8213cfb-6f93-4665-9296-86b5d9052d0d",
   "metadata": {},
   "outputs": [
    {
     "data": {
      "text/plain": [
       "'naM norI si ynoT'"
      ]
     },
     "execution_count": 23,
     "metadata": {},
     "output_type": "execute_result"
    }
   ],
   "source": [
    "name[::-1]"
   ]
  },
  {
   "cell_type": "code",
   "execution_count": 24,
   "id": "066c7465-4b57-4da6-a162-f649b1153504",
   "metadata": {},
   "outputs": [
    {
     "data": {
      "text/plain": [
       "'ony is Iron M'"
      ]
     },
     "execution_count": 24,
     "metadata": {},
     "output_type": "execute_result"
    }
   ],
   "source": [
    "name[1:-2:1]"
   ]
  },
  {
   "cell_type": "code",
   "execution_count": 25,
   "id": "17dacc87-1865-4f27-a904-746f7b40e22c",
   "metadata": {},
   "outputs": [
    {
     "data": {
      "text/plain": [
       "'naM norI si yno'"
      ]
     },
     "execution_count": 25,
     "metadata": {},
     "output_type": "execute_result"
    }
   ],
   "source": [
    "name[-1:0:-1]"
   ]
  },
  {
   "cell_type": "code",
   "execution_count": 26,
   "id": "e59529e7-aa56-4f65-8e5d-66bf73bc381e",
   "metadata": {},
   "outputs": [
    {
     "data": {
      "text/plain": [
       "'naM norI si ynoT'"
      ]
     },
     "execution_count": 26,
     "metadata": {},
     "output_type": "execute_result"
    }
   ],
   "source": [
    "name[::-1]"
   ]
  },
  {
   "cell_type": "code",
   "execution_count": 27,
   "id": "e046a674-9336-4a37-8558-aeda12c074f5",
   "metadata": {},
   "outputs": [
    {
     "data": {
      "text/plain": [
       "'naM norI si ynoT'"
      ]
     },
     "execution_count": 27,
     "metadata": {},
     "output_type": "execute_result"
    }
   ],
   "source": [
    "name[-1:-(len(name)+1):-1]"
   ]
  },
  {
   "cell_type": "markdown",
   "id": "50809844-cc12-4daa-9c1e-de29b5451e69",
   "metadata": {},
   "source": [
    "**STRING METHODS**"
   ]
  },
  {
   "cell_type": "code",
   "execution_count": 28,
   "id": "0e3a5ebb-0120-4a76-a550-a5c1d8f3e2a1",
   "metadata": {},
   "outputs": [],
   "source": [
    "name = \"tony\""
   ]
  },
  {
   "cell_type": "code",
   "execution_count": 29,
   "id": "ad127d8a-1801-471f-96b9-f8c4b1647ff2",
   "metadata": {},
   "outputs": [
    {
     "data": {
      "text/plain": [
       "'Tony'"
      ]
     },
     "execution_count": 29,
     "metadata": {},
     "output_type": "execute_result"
    }
   ],
   "source": [
    "name.capitalize()"
   ]
  },
  {
   "cell_type": "code",
   "execution_count": 30,
   "id": "401e99f8-2aac-4817-8a22-1ab09d988045",
   "metadata": {},
   "outputs": [
    {
     "data": {
      "text/plain": [
       "'Tony'"
      ]
     },
     "execution_count": 30,
     "metadata": {},
     "output_type": "execute_result"
    }
   ],
   "source": [
    "name1 = name.title()\n",
    "name1"
   ]
  },
  {
   "cell_type": "code",
   "execution_count": 31,
   "id": "ea501455-5b4c-4ffa-a748-c73f2e033662",
   "metadata": {},
   "outputs": [
    {
     "data": {
      "text/plain": [
       "'TONY'"
      ]
     },
     "execution_count": 31,
     "metadata": {},
     "output_type": "execute_result"
    }
   ],
   "source": [
    "name.upper()"
   ]
  },
  {
   "cell_type": "code",
   "execution_count": 32,
   "id": "01816e83-0ccf-4159-9836-8f9a66914a84",
   "metadata": {},
   "outputs": [
    {
     "data": {
      "text/plain": [
       "'tony'"
      ]
     },
     "execution_count": 32,
     "metadata": {},
     "output_type": "execute_result"
    }
   ],
   "source": [
    "name.lower()"
   ]
  },
  {
   "cell_type": "code",
   "execution_count": 33,
   "id": "4dd114f9-8fa0-4c53-ac97-b31d398f15ef",
   "metadata": {},
   "outputs": [
    {
     "data": {
      "text/plain": [
       "1"
      ]
     },
     "execution_count": 33,
     "metadata": {},
     "output_type": "execute_result"
    }
   ],
   "source": [
    "name.find('o')"
   ]
  },
  {
   "cell_type": "code",
   "execution_count": 34,
   "id": "a701ef4d-b003-4db1-81db-645b4a81e2e8",
   "metadata": {},
   "outputs": [
    {
     "data": {
      "text/plain": [
       "1"
      ]
     },
     "execution_count": 34,
     "metadata": {},
     "output_type": "execute_result"
    }
   ],
   "source": [
    "name.count('t')"
   ]
  },
  {
   "cell_type": "code",
   "execution_count": 35,
   "id": "125b4ecf-d73c-485b-9189-65adce0011fa",
   "metadata": {},
   "outputs": [
    {
     "data": {
      "text/plain": [
       "1"
      ]
     },
     "execution_count": 35,
     "metadata": {},
     "output_type": "execute_result"
    }
   ],
   "source": [
    "name.index('o')"
   ]
  },
  {
   "cell_type": "code",
   "execution_count": 36,
   "id": "aa2dd3eb-1601-401e-adf9-a33e10c5f0ac",
   "metadata": {},
   "outputs": [
    {
     "data": {
      "text/plain": [
       "'Tony'"
      ]
     },
     "execution_count": 36,
     "metadata": {},
     "output_type": "execute_result"
    }
   ],
   "source": [
    "name.replace('t','T')"
   ]
  },
  {
   "cell_type": "code",
   "execution_count": 37,
   "id": "6e81131a-1561-4fbf-a743-4d256b58a6e0",
   "metadata": {},
   "outputs": [
    {
     "data": {
      "text/plain": [
       "['Tony', 'Stark']"
      ]
     },
     "execution_count": 37,
     "metadata": {},
     "output_type": "execute_result"
    }
   ],
   "source": [
    "name = 'Tony Stark'\n",
    "name.split()"
   ]
  },
  {
   "cell_type": "code",
   "execution_count": 38,
   "id": "921a20c7-c30b-433f-9d5b-5c150b3dfe2c",
   "metadata": {},
   "outputs": [
    {
     "data": {
      "text/plain": [
       "['Tony St', 'rk']"
      ]
     },
     "execution_count": 38,
     "metadata": {},
     "output_type": "execute_result"
    }
   ],
   "source": [
    "name.split('a')"
   ]
  },
  {
   "cell_type": "code",
   "execution_count": 39,
   "id": "fb677a63-bc98-4a1b-9e75-904b44aa9fe3",
   "metadata": {},
   "outputs": [
    {
     "data": {
      "text/plain": [
       "False"
      ]
     },
     "execution_count": 39,
     "metadata": {},
     "output_type": "execute_result"
    }
   ],
   "source": [
    "name.isupper()"
   ]
  },
  {
   "cell_type": "code",
   "execution_count": 40,
   "id": "758dc3c9-ea22-4d2a-b23e-8a1cd2aa3679",
   "metadata": {},
   "outputs": [
    {
     "data": {
      "text/plain": [
       "False"
      ]
     },
     "execution_count": 40,
     "metadata": {},
     "output_type": "execute_result"
    }
   ],
   "source": [
    "name.islower()"
   ]
  },
  {
   "cell_type": "code",
   "execution_count": 41,
   "id": "c69ed5e1-bb4c-4461-a872-5e53d0646f04",
   "metadata": {},
   "outputs": [
    {
     "data": {
      "text/plain": [
       "False"
      ]
     },
     "execution_count": 41,
     "metadata": {},
     "output_type": "execute_result"
    }
   ],
   "source": [
    "name.isalpha()"
   ]
  },
  {
   "cell_type": "markdown",
   "id": "eca4abfb-1e88-4a6a-b9e9-c04c50e38374",
   "metadata": {},
   "source": [
    "**STRING FORMATTING**"
   ]
  },
  {
   "cell_type": "code",
   "execution_count": 42,
   "id": "797ccb87-f447-4166-915f-620d31712cee",
   "metadata": {},
   "outputs": [
    {
     "name": "stdin",
     "output_type": "stream",
     "text": [
      " Tony\n",
      " 23\n"
     ]
    },
    {
     "name": "stdout",
     "output_type": "stream",
     "text": [
      "Hey my name is  Tony And my age is 23\n"
     ]
    }
   ],
   "source": [
    "name = input()\n",
    "age = input()\n",
    "\n",
    "print(\"Hey my name is \", name , \"And my age is\",age)"
   ]
  },
  {
   "cell_type": "code",
   "execution_count": 43,
   "id": "efb663e6-9070-4ce5-868e-c5416061b9b7",
   "metadata": {},
   "outputs": [
    {
     "name": "stdin",
     "output_type": "stream",
     "text": [
      " Tony\n",
      " 23\n"
     ]
    },
    {
     "name": "stdout",
     "output_type": "stream",
     "text": [
      "Hey my name is Tony. My age is 23\n"
     ]
    }
   ],
   "source": [
    "name = input()\n",
    "age = input()\n",
    "\n",
    "print(\"Hey my name is {}. My age is {}\".format(name,age))"
   ]
  },
  {
   "cell_type": "code",
   "execution_count": 44,
   "id": "e37db0fa-a3d9-41ba-ae01-a921a3f474b2",
   "metadata": {},
   "outputs": [
    {
     "name": "stdin",
     "output_type": "stream",
     "text": [
      " Tony \n",
      " 23\n"
     ]
    },
    {
     "name": "stdout",
     "output_type": "stream",
     "text": [
      "Hey my name is Tony .And my age is 23.\n"
     ]
    }
   ],
   "source": [
    "# Advanced \n",
    "\n",
    "name = input()\n",
    "age = input()\n",
    "\n",
    "print(f\"Hey my name is {name}.And my age is {age}.\")"
   ]
  },
  {
   "cell_type": "markdown",
   "id": "b80a36e6-aa02-4ec1-a101-6a9ee278054c",
   "metadata": {},
   "source": [
    "**STRING CONCATENATION**"
   ]
  },
  {
   "cell_type": "code",
   "execution_count": 45,
   "id": "5774fbfa-90fd-403c-b66e-610644200a91",
   "metadata": {},
   "outputs": [
    {
     "name": "stdin",
     "output_type": "stream",
     "text": [
      " Tony \n",
      " Stark\n"
     ]
    },
    {
     "name": "stdout",
     "output_type": "stream",
     "text": [
      "Tony Stark\n"
     ]
    }
   ],
   "source": [
    "first = input()\n",
    "second = input()\n",
    "\n",
    "print(first+second)"
   ]
  },
  {
   "cell_type": "code",
   "execution_count": 46,
   "id": "08a877cd-5e01-49f5-9d81-668ad9b73f3c",
   "metadata": {},
   "outputs": [
    {
     "data": {
      "text/plain": [
       "'TonyTonyTony'"
      ]
     },
     "execution_count": 46,
     "metadata": {},
     "output_type": "execute_result"
    }
   ],
   "source": [
    "\"Tony\" * 3"
   ]
  },
  {
   "cell_type": "code",
   "execution_count": 47,
   "id": "d65c0d64-6cb2-4bcb-ac23-71503a36407b",
   "metadata": {},
   "outputs": [
    {
     "data": {
      "text/plain": [
       "'23'"
      ]
     },
     "execution_count": 47,
     "metadata": {},
     "output_type": "execute_result"
    }
   ],
   "source": [
    "\"2\"+\"3\""
   ]
  },
  {
   "cell_type": "code",
   "execution_count": 48,
   "id": "1ba17b21-3e45-4f0b-8527-133b95160360",
   "metadata": {},
   "outputs": [
    {
     "name": "stdout",
     "output_type": "stream",
     "text": [
      "a\n",
      "e\n",
      "i\n",
      "A\n",
      "i\n"
     ]
    }
   ],
   "source": [
    "# PRINT VOWELS \n",
    "\n",
    "text = \" My name is Akshwin \"\n",
    "\n",
    "for i in text : \n",
    "    if i == 'a' or i == 'e' or i == 'i' or i =='o' or i == 'u' or i == 'A' or i == 'E' or i == 'I' or i == 'O' or i =='U':\n",
    "        print(i)"
   ]
  },
  {
   "cell_type": "code",
   "execution_count": 49,
   "id": "c205d217-162a-4de5-9bd8-602a5beca35b",
   "metadata": {},
   "outputs": [
    {
     "name": "stdout",
     "output_type": "stream",
     "text": [
      "No\n"
     ]
    }
   ],
   "source": [
    "# PALINDROME \n",
    "\n",
    "s = 'Tony'\n",
    "\n",
    "if s == s[::-1]:\n",
    "    print('Yes')\n",
    "else:\n",
    "    print(\"No\")\n"
   ]
  }
 ],
 "metadata": {
  "kernelspec": {
   "display_name": "Python 3 (ipykernel)",
   "language": "python",
   "name": "python3"
  },
  "language_info": {
   "codemirror_mode": {
    "name": "ipython",
    "version": 3
   },
   "file_extension": ".py",
   "mimetype": "text/x-python",
   "name": "python",
   "nbconvert_exporter": "python",
   "pygments_lexer": "ipython3",
   "version": "3.8.18"
  }
 },
 "nbformat": 4,
 "nbformat_minor": 5
}
