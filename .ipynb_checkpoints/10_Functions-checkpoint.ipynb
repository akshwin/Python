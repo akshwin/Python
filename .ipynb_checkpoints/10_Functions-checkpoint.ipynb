{
 "cells": [
  {
   "cell_type": "markdown",
   "id": "6a799cae-df16-4915-bd3e-f5e0a5203ba5",
   "metadata": {},
   "source": [
    "# FUNCTIONS "
   ]
  },
  {
   "cell_type": "markdown",
   "id": "1d271bc5-162e-4c1b-813b-6f55e31d6145",
   "metadata": {},
   "source": [
    "    # Reusability \n",
    "    # Code manageble and organised \n",
    "    # Types -> User defined , Built in "
   ]
  },
  {
   "cell_type": "markdown",
   "id": "041d9345-d378-432f-a167-2310282a55f0",
   "metadata": {},
   "source": [
    "**DEFINIG FUNCTION**"
   ]
  },
  {
   "cell_type": "code",
   "execution_count": 1,
   "id": "f2366cf0-1936-472f-977f-24e252b83384",
   "metadata": {},
   "outputs": [
    {
     "name": "stdout",
     "output_type": "stream",
     "text": [
      "<function greet at 0x000001DD7E1D2550>\n"
     ]
    }
   ],
   "source": [
    "def greet():\n",
    "    print(\"Hello\")"
   ]
  },
  {
   "cell_type": "code",
   "execution_count": 3,
   "id": "c506949f-5852-4502-9404-3137f6023ac7",
   "metadata": {},
   "outputs": [
    {
     "name": "stdout",
     "output_type": "stream",
     "text": [
      "Hello\n"
     ]
    }
   ],
   "source": [
    "# Calling a function \n",
    "greet()"
   ]
  },
  {
   "cell_type": "markdown",
   "id": "afa0f6d3-5330-4221-80c2-9f904f068dc8",
   "metadata": {},
   "source": [
    "**DOCSTRINGS**"
   ]
  },
  {
   "cell_type": "code",
   "execution_count": 4,
   "id": "1b243acf-c53f-4685-9af2-38b3ff6f9fb6",
   "metadata": {},
   "outputs": [
    {
     "data": {
      "text/plain": [
       "\u001b[1;31mDocstring:\u001b[0m\n",
       "print(value, ..., sep=' ', end='\\n', file=sys.stdout, flush=False)\n",
       "\n",
       "Prints the values to a stream, or to sys.stdout by default.\n",
       "Optional keyword arguments:\n",
       "file:  a file-like object (stream); defaults to the current sys.stdout.\n",
       "sep:   string inserted between values, default a space.\n",
       "end:   string appended after the last value, default a newline.\n",
       "flush: whether to forcibly flush the stream.\n",
       "\u001b[1;31mType:\u001b[0m      builtin_function_or_method"
      ]
     },
     "metadata": {},
     "output_type": "display_data"
    }
   ],
   "source": [
    "print?"
   ]
  },
  {
   "cell_type": "code",
   "execution_count": 5,
   "id": "e71b8901-63ae-4c41-a858-96afc79a9691",
   "metadata": {},
   "outputs": [
    {
     "data": {
      "text/plain": [
       "\u001b[1;31mSignature:\u001b[0m \u001b[0mgreet\u001b[0m\u001b[1;33m(\u001b[0m\u001b[1;33m)\u001b[0m\u001b[1;33m\u001b[0m\u001b[1;33m\u001b[0m\u001b[0m\n",
       "\u001b[1;31mDocstring:\u001b[0m <no docstring>\n",
       "\u001b[1;31mFile:\u001b[0m      c:\\users\\akshw\\appdata\\local\\temp\\ipykernel_136320\\2302804570.py\n",
       "\u001b[1;31mType:\u001b[0m      function"
      ]
     },
     "metadata": {},
     "output_type": "display_data"
    }
   ],
   "source": [
    "greet?"
   ]
  },
  {
   "cell_type": "code",
   "execution_count": 6,
   "id": "3a3b1031-b8be-4c76-b607-32f2ed760460",
   "metadata": {},
   "outputs": [],
   "source": [
    "# adding docstring \n",
    "def greet():\n",
    "\n",
    "    \"\"\"\n",
    "    This function greets everyone when it is called \n",
    "    \"\"\"\n",
    "    print(\"Hello\")"
   ]
  },
  {
   "cell_type": "code",
   "execution_count": 7,
   "id": "50911328-822c-4931-b190-5ffcaf1397d2",
   "metadata": {},
   "outputs": [
    {
     "data": {
      "text/plain": [
       "\u001b[1;31mSignature:\u001b[0m \u001b[0mgreet\u001b[0m\u001b[1;33m(\u001b[0m\u001b[1;33m)\u001b[0m\u001b[1;33m\u001b[0m\u001b[1;33m\u001b[0m\u001b[0m\n",
       "\u001b[1;31mDocstring:\u001b[0m This function greets everyone when it is called \n",
       "\u001b[1;31mFile:\u001b[0m      c:\\users\\akshw\\appdata\\local\\temp\\ipykernel_136320\\1304503906.py\n",
       "\u001b[1;31mType:\u001b[0m      function"
      ]
     },
     "metadata": {},
     "output_type": "display_data"
    }
   ],
   "source": [
    "greet?"
   ]
  },
  {
   "cell_type": "markdown",
   "id": "96741025-69fc-4ed5-a621-4c8e802aade5",
   "metadata": {},
   "source": [
    "**PARAMETERS AND ARGUMENTS**"
   ]
  },
  {
   "cell_type": "markdown",
   "id": "eda9d3e1-4d1b-49d0-a0ae-c4ca1a0eec6d",
   "metadata": {},
   "source": [
    "    # Parameters->  Place holder in a function \n",
    "    # Argument -> When defining we call as parameters \n",
    "               -> When passing actual value we call it arguments "
   ]
  },
  {
   "cell_type": "code",
   "execution_count": 10,
   "id": "7c080095-f579-4bbf-b993-f87f64527d30",
   "metadata": {},
   "outputs": [],
   "source": [
    "def name (name):  # PARAMETER \n",
    "    print(\"My name is \"+name) "
   ]
  },
  {
   "cell_type": "code",
   "execution_count": 11,
   "id": "41297342-1267-4a49-b46c-fd5526c38972",
   "metadata": {},
   "outputs": [
    {
     "name": "stdout",
     "output_type": "stream",
     "text": [
      "My name is TONY STARK\n"
     ]
    }
   ],
   "source": [
    "name ( \"TONY STARK\") # ARGUMENT "
   ]
  },
  {
   "cell_type": "markdown",
   "id": "b8aea3a7-ab33-4596-9464-9c62ef382635",
   "metadata": {},
   "source": [
    "**RETURN**"
   ]
  },
  {
   "cell_type": "markdown",
   "id": "ccacc13b-fed5-417a-8dc3-804987f9e073",
   "metadata": {},
   "source": [
    "    # Funtion call ends when return statemnt is executed \n",
    "    # Code after return statement are not executed \n",
    "    # If no return value it returns None "
   ]
  },
  {
   "cell_type": "code",
   "execution_count": 26,
   "id": "56b33cb8-e513-410a-861e-202085336d92",
   "metadata": {},
   "outputs": [
    {
     "name": "stdout",
     "output_type": "stream",
     "text": [
      "5\n",
      "<class 'NoneType'>\n"
     ]
    }
   ],
   "source": [
    "def add (a, b):\n",
    "    c = a+b \n",
    "    print(c) \n",
    "\n",
    "print(type(add(2,3)))"
   ]
  },
  {
   "cell_type": "code",
   "execution_count": 30,
   "id": "fee09ff9-55ce-401e-bea8-360c646bc0a0",
   "metadata": {},
   "outputs": [
    {
     "name": "stdout",
     "output_type": "stream",
     "text": [
      "<class 'int'>\n"
     ]
    }
   ],
   "source": [
    "def add (a, b):\n",
    "    c = a+b \n",
    "    return c\n",
    "print(type(add(3,4)))"
   ]
  },
  {
   "cell_type": "code",
   "execution_count": 31,
   "id": "3cf81877-3ec8-4bb2-8faa-2d13b5a17680",
   "metadata": {},
   "outputs": [
    {
     "name": "stdout",
     "output_type": "stream",
     "text": [
      "<class 'NoneType'>\n"
     ]
    }
   ],
   "source": [
    "def func():\n",
    "    return \n",
    "print(type(func()))"
   ]
  },
  {
   "cell_type": "code",
   "execution_count": 32,
   "id": "3a972fb7-caab-435a-8fab-33c35c5ab9e9",
   "metadata": {},
   "outputs": [],
   "source": [
    "def func():\n",
    "    print(\"Before return\")\n",
    "    return \"Rahul\"\n",
    "    print(\"After return \")"
   ]
  },
  {
   "cell_type": "code",
   "execution_count": 33,
   "id": "95cd503a-4583-4da2-b36c-86cc5cdc6f98",
   "metadata": {},
   "outputs": [
    {
     "name": "stdout",
     "output_type": "stream",
     "text": [
      "Before return\n"
     ]
    },
    {
     "data": {
      "text/plain": [
       "'Rahul'"
      ]
     },
     "execution_count": 33,
     "metadata": {},
     "output_type": "execute_result"
    }
   ],
   "source": [
    "func()"
   ]
  },
  {
   "cell_type": "code",
   "execution_count": null,
   "id": "2c133374-1562-4586-8101-e90a1f930639",
   "metadata": {},
   "outputs": [],
   "source": []
  }
 ],
 "metadata": {
  "kernelspec": {
   "display_name": "Python 3 (ipykernel)",
   "language": "python",
   "name": "python3"
  },
  "language_info": {
   "codemirror_mode": {
    "name": "ipython",
    "version": 3
   },
   "file_extension": ".py",
   "mimetype": "text/x-python",
   "name": "python",
   "nbconvert_exporter": "python",
   "pygments_lexer": "ipython3",
   "version": "3.8.18"
  }
 },
 "nbformat": 4,
 "nbformat_minor": 5
}
