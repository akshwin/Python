{
 "cells": [
  {
   "cell_type": "markdown",
   "id": "10e368b0-6949-4525-a174-f1e2d68e8876",
   "metadata": {},
   "source": [
    "# DICTIONARY "
   ]
  },
  {
   "cell_type": "markdown",
   "id": "8a7a65ac-694e-4519-9c39-1b729dee2676",
   "metadata": {},
   "source": [
    "    # Key value form \n",
    "    # Ordered\n",
    "    # Dont support indexing \n",
    "    # Data accessed using key "
   ]
  },
  {
   "cell_type": "markdown",
   "id": "203201d6-9c39-4423-9695-b4e28f3a7e94",
   "metadata": {},
   "source": [
    "**CREATING DICTIONARY**"
   ]
  },
  {
   "cell_type": "code",
   "execution_count": 3,
   "id": "3db869e4-af9e-4150-ae9f-168140ac13e8",
   "metadata": {},
   "outputs": [
    {
     "data": {
      "text/plain": [
       "dict"
      ]
     },
     "execution_count": 3,
     "metadata": {},
     "output_type": "execute_result"
    }
   ],
   "source": [
    "dict = {}\n",
    "type(dict)"
   ]
  },
  {
   "cell_type": "code",
   "execution_count": 1,
   "id": "2bbb97e8-4d82-431f-9387-febc96051413",
   "metadata": {},
   "outputs": [],
   "source": [
    "dict = {1:'apple',2:'mango',3:'banana',4:'orange'}"
   ]
  },
  {
   "cell_type": "code",
   "execution_count": 2,
   "id": "d1b48b70-4e93-4b80-8b46-5290bc10c620",
   "metadata": {},
   "outputs": [
    {
     "data": {
      "text/plain": [
       "{1: 'apple', 2: 'mango', 3: 'banana', 4: 'orange'}"
      ]
     },
     "execution_count": 2,
     "metadata": {},
     "output_type": "execute_result"
    }
   ],
   "source": [
    "dict"
   ]
  },
  {
   "cell_type": "code",
   "execution_count": 12,
   "id": "d6bef6b9-7061-4132-8721-28cb57529c68",
   "metadata": {},
   "outputs": [],
   "source": [
    "name = ['Apple','mango','Orange']\n",
    "price = [120,180,130]\n",
    "fruit = (zip(name,price))"
   ]
  },
  {
   "cell_type": "code",
   "execution_count": 13,
   "id": "eef2a3c2-2878-48ce-aadd-7e80f528b8a9",
   "metadata": {},
   "outputs": [
    {
     "data": {
      "text/plain": [
       "<zip at 0x1c07f7c8100>"
      ]
     },
     "execution_count": 13,
     "metadata": {},
     "output_type": "execute_result"
    }
   ],
   "source": [
    "fruit"
   ]
  },
  {
   "cell_type": "markdown",
   "id": "83754379-4bb6-4fa0-946a-6022c52795c9",
   "metadata": {},
   "source": [
    "**ACCESSING DATA FROM DICTIONARY**"
   ]
  },
  {
   "cell_type": "code",
   "execution_count": 16,
   "id": "f1f6953e-771b-496a-a91d-d1399ec92bf0",
   "metadata": {},
   "outputs": [],
   "source": [
    "fruit = {\n",
    "    'Apple':120,\n",
    "    'Mango':100,\n",
    "    'Orange':90\n",
    "}"
   ]
  },
  {
   "cell_type": "code",
   "execution_count": 17,
   "id": "ca88ea11-39ed-4511-a031-cb2df4d212ab",
   "metadata": {},
   "outputs": [
    {
     "data": {
      "text/plain": [
       "{'Apple': 120, 'Mango': 100, 'Orange': 90}"
      ]
     },
     "execution_count": 17,
     "metadata": {},
     "output_type": "execute_result"
    }
   ],
   "source": [
    "fruit"
   ]
  },
  {
   "cell_type": "code",
   "execution_count": 18,
   "id": "eebca60c-40d9-428d-9166-8367ad949613",
   "metadata": {},
   "outputs": [
    {
     "data": {
      "text/plain": [
       "120"
      ]
     },
     "execution_count": 18,
     "metadata": {},
     "output_type": "execute_result"
    }
   ],
   "source": [
    "fruit['Apple']"
   ]
  },
  {
   "cell_type": "code",
   "execution_count": 20,
   "id": "1259c8e5-b7e5-4607-b9ca-2c50791917fd",
   "metadata": {},
   "outputs": [
    {
     "data": {
      "text/plain": [
       "120"
      ]
     },
     "execution_count": 20,
     "metadata": {},
     "output_type": "execute_result"
    }
   ],
   "source": [
    "# get method \n",
    "\n",
    "fruit.get('Apple')"
   ]
  },
  {
   "cell_type": "code",
   "execution_count": 21,
   "id": "4c9a417c-5459-4be4-a19c-dd7ee0d69c1b",
   "metadata": {},
   "outputs": [
    {
     "data": {
      "text/plain": [
       "100"
      ]
     },
     "execution_count": 21,
     "metadata": {},
     "output_type": "execute_result"
    }
   ],
   "source": [
    "fruit.get('Mango')"
   ]
  },
  {
   "cell_type": "code",
   "execution_count": 22,
   "id": "535efd75-d077-4379-870b-2cfab8c46355",
   "metadata": {},
   "outputs": [],
   "source": [
    "fruit.get('Guava')"
   ]
  },
  {
   "cell_type": "code",
   "execution_count": 23,
   "id": "4321b937-55ac-4615-8056-72eac4f562e5",
   "metadata": {},
   "outputs": [
    {
     "data": {
      "text/plain": [
       "'Not present'"
      ]
     },
     "execution_count": 23,
     "metadata": {},
     "output_type": "execute_result"
    }
   ],
   "source": [
    "fruit.get('Guava','Not present')"
   ]
  },
  {
   "cell_type": "markdown",
   "id": "30712c38-42b6-4eff-90a9-f80e30d4c294",
   "metadata": {},
   "source": [
    "**UPDATING DICTIONARY**"
   ]
  },
  {
   "cell_type": "code",
   "execution_count": 24,
   "id": "10286e7b-b4c7-4ee3-a7eb-d7384ea3a062",
   "metadata": {},
   "outputs": [],
   "source": [
    "fruit = {\n",
    "    'Apple':120,\n",
    "    'Mango':100,\n",
    "    'Orange':90\n",
    "}"
   ]
  },
  {
   "cell_type": "code",
   "execution_count": 26,
   "id": "70802baf-5d66-47f9-8bbf-3b103fdf7d55",
   "metadata": {},
   "outputs": [
    {
     "data": {
      "text/plain": [
       "120"
      ]
     },
     "execution_count": 26,
     "metadata": {},
     "output_type": "execute_result"
    }
   ],
   "source": [
    "# Using key \n",
    "\n",
    "fruit['Apple']"
   ]
  },
  {
   "cell_type": "code",
   "execution_count": 27,
   "id": "699e722c-810a-4ef0-9073-5b899d9240db",
   "metadata": {},
   "outputs": [],
   "source": [
    "fruit['Apple']= {\"smal\":90,\"large\":120}"
   ]
  },
  {
   "cell_type": "code",
   "execution_count": 28,
   "id": "e546cb51-54ee-4fe4-8a5a-6f222ca66a7e",
   "metadata": {},
   "outputs": [
    {
     "data": {
      "text/plain": [
       "{'smal': 90, 'large': 120}"
      ]
     },
     "execution_count": 28,
     "metadata": {},
     "output_type": "execute_result"
    }
   ],
   "source": [
    "fruit['Apple']"
   ]
  },
  {
   "cell_type": "code",
   "execution_count": 29,
   "id": "51f1fbd5-aa04-44f9-b7eb-f26f3798d6cb",
   "metadata": {},
   "outputs": [
    {
     "data": {
      "text/plain": [
       "{'Apple': {'smal': 90, 'large': 120}, 'Mango': 100, 'Orange': 90}"
      ]
     },
     "execution_count": 29,
     "metadata": {},
     "output_type": "execute_result"
    }
   ],
   "source": [
    "fruit"
   ]
  },
  {
   "cell_type": "code",
   "execution_count": 30,
   "id": "6a3f8545-48dd-4c83-94f5-ddd3cd31a0be",
   "metadata": {},
   "outputs": [],
   "source": [
    "fruit['Guava']=80"
   ]
  },
  {
   "cell_type": "code",
   "execution_count": 31,
   "id": "fc59e256-2f6e-4574-87f6-a32a8443b29f",
   "metadata": {},
   "outputs": [
    {
     "data": {
      "text/plain": [
       "{'Apple': {'smal': 90, 'large': 120}, 'Mango': 100, 'Orange': 90, 'Guava': 80}"
      ]
     },
     "execution_count": 31,
     "metadata": {},
     "output_type": "execute_result"
    }
   ],
   "source": [
    "fruit"
   ]
  },
  {
   "cell_type": "code",
   "execution_count": 32,
   "id": "ec7576fa-a86a-4d9c-b796-ee9f53d7ded7",
   "metadata": {},
   "outputs": [],
   "source": [
    "new = {'Grape':120,'Orange':70,'Berry':140}"
   ]
  },
  {
   "cell_type": "code",
   "execution_count": 33,
   "id": "b74b8743-9713-401b-aaae-e73d631be8c2",
   "metadata": {},
   "outputs": [],
   "source": [
    "fruit.update(new)"
   ]
  },
  {
   "cell_type": "code",
   "execution_count": 34,
   "id": "98877dd3-7be5-42f0-95c6-9c9c2298e641",
   "metadata": {},
   "outputs": [
    {
     "data": {
      "text/plain": [
       "{'Apple': {'smal': 90, 'large': 120},\n",
       " 'Mango': 100,\n",
       " 'Orange': 70,\n",
       " 'Guava': 80,\n",
       " 'Grape': 120,\n",
       " 'Berry': 140}"
      ]
     },
     "execution_count": 34,
     "metadata": {},
     "output_type": "execute_result"
    }
   ],
   "source": [
    "fruit"
   ]
  },
  {
   "cell_type": "markdown",
   "id": "78944515-91c5-4e4b-ae1f-7a2384d052ad",
   "metadata": {},
   "source": [
    "**DELETION OPERATION**"
   ]
  },
  {
   "cell_type": "code",
   "execution_count": 35,
   "id": "c0af2973-b364-4ecf-932d-754e3583cca6",
   "metadata": {},
   "outputs": [],
   "source": [
    "fruit = {\n",
    "    'Apple':120,\n",
    "    'Mango':100,\n",
    "    'Orange':90\n",
    "}"
   ]
  },
  {
   "cell_type": "code",
   "execution_count": 36,
   "id": "98b49f33-c227-4211-aaeb-6521a6daf4af",
   "metadata": {},
   "outputs": [
    {
     "data": {
      "text/plain": [
       "{'Apple': 120, 'Mango': 100, 'Orange': 90}"
      ]
     },
     "execution_count": 36,
     "metadata": {},
     "output_type": "execute_result"
    }
   ],
   "source": [
    "fruit"
   ]
  },
  {
   "cell_type": "code",
   "execution_count": 37,
   "id": "9df8b19f-14f1-4d59-b989-7a064cb8ddd8",
   "metadata": {},
   "outputs": [
    {
     "data": {
      "text/plain": [
       "True"
      ]
     },
     "execution_count": 37,
     "metadata": {},
     "output_type": "execute_result"
    }
   ],
   "source": [
    "# Citizenship \n",
    "\"Apple\" in fruit"
   ]
  },
  {
   "cell_type": "code",
   "execution_count": 38,
   "id": "a4bd1637-7c53-4668-9a98-deb8860233ff",
   "metadata": {},
   "outputs": [
    {
     "data": {
      "text/plain": [
       "False"
      ]
     },
     "execution_count": 38,
     "metadata": {},
     "output_type": "execute_result"
    }
   ],
   "source": [
    "\"Grapes\" in fruit"
   ]
  },
  {
   "cell_type": "code",
   "execution_count": 39,
   "id": "f5470852-7988-474d-9283-39ea70300880",
   "metadata": {},
   "outputs": [
    {
     "data": {
      "text/plain": [
       "120"
      ]
     },
     "execution_count": 39,
     "metadata": {},
     "output_type": "execute_result"
    }
   ],
   "source": [
    "# dict.pop(key)\n",
    "\n",
    "fruit.pop('Apple')"
   ]
  },
  {
   "cell_type": "code",
   "execution_count": 40,
   "id": "7ded12a3-b528-4cff-a395-8157e8100b3d",
   "metadata": {},
   "outputs": [
    {
     "data": {
      "text/plain": [
       "{'Mango': 100, 'Orange': 90}"
      ]
     },
     "execution_count": 40,
     "metadata": {},
     "output_type": "execute_result"
    }
   ],
   "source": [
    "fruit"
   ]
  },
  {
   "cell_type": "code",
   "execution_count": 42,
   "id": "f2e77336-3f86-4162-964a-13f462b489ea",
   "metadata": {},
   "outputs": [
    {
     "data": {
      "text/plain": [
       "('Orange', 90)"
      ]
     },
     "execution_count": 42,
     "metadata": {},
     "output_type": "execute_result"
    }
   ],
   "source": [
    "#dict.popitem()\n",
    "fruit.popitem()"
   ]
  },
  {
   "cell_type": "code",
   "execution_count": 43,
   "id": "aa96953b-33e3-4881-80f5-e244400b9cbf",
   "metadata": {},
   "outputs": [
    {
     "data": {
      "text/plain": [
       "{'Mango': 100}"
      ]
     },
     "execution_count": 43,
     "metadata": {},
     "output_type": "execute_result"
    }
   ],
   "source": [
    "fruit"
   ]
  },
  {
   "cell_type": "code",
   "execution_count": 44,
   "id": "c6b72397-d38b-4efd-ba68-90d3894f7940",
   "metadata": {},
   "outputs": [],
   "source": [
    "# del object \n",
    "\n",
    "fruit = {\n",
    "    'Apple':120,\n",
    "    'Mango':100,\n",
    "    'Orange':90\n",
    "}"
   ]
  },
  {
   "cell_type": "code",
   "execution_count": 45,
   "id": "db2b5e02-26fd-45c5-870c-ddbdd411c4f6",
   "metadata": {},
   "outputs": [],
   "source": [
    "del fruit # ereased from the memory completely "
   ]
  },
  {
   "cell_type": "markdown",
   "id": "433b2266-4181-47d0-a864-f17077800d7f",
   "metadata": {},
   "source": [
    "**ITERATOIN IN DICTIONARY**"
   ]
  },
  {
   "cell_type": "code",
   "execution_count": 47,
   "id": "c01488a7-72aa-4d2f-97ab-f8221087d092",
   "metadata": {},
   "outputs": [],
   "source": [
    "fruit = {\n",
    "    'Apple':120,\n",
    "    'Mango':100,\n",
    "    'Orange':90\n",
    "}"
   ]
  },
  {
   "cell_type": "code",
   "execution_count": 48,
   "id": "ca6e45f8-bb4d-4759-8e2a-93ec47eeed1e",
   "metadata": {},
   "outputs": [
    {
     "name": "stdout",
     "output_type": "stream",
     "text": [
      "Apple\n",
      "Mango\n",
      "Orange\n"
     ]
    }
   ],
   "source": [
    "for i in fruit : \n",
    "    print(i)"
   ]
  },
  {
   "cell_type": "code",
   "execution_count": 54,
   "id": "c5f21841-b546-4ec8-8ae5-0c400b8ae49d",
   "metadata": {},
   "outputs": [
    {
     "name": "stdout",
     "output_type": "stream",
     "text": [
      "120\n",
      "100\n",
      "90\n"
     ]
    }
   ],
   "source": [
    "for i in fruit: \n",
    "    print(fruit[i])"
   ]
  },
  {
   "cell_type": "code",
   "execution_count": 56,
   "id": "334e39d3-a989-4934-a97d-ac670cce79ac",
   "metadata": {},
   "outputs": [
    {
     "name": "stdout",
     "output_type": "stream",
     "text": [
      "Apple 120\n",
      "Mango 100\n",
      "Orange 90\n"
     ]
    }
   ],
   "source": [
    "# dict items \n",
    "\n",
    "for key , value  in fruit.items():\n",
    "    print(key,value)"
   ]
  },
  {
   "cell_type": "markdown",
   "id": "5aacb95e-7e8a-486d-b981-da5b3e56f767",
   "metadata": {},
   "source": [
    "**DICTIONARY METHODS**"
   ]
  },
  {
   "cell_type": "code",
   "execution_count": 57,
   "id": "d7410957-6ee0-448b-815a-5137ef3b79a5",
   "metadata": {},
   "outputs": [],
   "source": [
    "fruit = {\n",
    "    'Apple':120,\n",
    "    'Mango':100,\n",
    "    'Orange':90\n",
    "}"
   ]
  },
  {
   "cell_type": "code",
   "execution_count": 59,
   "id": "83c99ddb-4b71-4de5-b940-ec1af986c23b",
   "metadata": {},
   "outputs": [
    {
     "data": {
      "text/plain": [
       "dict_keys(['Apple', 'Mango', 'Orange'])"
      ]
     },
     "execution_count": 59,
     "metadata": {},
     "output_type": "execute_result"
    }
   ],
   "source": [
    "fruit.keys()"
   ]
  },
  {
   "cell_type": "code",
   "execution_count": 60,
   "id": "6785ee4b-dcf0-4514-84e6-ca4fec7a0f9d",
   "metadata": {},
   "outputs": [
    {
     "data": {
      "text/plain": [
       "dict_values([120, 100, 90])"
      ]
     },
     "execution_count": 60,
     "metadata": {},
     "output_type": "execute_result"
    }
   ],
   "source": [
    "fruit.values()"
   ]
  },
  {
   "cell_type": "code",
   "execution_count": 61,
   "id": "a6e27b45-4809-4def-8623-ec6dc9c7480c",
   "metadata": {},
   "outputs": [
    {
     "data": {
      "text/plain": [
       "dict_items([('Apple', 120), ('Mango', 100), ('Orange', 90)])"
      ]
     },
     "execution_count": 61,
     "metadata": {},
     "output_type": "execute_result"
    }
   ],
   "source": [
    "fruit.items()"
   ]
  },
  {
   "cell_type": "code",
   "execution_count": 62,
   "id": "6133f660-8eb6-4964-a791-bcc86de073cd",
   "metadata": {},
   "outputs": [
    {
     "name": "stdin",
     "output_type": "stream",
     "text": [
      " akshwin\n"
     ]
    },
    {
     "name": "stdout",
     "output_type": "stream",
     "text": [
      "a\n",
      "k\n",
      "s\n",
      "h\n",
      "w\n",
      "i\n",
      "n\n"
     ]
    }
   ],
   "source": [
    "# Frequency of character in a string\n",
    "\n",
    "name = input()\n",
    "for i in name:\n",
    "    print(i)"
   ]
  },
  {
   "cell_type": "code",
   "execution_count": 66,
   "id": "c8162696-122f-4255-805d-eaf9a35546b6",
   "metadata": {},
   "outputs": [
    {
     "name": "stdout",
     "output_type": "stream",
     "text": [
      "{'a': 1, 'k': 1, 's': 1, 'h': 1, 'w': 1, 'i': 1, 'n': 1}\n"
     ]
    }
   ],
   "source": [
    "freq = {}\n",
    "\n",
    "for i in name : \n",
    "    if i not in freq:\n",
    "        freq[i]=1\n",
    "    else : \n",
    "        freq[i]+=1\n",
    "print(freq)"
   ]
  }
 ],
 "metadata": {
  "kernelspec": {
   "display_name": "Python 3 (ipykernel)",
   "language": "python",
   "name": "python3"
  },
  "language_info": {
   "codemirror_mode": {
    "name": "ipython",
    "version": 3
   },
   "file_extension": ".py",
   "mimetype": "text/x-python",
   "name": "python",
   "nbconvert_exporter": "python",
   "pygments_lexer": "ipython3",
   "version": "3.8.18"
  }
 },
 "nbformat": 4,
 "nbformat_minor": 5
}
