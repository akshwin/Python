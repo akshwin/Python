{
 "cells": [
  {
   "cell_type": "markdown",
   "id": "6a799cae-df16-4915-bd3e-f5e0a5203ba5",
   "metadata": {},
   "source": [
    "# FUNCTIONS "
   ]
  },
  {
   "cell_type": "markdown",
   "id": "1d271bc5-162e-4c1b-813b-6f55e31d6145",
   "metadata": {},
   "source": [
    "    # Reusability \n",
    "    # Code manageble and organised \n",
    "    # Types -> User defined , Built in "
   ]
  },
  {
   "cell_type": "markdown",
   "id": "041d9345-d378-432f-a167-2310282a55f0",
   "metadata": {},
   "source": [
    "**DEFINIG FUNCTION**"
   ]
  },
  {
   "cell_type": "code",
   "execution_count": 1,
   "id": "f2366cf0-1936-472f-977f-24e252b83384",
   "metadata": {},
   "outputs": [],
   "source": [
    "def greet():\n",
    "    print(\"Hello\")"
   ]
  },
  {
   "cell_type": "code",
   "execution_count": 2,
   "id": "c506949f-5852-4502-9404-3137f6023ac7",
   "metadata": {},
   "outputs": [
    {
     "name": "stdout",
     "output_type": "stream",
     "text": [
      "Hello\n"
     ]
    }
   ],
   "source": [
    "# Calling a function \n",
    "greet()"
   ]
  },
  {
   "cell_type": "markdown",
   "id": "afa0f6d3-5330-4221-80c2-9f904f068dc8",
   "metadata": {},
   "source": [
    "**DOCSTRINGS**"
   ]
  },
  {
   "cell_type": "code",
   "execution_count": 3,
   "id": "1b243acf-c53f-4685-9af2-38b3ff6f9fb6",
   "metadata": {},
   "outputs": [
    {
     "data": {
      "text/plain": [
       "\u001b[1;31mDocstring:\u001b[0m\n",
       "print(value, ..., sep=' ', end='\\n', file=sys.stdout, flush=False)\n",
       "\n",
       "Prints the values to a stream, or to sys.stdout by default.\n",
       "Optional keyword arguments:\n",
       "file:  a file-like object (stream); defaults to the current sys.stdout.\n",
       "sep:   string inserted between values, default a space.\n",
       "end:   string appended after the last value, default a newline.\n",
       "flush: whether to forcibly flush the stream.\n",
       "\u001b[1;31mType:\u001b[0m      builtin_function_or_method"
      ]
     },
     "metadata": {},
     "output_type": "display_data"
    }
   ],
   "source": [
    "print?"
   ]
  },
  {
   "cell_type": "code",
   "execution_count": 4,
   "id": "e71b8901-63ae-4c41-a858-96afc79a9691",
   "metadata": {},
   "outputs": [
    {
     "data": {
      "text/plain": [
       "\u001b[1;31mSignature:\u001b[0m \u001b[0mgreet\u001b[0m\u001b[1;33m(\u001b[0m\u001b[1;33m)\u001b[0m\u001b[1;33m\u001b[0m\u001b[1;33m\u001b[0m\u001b[0m\n",
       "\u001b[1;31mDocstring:\u001b[0m <no docstring>\n",
       "\u001b[1;31mFile:\u001b[0m      c:\\users\\akshw\\appdata\\local\\temp\\ipykernel_229460\\1811393548.py\n",
       "\u001b[1;31mType:\u001b[0m      function"
      ]
     },
     "metadata": {},
     "output_type": "display_data"
    }
   ],
   "source": [
    "greet?"
   ]
  },
  {
   "cell_type": "code",
   "execution_count": 5,
   "id": "3a3b1031-b8be-4c76-b607-32f2ed760460",
   "metadata": {},
   "outputs": [],
   "source": [
    "# adding docstring \n",
    "def greet():\n",
    "\n",
    "    \"\"\"\n",
    "    This function greets everyone when it is called \n",
    "    \"\"\"\n",
    "    print(\"Hello\")"
   ]
  },
  {
   "cell_type": "code",
   "execution_count": 6,
   "id": "50911328-822c-4931-b190-5ffcaf1397d2",
   "metadata": {},
   "outputs": [
    {
     "data": {
      "text/plain": [
       "\u001b[1;31mSignature:\u001b[0m \u001b[0mgreet\u001b[0m\u001b[1;33m(\u001b[0m\u001b[1;33m)\u001b[0m\u001b[1;33m\u001b[0m\u001b[1;33m\u001b[0m\u001b[0m\n",
       "\u001b[1;31mDocstring:\u001b[0m This function greets everyone when it is called \n",
       "\u001b[1;31mFile:\u001b[0m      c:\\users\\akshw\\appdata\\local\\temp\\ipykernel_229460\\1304503906.py\n",
       "\u001b[1;31mType:\u001b[0m      function"
      ]
     },
     "metadata": {},
     "output_type": "display_data"
    }
   ],
   "source": [
    "greet?"
   ]
  },
  {
   "cell_type": "markdown",
   "id": "96741025-69fc-4ed5-a621-4c8e802aade5",
   "metadata": {},
   "source": [
    "**PARAMETERS AND ARGUMENTS**"
   ]
  },
  {
   "cell_type": "markdown",
   "id": "eda9d3e1-4d1b-49d0-a0ae-c4ca1a0eec6d",
   "metadata": {},
   "source": [
    "    # Parameters->  Place holder in a function \n",
    "    # Argument -> When defining we call as parameters \n",
    "               -> When passing actual value we call it arguments "
   ]
  },
  {
   "cell_type": "code",
   "execution_count": 7,
   "id": "7c080095-f579-4bbf-b993-f87f64527d30",
   "metadata": {},
   "outputs": [],
   "source": [
    "def name (name):  # PARAMETER \n",
    "    print(\"My name is \"+name) "
   ]
  },
  {
   "cell_type": "code",
   "execution_count": 8,
   "id": "41297342-1267-4a49-b46c-fd5526c38972",
   "metadata": {},
   "outputs": [
    {
     "name": "stdout",
     "output_type": "stream",
     "text": [
      "My name is TONY STARK\n"
     ]
    }
   ],
   "source": [
    "name ( \"TONY STARK\") # ARGUMENT "
   ]
  },
  {
   "cell_type": "markdown",
   "id": "b8aea3a7-ab33-4596-9464-9c62ef382635",
   "metadata": {},
   "source": [
    "**RETURN**"
   ]
  },
  {
   "cell_type": "markdown",
   "id": "ccacc13b-fed5-417a-8dc3-804987f9e073",
   "metadata": {},
   "source": [
    "    # Funtion call ends when return statemnt is executed \n",
    "    # Code after return statement are not executed \n",
    "    # If no return value it returns None "
   ]
  },
  {
   "cell_type": "code",
   "execution_count": 9,
   "id": "56b33cb8-e513-410a-861e-202085336d92",
   "metadata": {},
   "outputs": [
    {
     "name": "stdout",
     "output_type": "stream",
     "text": [
      "5\n",
      "<class 'NoneType'>\n"
     ]
    }
   ],
   "source": [
    "def add (a, b):\n",
    "    c = a+b \n",
    "    print(c) \n",
    "\n",
    "print(type(add(2,3)))"
   ]
  },
  {
   "cell_type": "code",
   "execution_count": 10,
   "id": "fee09ff9-55ce-401e-bea8-360c646bc0a0",
   "metadata": {},
   "outputs": [
    {
     "name": "stdout",
     "output_type": "stream",
     "text": [
      "<class 'int'>\n"
     ]
    }
   ],
   "source": [
    "def add (a, b):\n",
    "    c = a+b \n",
    "    return c\n",
    "print(type(add(3,4)))"
   ]
  },
  {
   "cell_type": "code",
   "execution_count": 11,
   "id": "3cf81877-3ec8-4bb2-8faa-2d13b5a17680",
   "metadata": {},
   "outputs": [
    {
     "name": "stdout",
     "output_type": "stream",
     "text": [
      "<class 'NoneType'>\n"
     ]
    }
   ],
   "source": [
    "def func():\n",
    "    return \n",
    "print(type(func()))"
   ]
  },
  {
   "cell_type": "code",
   "execution_count": 12,
   "id": "3a972fb7-caab-435a-8fab-33c35c5ab9e9",
   "metadata": {},
   "outputs": [],
   "source": [
    "def func():\n",
    "    print(\"Before return\")\n",
    "    return \"Rahul\"\n",
    "    print(\"After return \")"
   ]
  },
  {
   "cell_type": "code",
   "execution_count": 13,
   "id": "95cd503a-4583-4da2-b36c-86cc5cdc6f98",
   "metadata": {},
   "outputs": [
    {
     "name": "stdout",
     "output_type": "stream",
     "text": [
      "Before return\n"
     ]
    },
    {
     "data": {
      "text/plain": [
       "'Rahul'"
      ]
     },
     "execution_count": 13,
     "metadata": {},
     "output_type": "execute_result"
    }
   ],
   "source": [
    "func()"
   ]
  },
  {
   "cell_type": "markdown",
   "id": "cc20e994-ede2-4c3c-afd7-9c322ee565eb",
   "metadata": {},
   "source": [
    "**RETURN MULTIPLE VALUES**"
   ]
  },
  {
   "cell_type": "code",
   "execution_count": 3,
   "id": "b7d4a73b-0779-4a6d-a7bb-cd573cbe7546",
   "metadata": {},
   "outputs": [],
   "source": [
    "def intro(name , age , hobby):\n",
    "    return name , age , hobby"
   ]
  },
  {
   "cell_type": "code",
   "execution_count": 4,
   "id": "d4196881-6489-4d1f-b261-e0172bd1019a",
   "metadata": {},
   "outputs": [
    {
     "name": "stdout",
     "output_type": "stream",
     "text": [
      "2 3\n"
     ]
    }
   ],
   "source": [
    "a , b = 2 ,3 \n",
    "print(a,b)"
   ]
  },
  {
   "cell_type": "code",
   "execution_count": 5,
   "id": "87e7c568-a834-4af9-86eb-7a6c56a0d1c2",
   "metadata": {},
   "outputs": [],
   "source": [
    "c , d ,e = intro('name',25,'travel')"
   ]
  },
  {
   "cell_type": "code",
   "execution_count": 6,
   "id": "6a627b67-d3ae-4064-9116-d3a811a47319",
   "metadata": {},
   "outputs": [
    {
     "name": "stdout",
     "output_type": "stream",
     "text": [
      "name 25 travel\n"
     ]
    }
   ],
   "source": [
    "print(c,d,e)"
   ]
  },
  {
   "cell_type": "code",
   "execution_count": 7,
   "id": "1fcf47fc-0dc4-4617-9e40-ee0ed5dd95f0",
   "metadata": {},
   "outputs": [],
   "source": [
    "result = intro(\"tony\",25,\"travel\")"
   ]
  },
  {
   "cell_type": "code",
   "execution_count": 8,
   "id": "c3b9e03a-85b8-4626-8d9e-623a7f81dd97",
   "metadata": {},
   "outputs": [
    {
     "data": {
      "text/plain": [
       "('tony', 25, 'travel')"
      ]
     },
     "execution_count": 8,
     "metadata": {},
     "output_type": "execute_result"
    }
   ],
   "source": [
    "result"
   ]
  },
  {
   "cell_type": "markdown",
   "id": "a181c8ef-2589-4b16-a6ca-4a82bbbafad5",
   "metadata": {},
   "source": [
    "**SCOPE OF VARIABLE**"
   ]
  },
  {
   "cell_type": "markdown",
   "id": "ad7af515-60bd-4ec1-b738-982a66068728",
   "metadata": {},
   "source": [
    "    # Global and local \n",
    "    # Local -> Locally in the program \n",
    "    # Global -> Anywhere in the program"
   ]
  },
  {
   "cell_type": "code",
   "execution_count": 14,
   "id": "c2e95fc8-14ee-450e-8b90-9d1ee8f54f79",
   "metadata": {},
   "outputs": [
    {
     "name": "stdout",
     "output_type": "stream",
     "text": [
      "5\n",
      "30\n"
     ]
    }
   ],
   "source": [
    "a = 5 \n",
    "def func():\n",
    "    x = 30 \n",
    "    print(x)\n",
    "\n",
    "print(a)\n",
    "func()"
   ]
  },
  {
   "cell_type": "code",
   "execution_count": 15,
   "id": "ec790ba6-3d46-4bb1-9b1e-d2160c13bfb5",
   "metadata": {},
   "outputs": [
    {
     "name": "stdout",
     "output_type": "stream",
     "text": [
      "3\n",
      "5\n"
     ]
    },
    {
     "ename": "NameError",
     "evalue": "name 'x' is not defined",
     "output_type": "error",
     "traceback": [
      "\u001b[1;31m---------------------------------------------------------------------------\u001b[0m",
      "\u001b[1;31mNameError\u001b[0m                                 Traceback (most recent call last)",
      "Cell \u001b[1;32mIn[15], line 9\u001b[0m\n\u001b[0;32m      7\u001b[0m func()\n\u001b[0;32m      8\u001b[0m \u001b[38;5;28mprint\u001b[39m(a)\n\u001b[1;32m----> 9\u001b[0m \u001b[38;5;28mprint\u001b[39m(\u001b[43mx\u001b[49m)\n",
      "\u001b[1;31mNameError\u001b[0m: name 'x' is not defined"
     ]
    }
   ],
   "source": [
    "a = 5 \n",
    "\n",
    "def func():\n",
    "    x = 3 \n",
    "    print(x)\n",
    "\n",
    "func()\n",
    "print(a)\n",
    "print(x) # Local scope "
   ]
  },
  {
   "cell_type": "code",
   "execution_count": 16,
   "id": "e7e8eefc-dd04-41d9-874d-014c6843598b",
   "metadata": {
    "jupyter": {
     "source_hidden": true
    }
   },
   "outputs": [
    {
     "name": "stdout",
     "output_type": "stream",
     "text": [
      "20\n",
      "5\n"
     ]
    }
   ],
   "source": [
    "a = 5 \n",
    "\n",
    "def func():\n",
    "    a = 20 \n",
    "    print(a)\n",
    "\n",
    "func()\n",
    "print(a)"
   ]
  },
  {
   "cell_type": "code",
   "execution_count": 21,
   "id": "e4525278-73f5-4b6e-8690-d034135e23d6",
   "metadata": {},
   "outputs": [
    {
     "name": "stdout",
     "output_type": "stream",
     "text": [
      "5\n",
      "20\n",
      "20\n"
     ]
    }
   ],
   "source": [
    "a = 5 \n",
    "\n",
    "def func():\n",
    "    global a\n",
    "    a = 20 \n",
    "    print(a)\n",
    "\n",
    "print(a)\n",
    "func()\n",
    "print(a)"
   ]
  },
  {
   "cell_type": "markdown",
   "id": "5c878431-9f70-4797-bbe6-babaa5303630",
   "metadata": {},
   "source": [
    "**LAMBDA FUNCTION**"
   ]
  },
  {
   "cell_type": "markdown",
   "id": "120ad0a9-a90d-4bb7-9f73-fde31a89f2db",
   "metadata": {},
   "source": [
    "    # We need a nameless function for a short period of time "
   ]
  },
  {
   "cell_type": "code",
   "execution_count": 1,
   "id": "4214b8aa-0f7f-43ac-b3c7-102ee4302063",
   "metadata": {},
   "outputs": [],
   "source": [
    "def add (a,b):\n",
    "    return a+b"
   ]
  },
  {
   "cell_type": "code",
   "execution_count": 2,
   "id": "231bdf11-3db8-474f-b7d6-e80e03c173e0",
   "metadata": {},
   "outputs": [
    {
     "data": {
      "text/plain": [
       "5"
      ]
     },
     "execution_count": 2,
     "metadata": {},
     "output_type": "execute_result"
    }
   ],
   "source": [
    "add(2,3)"
   ]
  },
  {
   "cell_type": "code",
   "execution_count": 6,
   "id": "7d576dcf-2404-4009-a167-edd250c2aff8",
   "metadata": {},
   "outputs": [
    {
     "data": {
      "text/plain": [
       "7"
      ]
     },
     "execution_count": 6,
     "metadata": {},
     "output_type": "execute_result"
    }
   ],
   "source": [
    "(lambda a, b :  a+b)(3,4)"
   ]
  },
  {
   "cell_type": "code",
   "execution_count": 7,
   "id": "02be3ce3-b244-4c0c-8ea9-8251d9f5b4c1",
   "metadata": {},
   "outputs": [
    {
     "data": {
      "text/plain": [
       "6"
      ]
     },
     "execution_count": 7,
     "metadata": {},
     "output_type": "execute_result"
    }
   ],
   "source": [
    "func = lambda a , b : a+b\n",
    "func(2,4)"
   ]
  },
  {
   "cell_type": "code",
   "execution_count": 8,
   "id": "5f18d596-ad37-4ff5-a7cc-0ff47c0caa67",
   "metadata": {},
   "outputs": [
    {
     "data": {
      "text/plain": [
       "function"
      ]
     },
     "execution_count": 8,
     "metadata": {},
     "output_type": "execute_result"
    }
   ],
   "source": [
    "type(func)"
   ]
  },
  {
   "cell_type": "code",
   "execution_count": 9,
   "id": "cf85363c-6831-47de-a8d5-d081454fd638",
   "metadata": {},
   "outputs": [],
   "source": [
    "def large(a,b):\n",
    "    if a > b : \n",
    "        return a \n",
    "    else : \n",
    "        return b"
   ]
  },
  {
   "cell_type": "code",
   "execution_count": 10,
   "id": "fc52b067-e66e-4366-821b-df5fb060020e",
   "metadata": {},
   "outputs": [
    {
     "data": {
      "text/plain": [
       "3"
      ]
     },
     "execution_count": 10,
     "metadata": {},
     "output_type": "execute_result"
    }
   ],
   "source": [
    "large(2,3)"
   ]
  },
  {
   "cell_type": "code",
   "execution_count": 16,
   "id": "0fe8a3a1-1aaa-450f-a360-1fa6849bda1a",
   "metadata": {},
   "outputs": [],
   "source": [
    "func1 = lambda a , b : a if a > b else b"
   ]
  },
  {
   "cell_type": "code",
   "execution_count": 17,
   "id": "7add2522-9e09-42d1-aaf8-4ca35c28c006",
   "metadata": {},
   "outputs": [
    {
     "data": {
      "text/plain": [
       "4"
      ]
     },
     "execution_count": 17,
     "metadata": {},
     "output_type": "execute_result"
    }
   ],
   "source": [
    "func1(3,4)"
   ]
  },
  {
   "cell_type": "code",
   "execution_count": 18,
   "id": "3953ddc8-ad08-4944-8d9a-d4ba2991934a",
   "metadata": {},
   "outputs": [],
   "source": [
    "lst = [(12,56),(2,4),(5,3)]\n",
    "\n",
    "lst.sort()"
   ]
  },
  {
   "cell_type": "code",
   "execution_count": 19,
   "id": "fef9240d-33c8-4a20-8090-d42fdbd7c847",
   "metadata": {},
   "outputs": [
    {
     "data": {
      "text/plain": [
       "[(2, 4), (5, 3), (12, 56)]"
      ]
     },
     "execution_count": 19,
     "metadata": {},
     "output_type": "execute_result"
    }
   ],
   "source": [
    "lst"
   ]
  },
  {
   "cell_type": "code",
   "execution_count": 20,
   "id": "83f81669-a9a7-4d38-aba3-65f68d0d9594",
   "metadata": {},
   "outputs": [],
   "source": [
    "def k(x):\n",
    "    return x[1]\n",
    "lst.sort(key = k)"
   ]
  },
  {
   "cell_type": "code",
   "execution_count": 21,
   "id": "98a51571-6e2f-4068-8986-14fca06fd668",
   "metadata": {},
   "outputs": [
    {
     "data": {
      "text/plain": [
       "[(5, 3), (2, 4), (12, 56)]"
      ]
     },
     "execution_count": 21,
     "metadata": {},
     "output_type": "execute_result"
    }
   ],
   "source": [
    "lst"
   ]
  },
  {
   "cell_type": "code",
   "execution_count": 23,
   "id": "97dd62b9-6ab6-4180-8ee1-14bd82e31997",
   "metadata": {},
   "outputs": [],
   "source": [
    "lst.sort(key = lambda x : x[1])"
   ]
  },
  {
   "cell_type": "code",
   "execution_count": 24,
   "id": "2e433564-e6f9-470b-9e00-ff9814a14698",
   "metadata": {},
   "outputs": [
    {
     "data": {
      "text/plain": [
       "[(5, 3), (2, 4), (12, 56)]"
      ]
     },
     "execution_count": 24,
     "metadata": {},
     "output_type": "execute_result"
    }
   ],
   "source": [
    "lst"
   ]
  },
  {
   "cell_type": "code",
   "execution_count": 28,
   "id": "037bbf5c-c454-4c95-b147-8987631bb292",
   "metadata": {},
   "outputs": [
    {
     "name": "stdout",
     "output_type": "stream",
     "text": [
      "2\n",
      "4\n",
      "6\n",
      "8\n"
     ]
    }
   ],
   "source": [
    "# PRINT EVEN NUMBERS \n",
    "\n",
    "lst = [1,2,3,4,5,6,7,8]\n",
    "\n",
    "def even(lst):\n",
    "    for i in lst :\n",
    "        if i % 2 == 0 :\n",
    "            print(i)\n",
    "even(lst)"
   ]
  },
  {
   "cell_type": "code",
   "execution_count": 29,
   "id": "23d2bc68-4243-48aa-94fd-6aad542ba74c",
   "metadata": {},
   "outputs": [
    {
     "data": {
      "text/plain": [
       "[1, 2, 3, 4, 5, 6, 7, 8]"
      ]
     },
     "execution_count": 29,
     "metadata": {},
     "output_type": "execute_result"
    }
   ],
   "source": [
    "# RETURN LIST WITH UNIQUE NUMBERS \n",
    "\n",
    "\n",
    "lst = [1,2,3,4,5,6,1,5,3,7,8]\n",
    "\n",
    "def unique(lst):\n",
    "    new = []\n",
    "    for i in lst : \n",
    "        if i not in new : \n",
    "            new.append(i)\n",
    "    return new \n",
    "unique(lst)\n"
   ]
  },
  {
   "cell_type": "markdown",
   "id": "e90ffcb8-bb33-437b-8864-b214bf0eb20a",
   "metadata": {},
   "source": [
    "**ARGUMENT VS PARAMETERS**"
   ]
  },
  {
   "cell_type": "markdown",
   "id": "2efcc25c-abe9-4cda-b3d6-35384433865b",
   "metadata": {},
   "source": [
    "    # Parameters : Values which we pass while defining the function \n",
    "    # Argument : Actual  value which we  pass wwhen calling a function "
   ]
  },
  {
   "cell_type": "code",
   "execution_count": 33,
   "id": "7dd6b238-3635-4f09-83cd-081d23b3bc94",
   "metadata": {},
   "outputs": [
    {
     "name": "stdout",
     "output_type": "stream",
     "text": [
      "Hey my name is  akshwin\n"
     ]
    }
   ],
   "source": [
    "def func(name): # parameter \n",
    "    print(\"Hey my name is \",name)\n",
    "    \n",
    "# argument \n",
    "func(\"akshwin\")"
   ]
  },
  {
   "cell_type": "markdown",
   "id": "6b27fd35-0f56-4039-81b9-27ddb8ff6f3e",
   "metadata": {},
   "source": [
    "**POSITIONAL ARGUMENT**"
   ]
  },
  {
   "cell_type": "markdown",
   "id": "1ba40ca8-b367-49dd-8802-e12fd203a563",
   "metadata": {},
   "source": [
    "    # Value you pass when calling a function are matched according to their position "
   ]
  },
  {
   "cell_type": "code",
   "execution_count": 37,
   "id": "185f0473-4a59-4071-af2e-979963b526e7",
   "metadata": {},
   "outputs": [],
   "source": [
    "def intro(name , hobby):\n",
    "    print(\"Hey my name is :\",name)\n",
    "    print(\"Hey my hobby is :\",hobby)"
   ]
  },
  {
   "cell_type": "code",
   "execution_count": 38,
   "id": "fa420962-2562-4a25-b394-8f71563457aa",
   "metadata": {},
   "outputs": [
    {
     "name": "stdout",
     "output_type": "stream",
     "text": [
      "Hey my name is : Rahul\n",
      "Hey my hobby is : Cycling\n"
     ]
    }
   ],
   "source": [
    "intro(\"Rahul\",\"Cycling\")"
   ]
  },
  {
   "cell_type": "markdown",
   "id": "3e04090c-0dda-4996-a3b9-338293789c91",
   "metadata": {},
   "source": [
    "**DEFAULT ARGUMENTS**"
   ]
  },
  {
   "cell_type": "markdown",
   "id": "67fc6c4f-ea1a-4a98-9199-d09bfb1ee9ee",
   "metadata": {},
   "source": [
    "    # Provide default values to parameters\n",
    "    # This is optional "
   ]
  },
  {
   "cell_type": "code",
   "execution_count": 39,
   "id": "7cd3db9e-e708-40ce-b838-d9ad02a66bb6",
   "metadata": {},
   "outputs": [],
   "source": [
    "def intro(name , hobby = \"None\"):\n",
    "    print(\"Hey my name is :\",name)\n",
    "    print(\"Hey my hobby is :\",hobby)"
   ]
  },
  {
   "cell_type": "code",
   "execution_count": 40,
   "id": "63ce9f4a-b41a-4912-a64d-c15d011be285",
   "metadata": {},
   "outputs": [
    {
     "name": "stdout",
     "output_type": "stream",
     "text": [
      "Hey my name is : akshwin\n",
      "Hey my hobby is : None\n"
     ]
    }
   ],
   "source": [
    "intro(\"akshwin\")"
   ]
  },
  {
   "cell_type": "code",
   "execution_count": 41,
   "id": "812cd478-7eae-4fd1-aabd-2b02927f7439",
   "metadata": {},
   "outputs": [
    {
     "name": "stdout",
     "output_type": "stream",
     "text": [
      "Hey my name is : akshwin\n",
      "Hey my hobby is : Harry potter\n"
     ]
    }
   ],
   "source": [
    "intro(\"akshwin\",\"Harry potter\")"
   ]
  },
  {
   "cell_type": "markdown",
   "id": "b7db49ec-4814-4a11-b707-2b051c17f949",
   "metadata": {},
   "source": [
    "**DEFAULT FOLLOWS NON DEFAULT**"
   ]
  },
  {
   "cell_type": "code",
   "execution_count": 42,
   "id": "aacd383b-2ac8-4c08-a926-6cb4510a937d",
   "metadata": {},
   "outputs": [],
   "source": [
    "def intro(name , hobby = \"None\"): # default should be at the end \n",
    "    print(\"Hey my name is :\",name)\n",
    "    print(\"Hey my hobby is :\",hobby)"
   ]
  },
  {
   "cell_type": "markdown",
   "id": "e0929953-fe7e-438f-b66f-7d6d33afd61b",
   "metadata": {},
   "source": [
    "**ARBITRARY ARGUMENTS**"
   ]
  },
  {
   "cell_type": "markdown",
   "id": "1338bd46-5c3e-4a98-bead-f997b2e72963",
   "metadata": {},
   "source": [
    "    # When number of values is not defined \n",
    "    # Values are stored in tuple "
   ]
  },
  {
   "cell_type": "code",
   "execution_count": 44,
   "id": "98e04d89-7778-4ba0-9913-7ef9bf859033",
   "metadata": {},
   "outputs": [],
   "source": [
    "def test(*args):\n",
    "    print(args)"
   ]
  },
  {
   "cell_type": "code",
   "execution_count": 45,
   "id": "732cc33e-490a-4246-a017-6dc7e491352e",
   "metadata": {},
   "outputs": [
    {
     "name": "stdout",
     "output_type": "stream",
     "text": [
      "(1,)\n"
     ]
    }
   ],
   "source": [
    "test(1)"
   ]
  },
  {
   "cell_type": "code",
   "execution_count": 46,
   "id": "d7ebb009-6b32-4e0c-a350-0d57672391c2",
   "metadata": {},
   "outputs": [
    {
     "name": "stdout",
     "output_type": "stream",
     "text": [
      "(1, 2, 3, 4, 5)\n"
     ]
    }
   ],
   "source": [
    "test(1,2,3,4,5)"
   ]
  },
  {
   "cell_type": "markdown",
   "id": "391e775c-9423-48d9-900a-ee46a9b13229",
   "metadata": {},
   "source": [
    "**KEYWORD ARGUMENT**"
   ]
  },
  {
   "cell_type": "markdown",
   "id": "26a6bc49-0dc4-4a67-9c5f-ecc87c1754aa",
   "metadata": {},
   "source": [
    "    # Varible number of key word argumentd \n",
    "    # It is stored in dictionary format "
   ]
  },
  {
   "cell_type": "code",
   "execution_count": 61,
   "id": "c1cc9e40-37ee-45a8-9f14-9144fb40e740",
   "metadata": {},
   "outputs": [],
   "source": [
    "def intro(**kwargs):\n",
    "    print(kwargs)\n",
    "    print(type(kwargs))"
   ]
  },
  {
   "cell_type": "code",
   "execution_count": 62,
   "id": "a4edf699-2e03-41c0-9f50-f591ac7dfe04",
   "metadata": {},
   "outputs": [
    {
     "name": "stdout",
     "output_type": "stream",
     "text": [
      "{'name': 'Rahul', 'age': 25}\n",
      "<class 'dict'>\n"
     ]
    }
   ],
   "source": [
    "intro(name = \"Rahul\",age = 25)"
   ]
  },
  {
   "cell_type": "code",
   "execution_count": 67,
   "id": "6742feb9-f052-43bf-b6df-04ec6c4a0c64",
   "metadata": {},
   "outputs": [],
   "source": [
    "def intro(**kwargs):\n",
    "    for key , values in kwargs.items():\n",
    "        print(key , values)"
   ]
  },
  {
   "cell_type": "code",
   "execution_count": 68,
   "id": "7478b32e-49ca-487d-be36-5a3bff71fc90",
   "metadata": {},
   "outputs": [
    {
     "name": "stdout",
     "output_type": "stream",
     "text": [
      "name Rahul\n",
      "age 25\n",
      "hobbies ['swim', 'read']\n"
     ]
    }
   ],
   "source": [
    "intro(name = \"Rahul\",age = 25,hobbies = ['swim','read'])"
   ]
  },
  {
   "cell_type": "code",
   "execution_count": 69,
   "id": "2a008e4c-8e74-4ecc-a9fa-0cce9a826d49",
   "metadata": {},
   "outputs": [],
   "source": [
    "def mix(a,b,c,age = 25,*args,**kwargs):\n",
    "    print(a,b,c,age,args,kwargs)"
   ]
  },
  {
   "cell_type": "code",
   "execution_count": 70,
   "id": "ca2ee630-fafb-4f26-89df-c813f8609c07",
   "metadata": {},
   "outputs": [
    {
     "name": "stdout",
     "output_type": "stream",
     "text": [
      "1 2 3 25 () {}\n"
     ]
    }
   ],
   "source": [
    "mix(1,2,3,)"
   ]
  },
  {
   "cell_type": "code",
   "execution_count": 72,
   "id": "e2b3d06a-bc67-4409-8ff7-3edbdac64f1d",
   "metadata": {},
   "outputs": [
    {
     "name": "stdout",
     "output_type": "stream",
     "text": [
      "1 2 3 9 (3,) {'name': 'ak'}\n"
     ]
    }
   ],
   "source": [
    "mix(1,2,3,9,3,name = 'ak')"
   ]
  },
  {
   "cell_type": "code",
   "execution_count": null,
   "id": "5c3a128c-4a9d-41f4-b431-b3be147c17f9",
   "metadata": {},
   "outputs": [],
   "source": [
    "## NOTE \n",
    "# Kwargs comes after args only "
   ]
  }
 ],
 "metadata": {
  "kernelspec": {
   "display_name": "Python 3 (ipykernel)",
   "language": "python",
   "name": "python3"
  },
  "language_info": {
   "codemirror_mode": {
    "name": "ipython",
    "version": 3
   },
   "file_extension": ".py",
   "mimetype": "text/x-python",
   "name": "python",
   "nbconvert_exporter": "python",
   "pygments_lexer": "ipython3",
   "version": "3.8.18"
  }
 },
 "nbformat": 4,
 "nbformat_minor": 5
}
