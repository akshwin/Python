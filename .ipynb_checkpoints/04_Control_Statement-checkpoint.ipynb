{
 "cells": [
  {
   "cell_type": "markdown",
   "id": "87c6dbf1-ca8d-452d-a552-a0cd2cab9589",
   "metadata": {},
   "source": [
    "# CONTROL STATEMENT "
   ]
  },
  {
   "cell_type": "code",
   "execution_count": 3,
   "id": "8b449e4f-dbfd-4dc7-95ec-d720c0ecab71",
   "metadata": {},
   "outputs": [
    {
     "name": "stdin",
     "output_type": "stream",
     "text": [
      " 34\n"
     ]
    },
    {
     "name": "stdout",
     "output_type": "stream",
     "text": [
      "You are eligible\n"
     ]
    }
   ],
   "source": [
    "# IF ELSE \n",
    "\n",
    "age = int(input())\n",
    "\n",
    "if age > 18 : \n",
    "    print(\"You are eligible\")\n",
    "else:\n",
    "    print(\"You are not eligible\")"
   ]
  },
  {
   "cell_type": "code",
   "execution_count": 6,
   "id": "05540252-dbb8-4415-adfd-a68ddf604d41",
   "metadata": {},
   "outputs": [
    {
     "name": "stdin",
     "output_type": "stream",
     "text": [
      " 34\n"
     ]
    },
    {
     "name": "stdout",
     "output_type": "stream",
     "text": [
      "You can eligible to drive \n"
     ]
    }
   ],
   "source": [
    "# NESTED IF ELSE \n",
    "\n",
    "age = int(input())\n",
    "\n",
    "if age > 18 : \n",
    "    if age > 65 : \n",
    "        print(\"Take rest\")\n",
    "    else: \n",
    "        print(\"You can eligible to drive \")\n",
    "else : \n",
    "    print(\"Wait till you turn 18\")"
   ]
  },
  {
   "cell_type": "code",
   "execution_count": 7,
   "id": "ab130ece-d761-4bad-b978-c16f1cbc9214",
   "metadata": {},
   "outputs": [
    {
     "name": "stdin",
     "output_type": "stream",
     "text": [
      " -1\n"
     ]
    },
    {
     "name": "stdout",
     "output_type": "stream",
     "text": [
      "Negative\n"
     ]
    }
   ],
   "source": [
    "# IF ELIF ELSE \n",
    "\n",
    "num = int (input())\n",
    "\n",
    "if num > 0 :\n",
    "    print(\"Positive\")\n",
    "elif num == 0 : \n",
    "    print(\"Zero\")\n",
    "else :\n",
    "    print(\"Negative\")\n"
   ]
  },
  {
   "cell_type": "code",
   "execution_count": 12,
   "id": "b456d120-6eb3-4443-bb52-103d1773ed6f",
   "metadata": {},
   "outputs": [
    {
     "name": "stdout",
     "output_type": "stream",
     "text": [
      "100\n"
     ]
    }
   ],
   "source": [
    "# PRINT LARGEST\n",
    "\n",
    "marks = [90,30,100,80,95]\n",
    "\n",
    "highest = marks[0]\n",
    "for i in marks :  \n",
    "    if i > highest :\n",
    "        highest = i\n",
    "print(highest)"
   ]
  },
  {
   "cell_type": "code",
   "execution_count": 15,
   "id": "b704ac44-ee35-4a1b-8ab8-d77a2eb6f541",
   "metadata": {},
   "outputs": [
    {
     "name": "stdin",
     "output_type": "stream",
     "text": [
      " 45\n"
     ]
    },
    {
     "name": "stdout",
     "output_type": "stream",
     "text": [
      "E\n"
     ]
    }
   ],
   "source": [
    "# GRADING SYSTEM \n",
    "\n",
    "marks = int (input())\n",
    "if marks >= 90 : \n",
    "    print(\"A\")\n",
    "elif marks <90 and marks >=80:\n",
    "    print(\"B\")\n",
    "elif marks < 80 and marks >=70 :\n",
    "    print(\"C\")\n",
    "elif marks<70 and marks >=60:\n",
    "    print(\"D\")\n",
    "elif marks < 60 : \n",
    "    print(\"E\")\n",
    "else :\n",
    "    print(\"Invalid\")"
   ]
  }
 ],
 "metadata": {
  "kernelspec": {
   "display_name": "Python 3 (ipykernel)",
   "language": "python",
   "name": "python3"
  },
  "language_info": {
   "codemirror_mode": {
    "name": "ipython",
    "version": 3
   },
   "file_extension": ".py",
   "mimetype": "text/x-python",
   "name": "python",
   "nbconvert_exporter": "python",
   "pygments_lexer": "ipython3",
   "version": "3.8.18"
  }
 },
 "nbformat": 4,
 "nbformat_minor": 5
}
