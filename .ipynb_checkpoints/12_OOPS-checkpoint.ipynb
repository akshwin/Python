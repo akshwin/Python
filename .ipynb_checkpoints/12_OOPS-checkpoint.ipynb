{
 "cells": [
  {
   "cell_type": "markdown",
   "id": "096d7e15-3f05-4e98-b0e5-0381cd2d3e58",
   "metadata": {},
   "source": [
    "# OOPS"
   ]
  },
  {
   "cell_type": "markdown",
   "id": "392ea1ef-e5df-489e-bf22-1f183357fa2d",
   "metadata": {},
   "source": [
    "    # Object oriented programming \n",
    "    # It contains Class , Object , Inheritance , Polymorphism , Abstrction , Encapsulation"
   ]
  },
  {
   "cell_type": "markdown",
   "id": "6ac73091-a521-4a80-bb21-77da3896df4d",
   "metadata": {},
   "source": [
    "    # Class  -> template or blueprint with attribute and behaviour \n",
    "    # Abstraction -> Display inly essential information and hiding the details \n",
    "    # Encapsulation -> Bundling data into single unit \n",
    "    # Inheritance -> Class derived from another class \n",
    "    # Polymorphism -> Same class can work differnetly for differnt objects "
   ]
  },
  {
   "cell_type": "markdown",
   "id": "8ad4f155-e0b7-441a-9c96-ad3369617b8c",
   "metadata": {},
   "source": [
    "**CLASSES AND OBJECTS**"
   ]
  },
  {
   "cell_type": "code",
   "execution_count": 31,
   "id": "6d824d7e-1a36-4fea-9d04-bc8b2accb5b5",
   "metadata": {},
   "outputs": [],
   "source": [
    "class Car : # class \n",
    "    pass"
   ]
  },
  {
   "cell_type": "code",
   "execution_count": 32,
   "id": "15158638-790e-4d9b-83a0-667b679647ec",
   "metadata": {},
   "outputs": [],
   "source": [
    "# Object -> Instance of the class .It has all properties of the class "
   ]
  },
  {
   "cell_type": "code",
   "execution_count": 33,
   "id": "dfdb202d-d9f5-4cb8-ae89-33624e2beced",
   "metadata": {},
   "outputs": [],
   "source": [
    "honda = Car()"
   ]
  },
  {
   "cell_type": "code",
   "execution_count": 34,
   "id": "ef788839-e48b-4b18-a322-a3c1dadfb37e",
   "metadata": {},
   "outputs": [
    {
     "data": {
      "text/plain": [
       "__main__.Car"
      ]
     },
     "execution_count": 34,
     "metadata": {},
     "output_type": "execute_result"
    }
   ],
   "source": [
    "type(honda)"
   ]
  },
  {
   "cell_type": "code",
   "execution_count": 35,
   "id": "ff1793b6-ec71-48e0-8e87-03ddf9a122a2",
   "metadata": {},
   "outputs": [
    {
     "data": {
      "text/plain": [
       "int"
      ]
     },
     "execution_count": 35,
     "metadata": {},
     "output_type": "execute_result"
    }
   ],
   "source": [
    "type(1)"
   ]
  },
  {
   "cell_type": "markdown",
   "id": "feb46821-b272-4384-a9f6-78304c1a380f",
   "metadata": {},
   "source": [
    "**CLASS CONSTRUCTOR**"
   ]
  },
  {
   "cell_type": "markdown",
   "id": "1fb802ae-36e3-49be-a5fb-8a89e1d89815",
   "metadata": {},
   "source": [
    "    # Special Method used to create and initiate an objeect of a class \n",
    "    # This is defined in the class \n",
    "    # Executed automatically at the time of execution "
   ]
  },
  {
   "cell_type": "code",
   "execution_count": 36,
   "id": "044402f9-61f5-4abd-b2e4-ed7cd1c176c8",
   "metadata": {},
   "outputs": [],
   "source": [
    "class Human:\n",
    "    # __ -> dunder \n",
    "    def __init__(self):\n",
    "        print(\"This will always print\")"
   ]
  },
  {
   "cell_type": "code",
   "execution_count": 37,
   "id": "bf65df0f-fc30-4485-972a-13bc357c6acc",
   "metadata": {},
   "outputs": [
    {
     "name": "stdout",
     "output_type": "stream",
     "text": [
      "This will always print\n"
     ]
    }
   ],
   "source": [
    "rahul = Human()"
   ]
  },
  {
   "cell_type": "code",
   "execution_count": 38,
   "id": "1861e4d2-7646-4681-aee5-06c9bf146fdc",
   "metadata": {},
   "outputs": [
    {
     "name": "stdout",
     "output_type": "stream",
     "text": [
      "This will always print\n"
     ]
    }
   ],
   "source": [
    "emma = Human()"
   ]
  },
  {
   "cell_type": "code",
   "execution_count": 39,
   "id": "e02b3594-47f6-4b16-a39b-37122137757e",
   "metadata": {},
   "outputs": [
    {
     "data": {
      "text/plain": [
       "__main__.Human"
      ]
     },
     "execution_count": 39,
     "metadata": {},
     "output_type": "execute_result"
    }
   ],
   "source": [
    "type(emma)"
   ]
  },
  {
   "cell_type": "code",
   "execution_count": 40,
   "id": "96d27b30-c830-42be-9d48-671e46d56aca",
   "metadata": {},
   "outputs": [
    {
     "name": "stdout",
     "output_type": "stream",
     "text": [
      "<__main__.Human object at 0x000002361FC5C700>\n"
     ]
    }
   ],
   "source": [
    "print(emma)"
   ]
  },
  {
   "cell_type": "code",
   "execution_count": 41,
   "id": "cfa9bd8b-4173-44ce-9146-5460aaacf05c",
   "metadata": {},
   "outputs": [],
   "source": [
    "class Human:\n",
    "\n",
    "    def __init__(self, name , age , hobby):\n",
    "        self.name = name \n",
    "        self.age = age \n",
    "        self.hobby = hobby"
   ]
  },
  {
   "cell_type": "code",
   "execution_count": 42,
   "id": "ea09b998-6945-44bb-838e-aa5065c7d353",
   "metadata": {},
   "outputs": [],
   "source": [
    "tony = Human('tony',50,'read')"
   ]
  },
  {
   "cell_type": "code",
   "execution_count": 43,
   "id": "dd8e94a1-8b82-4f8b-894b-b79287e0cd01",
   "metadata": {},
   "outputs": [
    {
     "data": {
      "text/plain": [
       "'tony'"
      ]
     },
     "execution_count": 43,
     "metadata": {},
     "output_type": "execute_result"
    }
   ],
   "source": [
    "tony.name"
   ]
  },
  {
   "cell_type": "code",
   "execution_count": 44,
   "id": "8cce3cf0-e7d7-484a-9ca0-bd7ec33a2df1",
   "metadata": {},
   "outputs": [
    {
     "data": {
      "text/plain": [
       "50"
      ]
     },
     "execution_count": 44,
     "metadata": {},
     "output_type": "execute_result"
    }
   ],
   "source": [
    "tony.age"
   ]
  },
  {
   "cell_type": "markdown",
   "id": "08a47d70-ce4c-41b6-b77a-cd88ce52aecc",
   "metadata": {},
   "source": [
    "**CLASS METHODS**"
   ]
  },
  {
   "cell_type": "code",
   "execution_count": 45,
   "id": "0eb1126c-4b7f-4acd-bb48-3dccab19b96d",
   "metadata": {},
   "outputs": [],
   "source": [
    "class human: \n",
    "    def __init__(self, name , age , hobby):\n",
    "        self.name = name \n",
    "        self.age = age \n",
    "        self.hobby = hobby\n",
    "    def greet(self): \n",
    "        print(f\"Hey my name is {self.name} Good morining\")"
   ]
  },
  {
   "cell_type": "code",
   "execution_count": 46,
   "id": "3892f9ba-aab6-4e81-af4c-33293506b0b0",
   "metadata": {},
   "outputs": [],
   "source": [
    "ak = human('ak',20,'Ml')"
   ]
  },
  {
   "cell_type": "code",
   "execution_count": 47,
   "id": "210dca89-7c9f-49fb-8980-ac9d9d0eb5f8",
   "metadata": {},
   "outputs": [
    {
     "name": "stdout",
     "output_type": "stream",
     "text": [
      "Hey my name is ak Good morining\n"
     ]
    }
   ],
   "source": [
    "ak.greet()"
   ]
  },
  {
   "cell_type": "code",
   "execution_count": 48,
   "id": "cb68035e-98e9-496a-8d9a-3b9c89a5db63",
   "metadata": {},
   "outputs": [],
   "source": [
    "emma = human('emma',32,'act')"
   ]
  },
  {
   "cell_type": "code",
   "execution_count": 49,
   "id": "79e2a1b6-145c-4859-8478-53adf3573070",
   "metadata": {},
   "outputs": [
    {
     "name": "stdout",
     "output_type": "stream",
     "text": [
      "Hey my name is emma Good morining\n"
     ]
    }
   ],
   "source": [
    "emma.greet()"
   ]
  },
  {
   "cell_type": "code",
   "execution_count": 50,
   "id": "9fc90ffa-23f8-4bba-8f92-2f9ee70901f3",
   "metadata": {},
   "outputs": [],
   "source": [
    "emma.nationality = 'British'"
   ]
  },
  {
   "cell_type": "code",
   "execution_count": 51,
   "id": "5e84a264-0954-40ca-8f4c-961faef65885",
   "metadata": {},
   "outputs": [
    {
     "data": {
      "text/plain": [
       "'British'"
      ]
     },
     "execution_count": 51,
     "metadata": {},
     "output_type": "execute_result"
    }
   ],
   "source": [
    "emma.nationality # not in human class "
   ]
  },
  {
   "cell_type": "markdown",
   "id": "b9c91e20-2f0b-453d-8008-43982d840bce",
   "metadata": {},
   "source": [
    "**CLASS VARIBALES**"
   ]
  },
  {
   "cell_type": "code",
   "execution_count": 52,
   "id": "63d67d5b-5475-4d84-a9b8-a4d735f17352",
   "metadata": {},
   "outputs": [],
   "source": [
    "class human:\n",
    "\n",
    "    # class variables \n",
    "    population = 0 \n",
    "    data = []\n",
    "    \n",
    "    def __init__(self , name , age):\n",
    "        self.name = name \n",
    "        self.age = age\n",
    "        human.population+=1\n",
    "        human.data.append(self.name)\n",
    "        \n",
    "    def greet(self):\n",
    "        print(\"Hey my name is {self.name}\")"
   ]
  },
  {
   "cell_type": "code",
   "execution_count": 53,
   "id": "7e1fb28f-c6fd-41b8-9d2a-9a81a246e41b",
   "metadata": {},
   "outputs": [],
   "source": [
    "rahul = human('rahul',32)"
   ]
  },
  {
   "cell_type": "code",
   "execution_count": 54,
   "id": "3553af23-86fd-496d-9e75-6e4dde79ee8a",
   "metadata": {},
   "outputs": [
    {
     "data": {
      "text/plain": [
       "1"
      ]
     },
     "execution_count": 54,
     "metadata": {},
     "output_type": "execute_result"
    }
   ],
   "source": [
    "human.population"
   ]
  },
  {
   "cell_type": "code",
   "execution_count": 55,
   "id": "2a0c90b4-2908-4593-a24c-6fb87e38411b",
   "metadata": {},
   "outputs": [],
   "source": [
    "emma = human('emma',32)"
   ]
  },
  {
   "cell_type": "code",
   "execution_count": 56,
   "id": "23e3d0fd-1d96-4e0d-af8f-3099e09c0582",
   "metadata": {},
   "outputs": [
    {
     "data": {
      "text/plain": [
       "2"
      ]
     },
     "execution_count": 56,
     "metadata": {},
     "output_type": "execute_result"
    }
   ],
   "source": [
    "human.population"
   ]
  },
  {
   "cell_type": "code",
   "execution_count": 57,
   "id": "2151fe0a-bcca-447a-8fc1-222f0c5ac03b",
   "metadata": {},
   "outputs": [
    {
     "data": {
      "text/plain": [
       "['rahul', 'emma']"
      ]
     },
     "execution_count": 57,
     "metadata": {},
     "output_type": "execute_result"
    }
   ],
   "source": [
    "human.data"
   ]
  },
  {
   "cell_type": "code",
   "execution_count": 58,
   "id": "29d79893-c369-451f-be5d-f157dd1ed62c",
   "metadata": {},
   "outputs": [],
   "source": [
    "class human:\n",
    "\n",
    "    # class variables \n",
    "    population = 0 \n",
    "    data = []\n",
    "    \n",
    "    def __init__(self , name , age , alive = True):\n",
    "        self.name = name \n",
    "        self.age = age\n",
    "        self.alive = alive \n",
    "        human.population+=1\n",
    "        human.data.append(self.name)\n",
    "        \n",
    "    def greet(self):\n",
    "        print(\"Hey my name is {self.name}\")\n",
    "    def dead(self):\n",
    "        if self.alive : \n",
    "            print(self.name , \" is no more\")\n",
    "            human.population -=1\n",
    "            self.alive = False \n",
    "        else : \n",
    "            print(\"This person is already dead\")"
   ]
  },
  {
   "cell_type": "code",
   "execution_count": 59,
   "id": "c6421c2b-b036-4b8b-b756-4fe4aa0cc4f0",
   "metadata": {},
   "outputs": [],
   "source": [
    "ram = human('ram',12)"
   ]
  },
  {
   "cell_type": "code",
   "execution_count": 60,
   "id": "85870a41-d509-4259-958e-cf6b393789b3",
   "metadata": {},
   "outputs": [
    {
     "data": {
      "text/plain": [
       "1"
      ]
     },
     "execution_count": 60,
     "metadata": {},
     "output_type": "execute_result"
    }
   ],
   "source": [
    "human.population "
   ]
  },
  {
   "cell_type": "code",
   "execution_count": 61,
   "id": "faceced6-beb2-4576-8cee-7e7ebe4f796f",
   "metadata": {},
   "outputs": [
    {
     "name": "stdout",
     "output_type": "stream",
     "text": [
      "ram  is no more\n"
     ]
    }
   ],
   "source": [
    "ram.dead()"
   ]
  },
  {
   "cell_type": "code",
   "execution_count": 62,
   "id": "52d2ee1c-de3b-4351-907d-e6bd9d3ec514",
   "metadata": {},
   "outputs": [
    {
     "data": {
      "text/plain": [
       "0"
      ]
     },
     "execution_count": 62,
     "metadata": {},
     "output_type": "execute_result"
    }
   ],
   "source": [
    "human.population"
   ]
  },
  {
   "cell_type": "code",
   "execution_count": 63,
   "id": "98501f43-bf30-475d-a1ec-5f626ace539e",
   "metadata": {},
   "outputs": [
    {
     "name": "stdout",
     "output_type": "stream",
     "text": [
      "This person is already dead\n"
     ]
    }
   ],
   "source": [
    "ram.dead()"
   ]
  },
  {
   "cell_type": "markdown",
   "id": "daf2be9f-195b-4c91-a43b-b92a3fe54a2c",
   "metadata": {},
   "source": [
    "**INHERITANCE**"
   ]
  },
  {
   "cell_type": "code",
   "execution_count": 64,
   "id": "e697446e-cd93-48cc-bb12-b3afb501d454",
   "metadata": {},
   "outputs": [],
   "source": [
    "class Human : \n",
    "\n",
    "    population = 0 \n",
    "    data = []\n",
    "    def __init__(self , name , age , alive = True):\n",
    "        self.name =name \n",
    "        self.age = age \n",
    "        self.alive = alive\n",
    "\n",
    "        Human.population +=1\n",
    "        Human.data.append(self.name)\n",
    "\n",
    "    def greet(self):\n",
    "        print(f\"Hey my name is {self.name},Good morning\")\n",
    "    def dead(self):\n",
    "        if self.alive :\n",
    "            print(self.name , \"is no more\")\n",
    "            Human.population-=1\n",
    "            self.alive = False \n",
    "        else : \n",
    "            print(\"The preson is already dead\")\n",
    "    def child(self,number):\n",
    "        Human.population+=number"
   ]
  },
  {
   "cell_type": "code",
   "execution_count": 65,
   "id": "34c7bf35-5dd8-40b3-81e0-671e5912a9c3",
   "metadata": {},
   "outputs": [],
   "source": [
    "rahul = Human('rahul',24)\n",
    "emma = Human('emma',34)"
   ]
  },
  {
   "cell_type": "code",
   "execution_count": 66,
   "id": "ecad0fac-0a6a-4fad-a6a4-72371b5a649e",
   "metadata": {},
   "outputs": [],
   "source": [
    "class Employee(Human):\n",
    "    def __init__(self,name,age ,company,post):\n",
    "        super().__init__(name,age)# every attribute in base class \n",
    "        # attributed for employee class \n",
    "        self.company = company \n",
    "        self.post = post"
   ]
  },
  {
   "cell_type": "code",
   "execution_count": 67,
   "id": "ec3afb19-984b-4df8-9801-dfc961f8a0c6",
   "metadata": {},
   "outputs": [],
   "source": [
    "rahul = Human('rahul',24)\n",
    "emma = Human('emma',34)"
   ]
  },
  {
   "cell_type": "code",
   "execution_count": 68,
   "id": "bdad0905-546c-4f3e-aee0-993997f521ae",
   "metadata": {},
   "outputs": [],
   "source": [
    "rohit = Employee('Rohit','23','Google','Manager')"
   ]
  },
  {
   "cell_type": "code",
   "execution_count": 69,
   "id": "ef0cfa04-582b-4031-80ae-490033fef03d",
   "metadata": {},
   "outputs": [
    {
     "data": {
      "text/plain": [
       "5"
      ]
     },
     "execution_count": 69,
     "metadata": {},
     "output_type": "execute_result"
    }
   ],
   "source": [
    "Human.population"
   ]
  },
  {
   "cell_type": "code",
   "execution_count": 71,
   "id": "ab5bac53-3376-4e27-9cea-dd2afbfbe872",
   "metadata": {},
   "outputs": [
    {
     "data": {
      "text/plain": [
       "'Rohit'"
      ]
     },
     "execution_count": 71,
     "metadata": {},
     "output_type": "execute_result"
    }
   ],
   "source": [
    "rohit.name"
   ]
  },
  {
   "cell_type": "code",
   "execution_count": 72,
   "id": "ed49712b-e570-44d0-9ae1-c71ceee2fe13",
   "metadata": {},
   "outputs": [
    {
     "data": {
      "text/plain": [
       "'Google'"
      ]
     },
     "execution_count": 72,
     "metadata": {},
     "output_type": "execute_result"
    }
   ],
   "source": [
    "rohit.company"
   ]
  },
  {
   "cell_type": "code",
   "execution_count": 73,
   "id": "8d2b8785-5bcd-4565-949d-f922da815e4e",
   "metadata": {},
   "outputs": [],
   "source": [
    "class Employee(Human):\n",
    "    def __init__(self,name,age ,company,post):\n",
    "        super().__init__(name,age)# every attribute in base class \n",
    "        # attributed for employee class \n",
    "        self.company = company \n",
    "        self.post = post\n",
    "\n",
    "    def hire ( self , person):\n",
    "        print(f\"{person} has been hired\")\n",
    "        Human.data.append(person)\n",
    "        Human.population+=1"
   ]
  },
  {
   "cell_type": "code",
   "execution_count": 74,
   "id": "1dac0877-3f3a-4081-94a3-22d4f2972ca9",
   "metadata": {},
   "outputs": [],
   "source": [
    "rahul = Human('rahul',24)\n",
    "emma = Human('emma',34)"
   ]
  },
  {
   "cell_type": "code",
   "execution_count": 75,
   "id": "703b63fb-c03b-42e2-9f22-6d50825f2224",
   "metadata": {},
   "outputs": [
    {
     "data": {
      "text/plain": [
       "7"
      ]
     },
     "execution_count": 75,
     "metadata": {},
     "output_type": "execute_result"
    }
   ],
   "source": [
    "Human.population"
   ]
  },
  {
   "cell_type": "code",
   "execution_count": 76,
   "id": "0cf53a23-17a2-45fd-bca9-9d81128ed617",
   "metadata": {},
   "outputs": [],
   "source": [
    "rohit = Employee('Rohit','23','Google','Manager')"
   ]
  },
  {
   "cell_type": "code",
   "execution_count": 77,
   "id": "8ce427de-252c-4a6c-bafa-f16c9d3ee979",
   "metadata": {},
   "outputs": [
    {
     "data": {
      "text/plain": [
       "8"
      ]
     },
     "execution_count": 77,
     "metadata": {},
     "output_type": "execute_result"
    }
   ],
   "source": [
    "Human.population"
   ]
  },
  {
   "cell_type": "code",
   "execution_count": 78,
   "id": "589d5d22-9c44-46c7-a993-3f73424ef508",
   "metadata": {},
   "outputs": [
    {
     "data": {
      "text/plain": [
       "['rahul', 'emma', 'rahul', 'emma', 'Rohit', 'rahul', 'emma', 'Rohit']"
      ]
     },
     "execution_count": 78,
     "metadata": {},
     "output_type": "execute_result"
    }
   ],
   "source": [
    "Human.data"
   ]
  },
  {
   "cell_type": "code",
   "execution_count": 79,
   "id": "562b9ace-8dae-4d1c-8b0a-269d9b44cc1f",
   "metadata": {},
   "outputs": [
    {
     "name": "stdout",
     "output_type": "stream",
     "text": [
      "harry has been hired\n"
     ]
    }
   ],
   "source": [
    "rohit.hire('harry')"
   ]
  },
  {
   "cell_type": "code",
   "execution_count": 80,
   "id": "a0f9e7ab-cbab-4342-bd01-a6248e3188cd",
   "metadata": {},
   "outputs": [
    {
     "data": {
      "text/plain": [
       "9"
      ]
     },
     "execution_count": 80,
     "metadata": {},
     "output_type": "execute_result"
    }
   ],
   "source": [
    "Human.population"
   ]
  },
  {
   "cell_type": "markdown",
   "id": "c98e7421-4470-4e15-816f-ebcf54c17790",
   "metadata": {},
   "source": [
    "**POLYMORPHISM**"
   ]
  },
  {
   "cell_type": "markdown",
   "id": "8a1ace09-b1f8-4f35-b4e8-613bd7109933",
   "metadata": {},
   "source": [
    "    # Same class method can work differently for differnt objects\n",
    "    # Functional Polymorphism \n",
    "    # Operator level Polymorphism"
   ]
  },
  {
   "cell_type": "markdown",
   "id": "d3889196-09f5-4200-925b-31c550d3e4a1",
   "metadata": {},
   "source": [
    "**OPERATOR LEVEL POLYMORPHISM**"
   ]
  },
  {
   "cell_type": "code",
   "execution_count": 81,
   "id": "0e9db78e-d1de-471c-af0e-172977b54278",
   "metadata": {},
   "outputs": [],
   "source": [
    "# Same opearator work differently for differnlt objects "
   ]
  },
  {
   "cell_type": "code",
   "execution_count": 82,
   "id": "c7b9503f-c28c-4e2f-9058-a8ca66e34279",
   "metadata": {},
   "outputs": [],
   "source": [
    "a = 2 \n",
    "b = 4 "
   ]
  },
  {
   "cell_type": "code",
   "execution_count": 83,
   "id": "7402fde1-3973-420a-b647-ac836bdf0530",
   "metadata": {},
   "outputs": [
    {
     "data": {
      "text/plain": [
       "6"
      ]
     },
     "execution_count": 83,
     "metadata": {},
     "output_type": "execute_result"
    }
   ],
   "source": [
    "a + b "
   ]
  },
  {
   "cell_type": "code",
   "execution_count": 84,
   "id": "e22b0621-a50d-420e-9ef4-55cb72463bfd",
   "metadata": {},
   "outputs": [
    {
     "data": {
      "text/plain": [
       "'22'"
      ]
     },
     "execution_count": 84,
     "metadata": {},
     "output_type": "execute_result"
    }
   ],
   "source": [
    "\"2\" + \"2\""
   ]
  },
  {
   "cell_type": "code",
   "execution_count": 85,
   "id": "9497abd6-018b-4c17-9862-614bd5dedb3f",
   "metadata": {},
   "outputs": [
    {
     "data": {
      "text/plain": [
       "4"
      ]
     },
     "execution_count": 85,
     "metadata": {},
     "output_type": "execute_result"
    }
   ],
   "source": [
    "2*2"
   ]
  },
  {
   "cell_type": "code",
   "execution_count": 86,
   "id": "a070d69f-da56-4697-a522-f9b6eb7f33da",
   "metadata": {},
   "outputs": [
    {
     "data": {
      "text/plain": [
       "'RamRam'"
      ]
     },
     "execution_count": 86,
     "metadata": {},
     "output_type": "execute_result"
    }
   ],
   "source": [
    "2 * \"Ram\""
   ]
  },
  {
   "cell_type": "markdown",
   "id": "6e3fa712-698b-45af-be58-d3e0cf86a1d0",
   "metadata": {},
   "source": [
    "**FUNCTIONAL POLYMORPHISM**"
   ]
  },
  {
   "cell_type": "code",
   "execution_count": null,
   "id": "e3871819-4df7-46e0-868a-66e46ddcd0ac",
   "metadata": {},
   "outputs": [],
   "source": [
    "# len \n",
    "# custom \n",
    "# sum "
   ]
  },
  {
   "cell_type": "code",
   "execution_count": 87,
   "id": "fe7fb6e0-6ef4-4a36-9c3f-ff034d9aac9b",
   "metadata": {},
   "outputs": [
    {
     "data": {
      "text/plain": [
       "6"
      ]
     },
     "execution_count": 87,
     "metadata": {},
     "output_type": "execute_result"
    }
   ],
   "source": [
    "l = [1,2,3,4,5,6]\n",
    "len(l)"
   ]
  },
  {
   "cell_type": "code",
   "execution_count": 88,
   "id": "55c98c7f-c701-45c8-9c40-2ddec8ab3f5c",
   "metadata": {},
   "outputs": [
    {
     "data": {
      "text/plain": [
       "3"
      ]
     },
     "execution_count": 88,
     "metadata": {},
     "output_type": "execute_result"
    }
   ],
   "source": [
    "len(\"SAM\")"
   ]
  },
  {
   "cell_type": "code",
   "execution_count": 92,
   "id": "66e4cc96-2745-4476-b45c-93f0f16e6408",
   "metadata": {},
   "outputs": [
    {
     "data": {
      "text/plain": [
       "21"
      ]
     },
     "execution_count": 92,
     "metadata": {},
     "output_type": "execute_result"
    }
   ],
   "source": [
    "sum(l)"
   ]
  },
  {
   "cell_type": "code",
   "execution_count": 93,
   "id": "37aa52f9-4d12-4999-aedb-ed6ac3b013e3",
   "metadata": {},
   "outputs": [
    {
     "data": {
      "text/plain": [
       "2"
      ]
     },
     "execution_count": 93,
     "metadata": {},
     "output_type": "execute_result"
    }
   ],
   "source": [
    "def mul(*args):\n",
    "    total = 1\n",
    "    for i in args : \n",
    "        total*=i\n",
    "    return total\n",
    "mul(1,2)"
   ]
  },
  {
   "cell_type": "code",
   "execution_count": 94,
   "id": "0b249331-5376-4d5b-a46e-ce15e5922839",
   "metadata": {},
   "outputs": [
    {
     "data": {
      "text/plain": [
       "12"
      ]
     },
     "execution_count": 94,
     "metadata": {},
     "output_type": "execute_result"
    }
   ],
   "source": [
    "mul(3,4)"
   ]
  },
  {
   "cell_type": "code",
   "execution_count": 95,
   "id": "04a7c6d3-6b3f-4628-8232-5eb406247549",
   "metadata": {},
   "outputs": [],
   "source": [
    "class Human : \n",
    "    def speak(self,language):\n",
    "        print(\"I speak\",language)"
   ]
  },
  {
   "cell_type": "code",
   "execution_count": 96,
   "id": "1c7361f1-17f3-4319-adfc-c4af3e6adafd",
   "metadata": {},
   "outputs": [],
   "source": [
    "h1 = Human()"
   ]
  },
  {
   "cell_type": "code",
   "execution_count": 97,
   "id": "31dac8f5-44b9-4bd1-a5b4-b5dd4202351e",
   "metadata": {},
   "outputs": [],
   "source": [
    "h2 = Human()"
   ]
  },
  {
   "cell_type": "code",
   "execution_count": 100,
   "id": "477f59f5-ea60-4728-9f56-8c195f27a962",
   "metadata": {},
   "outputs": [
    {
     "name": "stdout",
     "output_type": "stream",
     "text": [
      "I speak Hindi\n"
     ]
    }
   ],
   "source": [
    "h1.speak('Hindi')"
   ]
  },
  {
   "cell_type": "code",
   "execution_count": 101,
   "id": "5a6555f0-e710-44fa-95ba-ef0875d4a281",
   "metadata": {},
   "outputs": [
    {
     "name": "stdout",
     "output_type": "stream",
     "text": [
      "I speak French\n"
     ]
    }
   ],
   "source": [
    "h2.speak('French')"
   ]
  }
 ],
 "metadata": {
  "kernelspec": {
   "display_name": "Python 3 (ipykernel)",
   "language": "python",
   "name": "python3"
  },
  "language_info": {
   "codemirror_mode": {
    "name": "ipython",
    "version": 3
   },
   "file_extension": ".py",
   "mimetype": "text/x-python",
   "name": "python",
   "nbconvert_exporter": "python",
   "pygments_lexer": "ipython3",
   "version": "3.8.18"
  }
 },
 "nbformat": 4,
 "nbformat_minor": 5
}
